{
 "cells": [
  {
   "cell_type": "code",
   "execution_count": 1,
   "metadata": {},
   "outputs": [],
   "source": [
    "import numpy as np\n",
    "import json"
   ]
  },
  {
   "cell_type": "code",
   "execution_count": 17,
   "metadata": {},
   "outputs": [
    {
     "name": "stdout",
     "output_type": "stream",
     "text": [
      "TZ\n"
     ]
    }
   ],
   "source": [
    "# save H4 as numpy array\n",
    "\n",
    "f = open(\"data/h4/H4_Hinde_QZ.txt\")\n",
    "data = json.load(f)\n",
    "H4 = np.array(data['data'])\n",
    "np.savetxt(\"data/h4/h4_QZ_data.txt\", H4)\n",
    "\n",
    "f = open(\"data/h4/H4_Hinde_TZ.txt\")\n",
    "data = json.load(f)\n",
    "H4 = np.array(data['data'])\n",
    "np.savetxt(\"data/h4/h4_TZ_data.txt\", H4)\n",
    "\n",
    "\n",
    "\n"
   ]
  },
  {
   "cell_type": "code",
   "execution_count": 24,
   "metadata": {},
   "outputs": [
    {
     "data": {
      "text/plain": [
       "array([[ 1.1       ,  4.25      ,  3.15      ,  5.35      ,  4.25      ,\n",
       "         1.1       ],\n",
       "       [ 1.1       ,  4.10736224,  3.33385294,  5.20346267,  4.42820237,\n",
       "         1.1       ],\n",
       "       [ 1.1       ,  3.74065502,  3.74065502,  4.83140766,  4.83140766,\n",
       "         1.1       ],\n",
       "       ...,\n",
       "       [ 1.7       , 12.        , 12.11981848, 12.11981848, 12.        ,\n",
       "         1.7       ],\n",
       "       [ 1.7       , 12.01762167, 12.10234561, 12.10234561, 12.01762167,\n",
       "         1.7       ],\n",
       "       [ 1.7       , 12.06005804, 12.06005804, 12.06005804, 12.06005804,\n",
       "         1.7       ]])"
      ]
     },
     "execution_count": 24,
     "metadata": {},
     "output_type": "execute_result"
    }
   ],
   "source": [
    "# transform to coordinates:\n",
    "np.loadtxt(\"data/h4/h4_QZ_data.txt\")"
   ]
  },
  {
   "cell_type": "code",
   "execution_count": null,
   "metadata": {},
   "outputs": [],
   "source": []
  }
 ],
 "metadata": {
  "kernelspec": {
   "display_name": "Python 3",
   "language": "python",
   "name": "python3"
  },
  "language_info": {
   "codemirror_mode": {
    "name": "ipython",
    "version": 3
   },
   "file_extension": ".py",
   "mimetype": "text/x-python",
   "name": "python",
   "nbconvert_exporter": "python",
   "pygments_lexer": "ipython3",
   "version": "3.7.3"
  }
 },
 "nbformat": 4,
 "nbformat_minor": 2
}
