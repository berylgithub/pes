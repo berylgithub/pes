{
 "cells": [
  {
   "cell_type": "markdown",
   "metadata": {},
   "source": [
    "# Julia version of bonding models for PES !!"
   ]
  },
  {
   "cell_type": "markdown",
   "metadata": {},
   "source": [
    "### Basic Optimization tests"
   ]
  },
  {
   "cell_type": "code",
   "execution_count": 88,
   "metadata": {},
   "outputs": [],
   "source": [
    "using Optim"
   ]
  },
  {
   "cell_type": "code",
   "execution_count": 94,
   "metadata": {},
   "outputs": [
    {
     "data": {
      "text/plain": [
       " * Status: success\n",
       "\n",
       " * Candidate solution\n",
       "    Final objective value:     5.264694e-17\n",
       "\n",
       " * Found with\n",
       "    Algorithm:     BFGS\n",
       "\n",
       " * Convergence measures\n",
       "    |x - x'|               = 9.47e-08 ≰ 0.0e+00\n",
       "    |x - x'|/|x'|          = 9.47e-08 ≰ 0.0e+00\n",
       "    |f(x) - f(x')|         = 3.53e-15 ≰ 0.0e+00\n",
       "    |f(x) - f(x')|/|f(x')| = 6.71e+01 ≰ 0.0e+00\n",
       "    |g(x)|                 = 3.92e-10 ≤ 1.0e-08\n",
       "\n",
       " * Work counters\n",
       "    Seconds run:   0  (vs limit Inf)\n",
       "    Iterations:    15\n",
       "    f(x) calls:    46\n",
       "    ∇f(x) calls:   46\n"
      ]
     },
     "execution_count": 94,
     "metadata": {},
     "output_type": "execute_result"
    }
   ],
   "source": [
    "# standard opt:\n",
    "rosenbrock(x) =  (1.0 - x[1])^2 + 99.0 * (x[2] - x[1]^2)^2\n",
    "result = optimize(rosenbrock, [1.1, 2.3], BFGS())"
   ]
  },
  {
   "cell_type": "code",
   "execution_count": 104,
   "metadata": {},
   "outputs": [
    {
     "data": {
      "text/plain": [
       " * Status: success\n",
       "\n",
       " * Candidate solution\n",
       "    Final objective value:     1.226133e-10\n",
       "\n",
       " * Found with\n",
       "    Algorithm:     Nelder-Mead\n",
       "\n",
       " * Convergence measures\n",
       "    √(Σ(yᵢ-ȳ)²)/n ≤ 1.0e-08\n",
       "\n",
       " * Work counters\n",
       "    Seconds run:   0  (vs limit Inf)\n",
       "    Iterations:    50\n",
       "    f(x) calls:    100\n"
      ]
     },
     "execution_count": 104,
     "metadata": {},
     "output_type": "execute_result"
    }
   ],
   "source": [
    "# examples of \"closures\", a technique to fix args!\n",
    "f(x::Vector, a, b) = (x[1] - a)^2 + (x[2] - b)^2\n",
    "\n",
    "using Optim\n",
    "g(x::Vector) = f(x, 3, 4)\n",
    "optimize(g, [0.,0.])"
   ]
  },
  {
   "cell_type": "code",
   "execution_count": 106,
   "metadata": {},
   "outputs": [
    {
     "data": {
      "text/plain": [
       " * Status: success\n",
       "\n",
       " * Candidate solution\n",
       "    Final objective value:     1.226133e-10\n",
       "\n",
       " * Found with\n",
       "    Algorithm:     Nelder-Mead\n",
       "\n",
       " * Convergence measures\n",
       "    √(Σ(yᵢ-ȳ)²)/n ≤ 1.0e-08\n",
       "\n",
       " * Work counters\n",
       "    Seconds run:   0  (vs limit Inf)\n",
       "    Iterations:    50\n",
       "    f(x) calls:    100\n"
      ]
     },
     "execution_count": 106,
     "metadata": {},
     "output_type": "execute_result"
    }
   ],
   "source": [
    "# another closure example in Julia, anonymous function:\n",
    "optimize(x -> f(x,3,4), [0.,0.]) "
   ]
  },
  {
   "cell_type": "code",
   "execution_count": 1,
   "metadata": {},
   "outputs": [
    {
     "data": {
      "text/plain": [
       "f_ratpot_2 (generic function with 1 method)"
      ]
     },
     "execution_count": 1,
     "metadata": {},
     "output_type": "execute_result"
    }
   ],
   "source": [
    "# functional form:\n",
    "function f_ratpot_2(Θ, R, M)\n",
    "    #=\n",
    "    ansatz 1 for diatomic potential\n",
    "    params:\n",
    "        - Θ := training parameters, vector ()\n",
    "        - R := distances, vector\n",
    "    =#\n",
    "    # unroll coefficients\n",
    "    a = Θ[1:M]\n",
    "    b = Θ[M+1:2*M]\n",
    "    c = Θ[2*M+1:3*M+4]\n",
    "    d = Θ[3*M+5:4*M+7]\n",
    "    \n",
    "    # b_i ≥ 0 for i > 1:\n",
    "    t = b[2:M]\n",
    "    bool = t .< 0.\n",
    "    t[bool] = -t[bool]\n",
    "    b[2:M] = t\n",
    "    \n",
    "    # d_i ≥ 0 for i > 0:\n",
    "    bool = d .< 0.\n",
    "    d[bool] = -d[bool]    \n",
    "    println(b)\n",
    "    println(d)\n",
    "    \n",
    "    # evaluate P:\n",
    "    P = c[end-1]\n",
    "    P = P .* ((R .- a[1]).^2 .+ (b[1] .* R))\n",
    "    for i=2:M\n",
    "        P .*= (R .- a[i]).^2 .+ (b[i]*R)\n",
    "    end\n",
    "\n",
    "    \n",
    "    # eval Q:\n",
    "    Q = (R .+ d[end]).*R\n",
    "    for i=1:M+2\n",
    "        Q .*= (R .- c[i]).^2 .+ d[i].*R\n",
    "    end\n",
    "    \n",
    "    # eval potential:\n",
    "    V = c[end] .+ (P ./ Q)\n",
    "    return V\n",
    "end"
   ]
  },
  {
   "cell_type": "code",
   "execution_count": 2,
   "metadata": {},
   "outputs": [
    {
     "name": "stdout",
     "output_type": "stream",
     "text": [
      "[-1.0, -1.05, -1.1, -1.15, -1.2000000000000002, -1.25, -1.2999999999999998, -1.35, -1.4, -1.4500000000000002, -1.5, -1.55, -1.6, -1.65, -1.7](15,)\n",
      "[1.0, 2.0, 3.0, 4.0, 5.0, 6.0]\n",
      "[-1.1, 1.15]\n",
      "[1.5, 1.55, 1.6, 1.65, 1.7]\n"
     ]
    },
    {
     "data": {
      "text/plain": [
       "6-element Vector{Float64}:\n",
       " -1.4538848497222299\n",
       " -1.4504032610414908\n",
       " -1.450089540167252\n",
       " -1.4500280979713995\n",
       " -1.450010836561844\n",
       " -1.4500048065726545"
      ]
     },
     "execution_count": 2,
     "metadata": {},
     "output_type": "execute_result"
    }
   ],
   "source": [
    "M = 2\n",
    "Θ = collect(LinRange(-1., -2., 21))\n",
    "Θ = Θ[1:4*M+7] # 4M+7 params\n",
    "println(Θ, size(Θ))\n",
    "R = collect(LinRange(0., 5., 6)) .+ 1\n",
    "println(R)\n",
    "f_ratpot_2(Θ, R, M)"
   ]
  },
  {
   "cell_type": "markdown",
   "metadata": {},
   "source": [
    "### 8.1 Bonding features"
   ]
  },
  {
   "cell_type": "code",
   "execution_count": 95,
   "metadata": {},
   "outputs": [
    {
     "data": {
      "text/plain": [
       "t_R_fun (generic function with 3 methods)"
      ]
     },
     "execution_count": 95,
     "metadata": {},
     "output_type": "execute_result"
    }
   ],
   "source": [
    "function t_R_fun(R, R_up, R_low, e)\n",
    "    R2 = R.^2\n",
    "    return ((R2 .- R_low^2)./(R_up^2 .- R2)).^e\n",
    "end\n",
    "\n",
    "#function s_bond_strength"
   ]
  },
  {
   "cell_type": "code",
   "execution_count": 97,
   "metadata": {},
   "outputs": [
    {
     "name": "stdout",
     "output_type": "stream",
     "text": [
      "  0.000006 seconds (2 allocations: 224 bytes)\n"
     ]
    },
    {
     "data": {
      "text/plain": [
       "4-element Vector{Float64}:\n",
       " 0.031141868512110732\n",
       " 0.1064455529835572\n",
       " 4.760330578512396\n",
       " 3.6435919338971527e-5"
      ]
     },
     "execution_count": 97,
     "metadata": {},
     "output_type": "execute_result"
    }
   ],
   "source": [
    "R = [2.5, 3.1, 5, 1.1]\n",
    "@time t_R_fun(R, 6, 1, 2)"
   ]
  },
  {
   "cell_type": "code",
   "execution_count": null,
   "metadata": {},
   "outputs": [],
   "source": []
  }
 ],
 "metadata": {
  "kernelspec": {
   "display_name": "Julia 1.7.2",
   "language": "julia",
   "name": "julia-1.7"
  },
  "language_info": {
   "file_extension": ".jl",
   "mimetype": "application/julia",
   "name": "julia",
   "version": "1.7.2"
  }
 },
 "nbformat": 4,
 "nbformat_minor": 2
}
