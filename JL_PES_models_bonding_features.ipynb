{
 "cells": [
  {
   "cell_type": "markdown",
   "metadata": {},
   "source": [
    "# Julia version of bonding models for PES !!"
   ]
  },
  {
   "cell_type": "markdown",
   "metadata": {},
   "source": [
    "### Basic Optimization tests"
   ]
  },
  {
   "cell_type": "code",
   "execution_count": 88,
   "metadata": {},
   "outputs": [],
   "source": [
    "using Optim"
   ]
  },
  {
   "cell_type": "code",
   "execution_count": 94,
   "metadata": {},
   "outputs": [
    {
     "data": {
      "text/plain": [
       " * Status: success\n",
       "\n",
       " * Candidate solution\n",
       "    Final objective value:     5.264694e-17\n",
       "\n",
       " * Found with\n",
       "    Algorithm:     BFGS\n",
       "\n",
       " * Convergence measures\n",
       "    |x - x'|               = 9.47e-08 ≰ 0.0e+00\n",
       "    |x - x'|/|x'|          = 9.47e-08 ≰ 0.0e+00\n",
       "    |f(x) - f(x')|         = 3.53e-15 ≰ 0.0e+00\n",
       "    |f(x) - f(x')|/|f(x')| = 6.71e+01 ≰ 0.0e+00\n",
       "    |g(x)|                 = 3.92e-10 ≤ 1.0e-08\n",
       "\n",
       " * Work counters\n",
       "    Seconds run:   0  (vs limit Inf)\n",
       "    Iterations:    15\n",
       "    f(x) calls:    46\n",
       "    ∇f(x) calls:   46\n"
      ]
     },
     "execution_count": 94,
     "metadata": {},
     "output_type": "execute_result"
    }
   ],
   "source": [
    "# standard opt:\n",
    "rosenbrock(x) =  (1.0 - x[1])^2 + 99.0 * (x[2] - x[1]^2)^2\n",
    "result = optimize(rosenbrock, [1.1, 2.3], BFGS())"
   ]
  },
  {
   "cell_type": "code",
   "execution_count": 104,
   "metadata": {},
   "outputs": [
    {
     "data": {
      "text/plain": [
       " * Status: success\n",
       "\n",
       " * Candidate solution\n",
       "    Final objective value:     1.226133e-10\n",
       "\n",
       " * Found with\n",
       "    Algorithm:     Nelder-Mead\n",
       "\n",
       " * Convergence measures\n",
       "    √(Σ(yᵢ-ȳ)²)/n ≤ 1.0e-08\n",
       "\n",
       " * Work counters\n",
       "    Seconds run:   0  (vs limit Inf)\n",
       "    Iterations:    50\n",
       "    f(x) calls:    100\n"
      ]
     },
     "execution_count": 104,
     "metadata": {},
     "output_type": "execute_result"
    }
   ],
   "source": [
    "# examples of \"closures\", a technique to fix args!\n",
    "f(x::Vector, a, b) = (x[1] - a)^2 + (x[2] - b)^2\n",
    "\n",
    "using Optim\n",
    "g(x::Vector) = f(x, 3, 4)\n",
    "optimize(g, [0.,0.])"
   ]
  },
  {
   "cell_type": "code",
   "execution_count": 106,
   "metadata": {},
   "outputs": [
    {
     "data": {
      "text/plain": [
       " * Status: success\n",
       "\n",
       " * Candidate solution\n",
       "    Final objective value:     1.226133e-10\n",
       "\n",
       " * Found with\n",
       "    Algorithm:     Nelder-Mead\n",
       "\n",
       " * Convergence measures\n",
       "    √(Σ(yᵢ-ȳ)²)/n ≤ 1.0e-08\n",
       "\n",
       " * Work counters\n",
       "    Seconds run:   0  (vs limit Inf)\n",
       "    Iterations:    50\n",
       "    f(x) calls:    100\n"
      ]
     },
     "execution_count": 106,
     "metadata": {},
     "output_type": "execute_result"
    }
   ],
   "source": [
    "# another closure example in Julia, anonymous function:\n",
    "optimize(x -> f(x,3,4), [0.,0.]) "
   ]
  },
  {
   "cell_type": "code",
   "execution_count": 118,
   "metadata": {},
   "outputs": [
    {
     "ename": "LoadError",
     "evalue": "syntax: expected \"end\" in definition of function \"($ V_2)\"",
     "output_type": "error",
     "traceback": [
      "syntax: expected \"end\" in definition of function \"($ V_2)\"",
      "",
      "Stacktrace:",
      " [1] top-level scope",
      "   @ In[118]:2",
      " [2] eval",
      "   @ ./boot.jl:360 [inlined]",
      " [3] include_string(mapexpr::typeof(REPL.softscope), mod::Module, code::String, filename::String)",
      "   @ Base ./loading.jl:1094"
     ]
    }
   ],
   "source": [
    "# functional form:\n",
    "function f_ratpot_2(Θ, R, Z, M)\n",
    "    #=\n",
    "    ansatz 1 for diatomic potential\n",
    "    params:\n",
    "        - Θ := training parameters, vector ()\n",
    "        - R := distances, vector\n",
    "        - Z := \n",
    "    =#\n",
    "    # unroll coefficients\n",
    "    a = Θ[1:M]\n",
    "end"
   ]
  },
  {
   "cell_type": "code",
   "execution_count": 131,
   "metadata": {},
   "outputs": [
    {
     "data": {
      "text/plain": [
       "2-element Vector{Int64}:\n",
       " 1\n",
       " 2"
      ]
     },
     "execution_count": 131,
     "metadata": {},
     "output_type": "execute_result"
    }
   ],
   "source": [
    "a = [0,1,2,3]\n",
    "a[2:3]"
   ]
  },
  {
   "cell_type": "markdown",
   "metadata": {},
   "source": [
    "### 8.1 Bonding features"
   ]
  },
  {
   "cell_type": "code",
   "execution_count": 95,
   "metadata": {},
   "outputs": [
    {
     "data": {
      "text/plain": [
       "t_R_fun (generic function with 3 methods)"
      ]
     },
     "execution_count": 95,
     "metadata": {},
     "output_type": "execute_result"
    }
   ],
   "source": [
    "function t_R_fun(R, R_up, R_low, e)\n",
    "    R2 = R.^2\n",
    "    return ((R2 .- R_low^2)./(R_up^2 .- R2)).^e\n",
    "end\n",
    "\n",
    "#function s_bond_strength"
   ]
  },
  {
   "cell_type": "code",
   "execution_count": 97,
   "metadata": {},
   "outputs": [
    {
     "name": "stdout",
     "output_type": "stream",
     "text": [
      "  0.000006 seconds (2 allocations: 224 bytes)\n"
     ]
    },
    {
     "data": {
      "text/plain": [
       "4-element Vector{Float64}:\n",
       " 0.031141868512110732\n",
       " 0.1064455529835572\n",
       " 4.760330578512396\n",
       " 3.6435919338971527e-5"
      ]
     },
     "execution_count": 97,
     "metadata": {},
     "output_type": "execute_result"
    }
   ],
   "source": [
    "R = [2.5, 3.1, 5, 1.1]\n",
    "@time t_R_fun(R, 6, 1, 2)"
   ]
  },
  {
   "cell_type": "code",
   "execution_count": null,
   "metadata": {},
   "outputs": [],
   "source": []
  }
 ],
 "metadata": {
  "kernelspec": {
   "display_name": "Julia 1.6.1",
   "language": "julia",
   "name": "julia-1.6"
  },
  "language_info": {
   "file_extension": ".jl",
   "mimetype": "application/julia",
   "name": "julia",
   "version": "1.6.1"
  }
 },
 "nbformat": 4,
 "nbformat_minor": 2
}
