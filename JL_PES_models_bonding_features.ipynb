{
 "cells": [
  {
   "cell_type": "markdown",
   "metadata": {},
   "source": [
    "# Julia version of bonding models for PES !!"
   ]
  },
  {
   "cell_type": "markdown",
   "metadata": {},
   "source": [
    "### Basic Optimization tests"
   ]
  },
  {
   "cell_type": "code",
   "execution_count": 113,
   "metadata": {},
   "outputs": [],
   "source": [
    "using Optim, LsqFit # opt libs\n",
    "using DelimitedFiles, MLUtils, BenchmarkTools # utils"
   ]
  },
  {
   "cell_type": "code",
   "execution_count": 115,
   "metadata": {},
   "outputs": [
    {
     "data": {
      "text/plain": [
       " * Status: success\n",
       "\n",
       " * Candidate solution\n",
       "    Final objective value:     5.264688e-17\n",
       "\n",
       " * Found with\n",
       "    Algorithm:     BFGS\n",
       "\n",
       " * Convergence measures\n",
       "    |x - x'|               = 9.47e-08 ≰ 0.0e+00\n",
       "    |x - x'|/|x'|          = 9.47e-08 ≰ 0.0e+00\n",
       "    |f(x) - f(x')|         = 3.53e-15 ≰ 0.0e+00\n",
       "    |f(x) - f(x')|/|f(x')| = 6.71e+01 ≰ 0.0e+00\n",
       "    |g(x)|                 = 3.92e-10 ≤ 1.0e-08\n",
       "\n",
       " * Work counters\n",
       "    Seconds run:   0  (vs limit Inf)\n",
       "    Iterations:    15\n",
       "    f(x) calls:    46\n",
       "    ∇f(x) calls:   46\n"
      ]
     },
     "execution_count": 115,
     "metadata": {},
     "output_type": "execute_result"
    }
   ],
   "source": [
    "# standard opt:\n",
    "rosenbrock(x) =  (1.0 - x[1])^2 + 99.0 * (x[2] - x[1]^2)^2\n",
    "result = optimize(rosenbrock, [1.1, 2.3], BFGS())"
   ]
  },
  {
   "cell_type": "code",
   "execution_count": 116,
   "metadata": {},
   "outputs": [
    {
     "data": {
      "text/plain": [
       " * Status: success\n",
       "\n",
       " * Candidate solution\n",
       "    Final objective value:     1.226133e-10\n",
       "\n",
       " * Found with\n",
       "    Algorithm:     Nelder-Mead\n",
       "\n",
       " * Convergence measures\n",
       "    √(Σ(yᵢ-ȳ)²)/n ≤ 1.0e-08\n",
       "\n",
       " * Work counters\n",
       "    Seconds run:   0  (vs limit Inf)\n",
       "    Iterations:    50\n",
       "    f(x) calls:    100\n"
      ]
     },
     "execution_count": 116,
     "metadata": {},
     "output_type": "execute_result"
    }
   ],
   "source": [
    "# examples of \"closures\", a technique to fix args!\n",
    "f(x::Vector, a, b) = (x[1] - a)^2 + (x[2] - b)^2\n",
    "\n",
    "using Optim\n",
    "g(x::Vector) = f(x, 3, 4)\n",
    "optimize(g, [0.,0.])"
   ]
  },
  {
   "cell_type": "code",
   "execution_count": 117,
   "metadata": {},
   "outputs": [
    {
     "data": {
      "text/plain": [
       " * Status: success\n",
       "\n",
       " * Candidate solution\n",
       "    Final objective value:     1.226133e-10\n",
       "\n",
       " * Found with\n",
       "    Algorithm:     Nelder-Mead\n",
       "\n",
       " * Convergence measures\n",
       "    √(Σ(yᵢ-ȳ)²)/n ≤ 1.0e-08\n",
       "\n",
       " * Work counters\n",
       "    Seconds run:   0  (vs limit Inf)\n",
       "    Iterations:    50\n",
       "    f(x) calls:    100\n"
      ]
     },
     "execution_count": 117,
     "metadata": {},
     "output_type": "execute_result"
    }
   ],
   "source": [
    "# another closure example in Julia, anonymous function:\n",
    "optimize(x -> f(x,3,4), [0.,0.]) "
   ]
  },
  {
   "cell_type": "code",
   "execution_count": 211,
   "metadata": {},
   "outputs": [
    {
     "data": {
      "text/plain": [
       "f_least_squares (generic function with 2 methods)"
      ]
     },
     "execution_count": 211,
     "metadata": {},
     "output_type": "execute_result"
    }
   ],
   "source": [
    "# functional form:\n",
    "function f_ratpot_2(Θ, R, M)\n",
    "    #=\n",
    "    ansatz 1 for diatomic potential\n",
    "    params:\n",
    "        - Θ := training parameters, vector ()\n",
    "        - R := distances, vector\n",
    "    =#\n",
    "    # unroll coefficients\n",
    "    a = Θ[1:M]\n",
    "    b = Θ[M+1:2*M]\n",
    "    c = Θ[2*M+1:3*M+4]\n",
    "    d = Θ[3*M+5:4*M+7]\n",
    "    \n",
    "    # b_i ≥ 0 for i > 1:\n",
    "    t = b[2:M]\n",
    "    bool = t .< 0.\n",
    "    t[bool] = -t[bool]\n",
    "    b[2:M] = t\n",
    "    \n",
    "    # d_i ≥ 0 for i > 0:\n",
    "    bool = d .< 0.\n",
    "    d[bool] = -d[bool]    \n",
    "    println(b)\n",
    "    println(d)\n",
    "    \n",
    "    # evaluate P:\n",
    "    P = c[end-1]\n",
    "    P = P .* ((R .- a[1]).^2 .+ (b[1] .* R))\n",
    "    for i=2:M\n",
    "        P .*= (R .- a[i]).^2 .+ (b[i]*R)\n",
    "    end\n",
    "\n",
    "    \n",
    "    # eval Q:\n",
    "    Q = (R .+ d[end]).*R\n",
    "    for i=1:M+2\n",
    "        Q .*= (R .- c[i]).^2 .+ d[i].*R\n",
    "    end\n",
    "    \n",
    "    # eval potential:\n",
    "    V = c[end] .+ (P ./ Q)\n",
    "    return V\n",
    "end\n",
    "\n",
    "f_RMSE(X, Y) = √(sum((X .- Y) .^ 2)/length(X))\n",
    "\n",
    "function f_least_squares(f_eval, X, Y, f_args...)\n",
    "    Y_pred = f_eval(X, f_args...)\n",
    "    return sum((Y .- Y_pred).^2)\n",
    "end"
   ]
  },
  {
   "cell_type": "code",
   "execution_count": 212,
   "metadata": {},
   "outputs": [
    {
     "name": "stdout",
     "output_type": "stream",
     "text": [
      "[-1.0, -1.05, -1.1, -1.15, -1.2000000000000002, -1.25, -1.2999999999999998, -1.35, -1.4, -1.4500000000000002, -1.5, -1.55, -1.6, -1.65, -1.7](15,)\n",
      "[1.0, 2.0, 3.0, 4.0, 5.0, 6.0]\n",
      "[-1.1, 1.15]\n",
      "[1.5, 1.55, 1.6, 1.65, 1.7]\n"
     ]
    },
    {
     "data": {
      "text/plain": [
       "6-element Vector{Float64}:\n",
       " -1.4538848497222299\n",
       " -1.4504032610414908\n",
       " -1.450089540167252\n",
       " -1.4500280979713995\n",
       " -1.450010836561844\n",
       " -1.4500048065726545"
      ]
     },
     "execution_count": 212,
     "metadata": {},
     "output_type": "execute_result"
    }
   ],
   "source": [
    "M = 2\n",
    "Θ = collect(LinRange(-1., -2., 21))\n",
    "Θ = Θ[1:4*M+7] # 4M+7 params\n",
    "println(Θ, size(Θ))\n",
    "R = collect(LinRange(0., 5., 6)) .+ 1\n",
    "println(R)\n",
    "f_ratpot_2(Θ, R, M)"
   ]
  },
  {
   "cell_type": "markdown",
   "metadata": {},
   "source": [
    "#### Optimize ratpot 2 !!"
   ]
  },
  {
   "cell_type": "code",
   "execution_count": 66,
   "metadata": {},
   "outputs": [
    {
     "data": {
      "text/plain": [
       "536"
      ]
     },
     "execution_count": 66,
     "metadata": {},
     "output_type": "execute_result"
    }
   ],
   "source": [
    "# prepare data:\n",
    "H_data = readdlm(\"data/h2/h2_ground_w.txt\")\n",
    "R = H_data[:, 1]; V = H_data[:, 2]\n",
    "Xs, Ys = shuffleobs((R, V))\n",
    "train_data, test_data = splitobs((Xs, Ys); at=0.8)\n",
    "R_train = copy(train_data[1]); V_train = copy(train_data[2]);\n",
    "length(R_train)"
   ]
  },
  {
   "cell_type": "code",
   "execution_count": null,
   "metadata": {},
   "outputs": [],
   "source": []
  },
  {
   "cell_type": "code",
   "execution_count": 106,
   "metadata": {},
   "outputs": [
    {
     "data": {
      "text/plain": [
       "10"
      ]
     },
     "execution_count": 106,
     "metadata": {},
     "output_type": "execute_result"
    }
   ],
   "source": [
    "f(x, y=1, z=2) = x + y + z\n",
    "function g(fx, a, f_args...)\n",
    "    return a*f(f_args...) \n",
    "end\n",
    "\n",
    "\n",
    "g(f, 2, 1, 1, 3)"
   ]
  },
  {
   "cell_type": "code",
   "execution_count": 210,
   "metadata": {},
   "outputs": [
    {
     "name": "stdout",
     "output_type": "stream",
     "text": [
      " * Status: success\n",
      "\n",
      " * Candidate solution\n",
      "    Final objective value:     1.000000e+01\n",
      "\n",
      " * Found with\n",
      "    Algorithm:     L-BFGS\n",
      "\n",
      " * Convergence measures\n",
      "    |x - x'|               = 1.00e+02 ≰ 0.0e+00\n",
      "    |x - x'|/|x'|          = Inf ≰ 0.0e+00\n",
      "    |f(x) - f(x')|         = 2.00e+04 ≰ 0.0e+00\n",
      "    |f(x) - f(x')|/|f(x')| = 2.00e+03 ≰ 0.0e+00\n",
      "    |g(x)|                 = 0.00e+00 ≤ 1.0e-08\n",
      "\n",
      " * Work counters\n",
      "    Seconds run:   0  (vs limit Inf)\n",
      "    Iterations:    1\n",
      "    f(x) calls:    3\n",
      "    ∇f(x) calls:   3\n",
      "\n",
      "[0.0, 0.0]10.0\n"
     ]
    }
   ],
   "source": [
    "function fmin(x,a,b,c)\n",
    "   return sum(x.^2) + a*b + c\n",
    "end\n",
    "\n",
    "a0 = 3.\n",
    "b0 = 2.\n",
    "c0 = 4.\n",
    "res = optimize(x -> fmin(x,a0,b0,c0), [100., 100.], LBFGS(); autodiff = :forward)\n",
    "println(res)\n",
    "println(res.minimizer, res.minimum)\n",
    "#println(f(res.minimizer, a0, b0))"
   ]
  },
  {
   "cell_type": "markdown",
   "metadata": {},
   "source": [
    "### 8.1 Bonding features"
   ]
  },
  {
   "cell_type": "code",
   "execution_count": 75,
   "metadata": {},
   "outputs": [
    {
     "data": {
      "text/plain": [
       "t_R_fun (generic function with 1 method)"
      ]
     },
     "execution_count": 75,
     "metadata": {},
     "output_type": "execute_result"
    }
   ],
   "source": [
    "function t_R_fun(R, R_up, R_low, e)\n",
    "    R2 = R.^2\n",
    "    return ((R2 .- R_low^2)./(R_up^2 .- R2)).^e\n",
    "end\n",
    "\n",
    "#function s_bond_strength"
   ]
  },
  {
   "cell_type": "code",
   "execution_count": 76,
   "metadata": {},
   "outputs": [
    {
     "data": {
      "text/plain": [
       "BenchmarkTools.Trial: 10000 samples with 982 evaluations.\n",
       " Range \u001b[90m(\u001b[39m\u001b[36m\u001b[1mmin\u001b[22m\u001b[39m … \u001b[35mmax\u001b[39m\u001b[90m):  \u001b[39m\u001b[36m\u001b[1m59.369 ns\u001b[22m\u001b[39m … \u001b[35m 1.314 μs\u001b[39m  \u001b[90m┊\u001b[39m GC \u001b[90m(\u001b[39mmin … max\u001b[90m): \u001b[39m0.00% … 92.58%\n",
       " Time  \u001b[90m(\u001b[39m\u001b[34m\u001b[1mmedian\u001b[22m\u001b[39m\u001b[90m):     \u001b[39m\u001b[34m\u001b[1m61.507 ns              \u001b[22m\u001b[39m\u001b[90m┊\u001b[39m GC \u001b[90m(\u001b[39mmedian\u001b[90m):    \u001b[39m0.00%\n",
       " Time  \u001b[90m(\u001b[39m\u001b[32m\u001b[1mmean\u001b[22m\u001b[39m ± \u001b[32mσ\u001b[39m\u001b[90m):   \u001b[39m\u001b[32m\u001b[1m67.030 ns\u001b[22m\u001b[39m ± \u001b[32m56.162 ns\u001b[39m  \u001b[90m┊\u001b[39m GC \u001b[90m(\u001b[39mmean ± σ\u001b[90m):  \u001b[39m5.19% ±  5.87%\n",
       "\n",
       "  \u001b[39m▄\u001b[39m█\u001b[34m█\u001b[39m\u001b[39m▄\u001b[39m▅\u001b[39m▄\u001b[39m▃\u001b[39m▂\u001b[32m▁\u001b[39m\u001b[39m▁\u001b[39m \u001b[39m \u001b[39m \u001b[39m \u001b[39m \u001b[39m \u001b[39m \u001b[39m \u001b[39m \u001b[39m \u001b[39m \u001b[39m \u001b[39m \u001b[39m \u001b[39m \u001b[39m \u001b[39m \u001b[39m \u001b[39m \u001b[39m \u001b[39m \u001b[39m \u001b[39m \u001b[39m \u001b[39m \u001b[39m \u001b[39m \u001b[39m \u001b[39m \u001b[39m \u001b[39m \u001b[39m \u001b[39m \u001b[39m \u001b[39m \u001b[39m \u001b[39m \u001b[39m \u001b[39m \u001b[39m \u001b[39m \u001b[39m \u001b[39m \u001b[39m \u001b[39m \u001b[39m \u001b[39m \u001b[39m \u001b[39m \u001b[39m \u001b[39m▂\n",
       "  \u001b[39m█\u001b[39m█\u001b[34m█\u001b[39m\u001b[39m█\u001b[39m█\u001b[39m█\u001b[39m█\u001b[39m█\u001b[32m█\u001b[39m\u001b[39m█\u001b[39m█\u001b[39m▇\u001b[39m▇\u001b[39m▇\u001b[39m▆\u001b[39m▆\u001b[39m▆\u001b[39m▅\u001b[39m▄\u001b[39m▅\u001b[39m▆\u001b[39m▄\u001b[39m▄\u001b[39m▄\u001b[39m▆\u001b[39m▄\u001b[39m▃\u001b[39m▅\u001b[39m▄\u001b[39m▁\u001b[39m▃\u001b[39m▁\u001b[39m▄\u001b[39m▁\u001b[39m▁\u001b[39m▃\u001b[39m▄\u001b[39m▃\u001b[39m▃\u001b[39m▁\u001b[39m▁\u001b[39m▁\u001b[39m▁\u001b[39m▁\u001b[39m▃\u001b[39m▁\u001b[39m▁\u001b[39m▃\u001b[39m▁\u001b[39m▁\u001b[39m▃\u001b[39m▅\u001b[39m▆\u001b[39m▇\u001b[39m▇\u001b[39m█\u001b[39m█\u001b[39m▇\u001b[39m▇\u001b[39m \u001b[39m█\n",
       "  59.4 ns\u001b[90m      \u001b[39m\u001b[90mHistogram: \u001b[39m\u001b[90m\u001b[1mlog(\u001b[22m\u001b[39m\u001b[90mfrequency\u001b[39m\u001b[90m\u001b[1m)\u001b[22m\u001b[39m\u001b[90m by time\u001b[39m       119 ns \u001b[0m\u001b[1m<\u001b[22m\n",
       "\n",
       " Memory estimate\u001b[90m: \u001b[39m\u001b[33m192 bytes\u001b[39m, allocs estimate\u001b[90m: \u001b[39m\u001b[33m2\u001b[39m."
      ]
     },
     "execution_count": 76,
     "metadata": {},
     "output_type": "execute_result"
    }
   ],
   "source": [
    "R = [2.5, 3.1, 5, 1.1]\n",
    "@benchmark t_R_fun(R, 6, 1, 2)"
   ]
  },
  {
   "cell_type": "code",
   "execution_count": null,
   "metadata": {},
   "outputs": [],
   "source": []
  }
 ],
 "metadata": {
  "kernelspec": {
   "display_name": "Julia 1.7.2",
   "language": "julia",
   "name": "julia-1.7"
  },
  "language_info": {
   "file_extension": ".jl",
   "mimetype": "application/julia",
   "name": "julia",
   "version": "1.7.2"
  }
 },
 "nbformat": 4,
 "nbformat_minor": 2
}
