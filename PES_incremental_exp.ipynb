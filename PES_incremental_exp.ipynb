{
 "cells": [
  {
   "cell_type": "markdown",
   "metadata": {},
   "source": [
    "## H$_n$ data"
   ]
  },
  {
   "cell_type": "code",
   "execution_count": 1,
   "metadata": {},
   "outputs": [],
   "source": [
    "import numpy as np\n",
    "import json\n",
    "from os import walk"
   ]
  },
  {
   "cell_type": "code",
   "execution_count": 39,
   "metadata": {},
   "outputs": [
    {
     "name": "stdout",
     "output_type": "stream",
     "text": [
      "['H3_Su_class_1.txt', 'H4_Hinde_QZ.txt', 'H3_mielke_main.txt', 'H5_Tablero.txt', 'H3_Su_class_2.txt', 'H2_Kolos.txt', 'H4_Hinde_TZ.txt', 'artificial_H2_Kolos.txt', 'H2_Wolniewicz_BO.txt', 'H3_mielke_vdw.txt', 'H3_mielke_ac.txt', 'H3_mielke_coll.txt']\n",
      "dict_keys(['data', 'accuracy', 'kind', 'name', 'info']) 1409 H3\n",
      "dict_keys(['kind', 'name', 'data', 'H21_data', 'H22_data', 'accuracy', 'info']) 1653 H4\n",
      "dict_keys(['data', 'accuracy', 'kind', 'name', 'info']) 3263 H3\n",
      "dict_keys(['info', 'accuracy', 'name', 'kind', 'data']) 2799 H5\n",
      "dict_keys(['data', 'accuracy', 'kind', 'name', 'info']) 991 H3\n",
      "dict_keys(['info', 'accuracy', 'name', 'kind', 'data']) 87 H2\n",
      "dict_keys(['data', 'kind', 'name', 'accuracy', 'info']) 855 H4\n",
      "dict_keys(['info', 'accuracy', 'name', 'kind', 'data']) 2000 H2\n",
      "dict_keys(['info', 'accuracy', 'name', 'kind', 'data']) 670 H2\n",
      "dict_keys(['data', 'accuracy', 'kind', 'name', 'info']) 220 H3\n",
      "dict_keys(['data', 'accuracy', 'kind', 'name', 'info']) 140 H3\n",
      "dict_keys(['data', 'accuracy', 'kind', 'name', 'info']) 9 H3\n"
     ]
    },
    {
     "data": {
      "text/plain": [
       "2000"
      ]
     },
     "execution_count": 39,
     "metadata": {},
     "output_type": "execute_result"
    }
   ],
   "source": [
    "data = {\"H2\":{\"data\":[]}, \n",
    "        \"H3\":{\"data\":[]}, \n",
    "        \"H4\":{\"data\":[]}, \n",
    "        \"H5\":{\"data\":[]}\n",
    "        }\n",
    "\n",
    "kinds = list(data.keys())\n",
    "#read all data:\n",
    "#f_dir = \"C:/Users/beryl/Documents/WU/Main Topic/PythonFilesImportant/Data/Files/\" # main pc dir\n",
    "f_dir = \"/users/baribowo/Documents/maintopic/PythonFilesImportant/Data/Files/\" # office dir\n",
    "_, _, onlyfiles = next(walk(f_dir))\n",
    "print(onlyfiles)\n",
    "for f in onlyfiles:\n",
    "    f = open(f_dir+f)\n",
    "    f_data = json.load(f)\n",
    "    #data[\"H2\"][\"data\"]\n",
    "    print(f_data.keys(), len(f_data[\"data\"]), f_data[\"kind\"])\n",
    "    data[f_data[\"kind\"]][\"data\"].append(f_data[\"data\"]) #aggregate data (probably a bad idea) using .extend, .append results in different set\n",
    "    "
   ]
  },
  {
   "cell_type": "code",
   "execution_count": 179,
   "metadata": {},
   "outputs": [
    {
     "name": "stdout",
     "output_type": "stream",
     "text": [
      "total data: 2799\n"
     ]
    },
    {
     "data": {
      "text/plain": [
       "'\\nplt.rcParams[\"figure.figsize\"] = (20,15)\\nfig, (ax1, ax2, ax3) = plt.subplots(3)\\nfig.suptitle(\\'H data\\')\\nax1.plot(r, energy)\\n\\nfrom scipy.stats import norm\\nax2.plot(r, norm.pdf(r),\\'r-\\', lw=5, alpha=0.6, label=\\'norm pdf r\\')\\nax3.plot(energy, norm.pdf(energy),\\'r+\\', lw=5, alpha=0.6, label=\\'norm pdf energy\\')\\n'"
      ]
     },
     "execution_count": 179,
     "metadata": {},
     "output_type": "execute_result"
    }
   ],
   "source": [
    "# plot to check H2 data \n",
    "import matplotlib.pyplot as plt\n",
    "model_num = 0\n",
    "print(\"total data:\", len(data[\"H5\"][\"data\"][model_num]))\n",
    "#r, energy = np.array(data[\"H2\"][\"data\"][model_num]).T #only for H2\n",
    "Ab = np.array(data[\"H5\"][\"data\"][model_num])\n",
    "r = Ab[:,0:Ab.shape[1]-1]\n",
    "energy = Ab[:,Ab.shape[1]-1:Ab.shape[1]].reshape(-1)\n",
    "'''\n",
    "plt.rcParams[\"figure.figsize\"] = (20,15)\n",
    "fig, (ax1, ax2, ax3) = plt.subplots(3)\n",
    "fig.suptitle('H data')\n",
    "ax1.plot(r, energy)\n",
    "\n",
    "from scipy.stats import norm\n",
    "ax2.plot(r, norm.pdf(r),'r-', lw=5, alpha=0.6, label='norm pdf r')\n",
    "ax3.plot(energy, norm.pdf(energy),'r+', lw=5, alpha=0.6, label='norm pdf energy')\n",
    "'''"
   ]
  },
  {
   "cell_type": "code",
   "execution_count": 180,
   "metadata": {},
   "outputs": [
    {
     "name": "stdout",
     "output_type": "stream",
     "text": [
      "[[ 6.      6.      6.     ...  1.4    12.     11.918 ]\n",
      " [ 5.      6.4     5.     ... 11.4    12.8     1.4   ]\n",
      " [ 1.4012  6.4012 11.4012 ...  5.      6.4012  1.4012]\n",
      " ...\n",
      " [ 8.      8.      8.     ...  8.      8.     13.0639]\n",
      " [ 8.      8.      8.     ... 11.3137 16.     11.3137]\n",
      " [10.     10.      9.0738 ...  9.0738  9.0738 14.0001]]\n"
     ]
    }
   ],
   "source": [
    "'''Raise the dimension of the data'''\n",
    "A = np.zeros((r.shape[0],10)) # data matrix with increased dimension, to accomodate higher H clusters (up to H5)\n",
    "#A[:,0] = r # H2 exclusive\n",
    "A[:,:r.shape[1]] = r # Hx\n",
    "print(A)"
   ]
  },
  {
   "cell_type": "code",
   "execution_count": 181,
   "metadata": {},
   "outputs": [
    {
     "name": "stdout",
     "output_type": "stream",
     "text": [
      "Training Features Shape: (2099, 10)\n",
      "Training Labels Shape: (2099,)\n",
      "Testing Features Shape: (700, 10)\n",
      "Testing Labels Shape: (700,)\n"
     ]
    }
   ],
   "source": [
    "'''\n",
    "Split the training and test data\n",
    "'''\n",
    "from sklearn.model_selection import train_test_split\n",
    "x_train, x_test, y_train, y_test = train_test_split(A, energy, test_size=0.25, random_state=13)\n",
    "print('Training Features Shape:', x_train.shape)\n",
    "print('Training Labels Shape:', y_train.shape)\n",
    "print('Testing Features Shape:', x_test.shape)\n",
    "print('Testing Labels Shape:', y_test.shape)"
   ]
  },
  {
   "cell_type": "code",
   "execution_count": 182,
   "metadata": {},
   "outputs": [
    {
     "name": "stderr",
     "output_type": "stream",
     "text": [
      "[Parallel(n_jobs=1)]: Using backend SequentialBackend with 1 concurrent workers.\n",
      "[Parallel(n_jobs=1)]: Done 1000 out of 1000 | elapsed:   12.0s finished\n"
     ]
    },
    {
     "data": {
      "text/plain": [
       "RandomForestRegressor(n_estimators=1000, random_state=13, verbose=1)"
      ]
     },
     "execution_count": 182,
     "metadata": {},
     "output_type": "execute_result"
    }
   ],
   "source": [
    "'''\n",
    "Setup the Random Forest parameters\n",
    "'''\n",
    "from sklearn.ensemble import RandomForestRegressor\n",
    "\n",
    "#generate the RF model\n",
    "rf = RandomForestRegressor(n_estimators= 1000, random_state=13, verbose=1)\n",
    "\n",
    "#train the model on training data\n",
    "rf.fit(x_train, y_train)"
   ]
  },
  {
   "cell_type": "code",
   "execution_count": 183,
   "metadata": {},
   "outputs": [
    {
     "name": "stderr",
     "output_type": "stream",
     "text": [
      "[Parallel(n_jobs=1)]: Using backend SequentialBackend with 1 concurrent workers.\n"
     ]
    },
    {
     "name": "stdout",
     "output_type": "stream",
     "text": [
      "Root Mean Squared Error : 0.01\n"
     ]
    },
    {
     "name": "stderr",
     "output_type": "stream",
     "text": [
      "[Parallel(n_jobs=1)]: Done 1000 out of 1000 | elapsed:    0.3s finished\n"
     ]
    }
   ],
   "source": [
    "'''Model evaluation on training set'''\n",
    "from sklearn.metrics import mean_squared_error\n",
    "from scipy.stats import pearsonr\n",
    "\n",
    "preds = rf.predict(x_train)\n",
    "\n",
    "#Root Mean Squared Error\n",
    "rmse = np.sqrt(mean_squared_error(y_train, preds))\n",
    "print('Root Mean Squared Error :', round(rmse, 2))\n",
    "\n",
    "#Pearson Correlation Coefficient (PCC) score\n",
    "pcc = pearsonr(y_train, preds)"
   ]
  },
  {
   "cell_type": "code",
   "execution_count": 184,
   "metadata": {},
   "outputs": [
    {
     "name": "stdout",
     "output_type": "stream",
     "text": [
      "Root Mean Squared Error : 0.03\n",
      "Pearson Correlation Coefficient : 0.92\n"
     ]
    },
    {
     "name": "stderr",
     "output_type": "stream",
     "text": [
      "[Parallel(n_jobs=1)]: Using backend SequentialBackend with 1 concurrent workers.\n",
      "[Parallel(n_jobs=1)]: Done 1000 out of 1000 | elapsed:    0.2s finished\n"
     ]
    }
   ],
   "source": [
    "'''Model evaluation on Test set'''\n",
    "preds = rf.predict(x_test)\n",
    "\n",
    "#Root Mean Squared Error\n",
    "rmse = np.sqrt(mean_squared_error(y_test, preds))\n",
    "print('Root Mean Squared Error :', round(rmse, 2))\n",
    "\n",
    "#Pearson Correlation Coefficient (PCC) score\n",
    "pcc = pearsonr(y_test, preds)\n",
    "print('Pearson Correlation Coefficient :', round(pcc[0],2))"
   ]
  },
  {
   "cell_type": "code",
   "execution_count": 170,
   "metadata": {},
   "outputs": [
    {
     "data": {
      "text/plain": [
       "[<matplotlib.lines.Line2D at 0x7fd99e1ad630>]"
      ]
     },
     "execution_count": 170,
     "metadata": {},
     "output_type": "execute_result"
    },
    {
     "data": {
      "image/png": "[encoded data removed]",
      "text/plain": [
       "<matplotlib.figure.Figure at 0x7fd99e1ad668>"
      ]
     },
     "metadata": {},
     "output_type": "display_data"
    }
   ],
   "source": [
    "'''actual vs prediction'''\n",
    "plt.plot(x_test[:,0], y_test, \"+\", label=\"actual\")\n",
    "plt.plot(x_test[:,0], preds, \"r*\", label=\"predicted\")"
   ]
  },
  {
   "cell_type": "markdown",
   "metadata": {},
   "source": [
    "### Testing with sparse matrix feature for up to 5th H cluster"
   ]
  },
  {
   "cell_type": "code",
   "execution_count": 215,
   "metadata": {},
   "outputs": [
    {
     "name": "stdout",
     "output_type": "stream",
     "text": [
      "[0. 0. 0. ... 0. 0. 0.]\n",
      "[[0.4, 0.8797972000000001], [0.45, 0.6490718], [0.5, 0.47337300000000004], [0.55, 0.33722929999999995], [0.6, 0.2303659], [0.65, 0.14563859999999995], [0.7, 0.07797390000000004], [0.75, 0.02366429999999997], [0.8, -0.020055600000000062], [0.9, -0.08364220000000011], [1.0, -0.12453850000000011], [1.1, -0.15005620000000008], [1.2, -0.16493420000000003], [1.3, -0.17234590000000005], [1.35, -0.17396269999999991], [1.39, -0.1744517000000001], [1.4, -0.17447440000000003], [1.401, -0.17447459999999992], [1.4011, -0.17447459999999992], [1.41, -0.1744599], [1.45, -0.1740558000000001], [1.5, -0.1728537000000001], [1.6, -0.1685798999999999], [1.7, -0.16245700000000007], [1.8, -0.15506700000000007], [1.9, -0.1468495999999999], [2.0, -0.1381311999999999], [2.1, -0.12915619999999994], [2.2, -0.12012329999999993], [2.3, -0.1111724999999999], [2.4, -0.10241269999999991], [2.5, -0.09392730000000005], [2.6, -0.08578100000000011], [2.7, -0.0780164000000001], [2.8, -0.07067000000000001], [2.9, -0.06376409999999999], [3.0, -0.05731179999999991], [3.1, -0.051318500000000045], [3.2, -0.045783200000000024], [3.3, -0.04070029999999991], [3.4, -0.03605780000000003], [3.5, -0.031840199999999985], [3.6, -0.02802719999999992], [3.7, -0.024597800000000003], [3.8, -0.021529700000000096], [3.9, -0.0187967], [4.0, -0.01636890000000002], [4.1, -0.014224699999999979], [4.2, -0.0123371000000001], [4.3, -0.01068099999999994], [4.4, -0.009230300000000025], [4.5, -0.007968200000000092], [4.6, -0.006870300000000107], [4.7, -0.005917600000000078], [4.8, -0.0050923000000000496], [4.9, -0.00437820000000011], [5.0, -0.0037625999999999493], [5.1, -0.0032308999999999255], [5.2, -0.002774000000000054], [5.3, -0.0023800000000000487], [5.4, -0.0020423000000000524], [5.5, -0.0017521000000000342], [5.6, -0.001503000000000032], [5.7, -0.001289899999999955], [5.8, -0.0011068999999999107], [5.9, -0.0009497999999998896], [6.0, -0.0008150000000000102], [6.1, -0.0007002000000000397], [6.2, -0.0006029999999999092], [6.3, -0.0005162000000000777], [6.4, -0.0004466000000000747], [6.5, -0.00038640000000000896], [6.6, -0.00033280000000002197], [6.7, -0.0002906000000000297], [6.8, -0.00024660000000009674], [6.9, -0.00021540000000008774], [7.0, -0.00018889999999993634], [7.2, -0.00014340000000001574], [7.4, -0.00010859999999990322], [7.6, -8.68000000000535e-05], [7.8, -6.820000000007376e-05], [8.0, -5.260000000006926e-05], [8.25, -4.0400000000051506e-05], [8.5, -3.139999999990373e-05], [9.0, -1.8499999999921357e-05], [9.5, -1.2099999999959365e-05], [10.0, -9.09999999998412e-06]]\n",
      "[[ 0.4     0.      0.     ...  0.      0.      0.    ]\n",
      " [ 0.45    0.      0.     ...  0.      0.      0.    ]\n",
      " [ 0.5     0.      0.     ...  0.      0.      0.    ]\n",
      " ...\n",
      " [ 8.      8.      8.     ...  8.      8.     13.0639]\n",
      " [ 8.      8.      8.     ... 11.3137 16.     11.3137]\n",
      " [10.     10.      9.0738 ...  9.0738  9.0738 14.0001]] [ 0.8797972  0.6490718  0.473373  ... -2.500135  -2.500098  -2.500063 ]\n"
     ]
    }
   ],
   "source": [
    "'''Assemble the data based on model number (default is 0)'''\n",
    "model_num = 0\n",
    "lengths = np.array([len(data[kind][\"data\"][model_num]) for kind in kinds])\n",
    "sum_length = np.sum(lengths)\n",
    "A = np.zeros((sum_length, 10)) #feature (A) sparse matrix\n",
    "b = np.zeros((sum_length)) #target (b)\n",
    "iterat = 0\n",
    "for i in range(len(kinds)):\n",
    "    temp_data = np.array(data[kinds[i]][\"data\"][model_num])\n",
    "    feature = temp_data[:, :len(temp_data[0])-1]\n",
    "    label = temp_data[:,-1]\n",
    "    A[iterat:iterat+lengths[i], :feature.shape[1]] = feature\n",
    "    b[iterat:iterat+lengths[i]] = label\n",
    "    iterat += lengths[i]"
   ]
  },
  {
   "cell_type": "code",
   "execution_count": 217,
   "metadata": {},
   "outputs": [
    {
     "name": "stdout",
     "output_type": "stream",
     "text": [
      "Training Features Shape: (4461, 10)\n",
      "Training Labels Shape: (4461,)\n",
      "Testing Features Shape: (1487, 10)\n",
      "Testing Labels Shape: (1487,)\n"
     ]
    }
   ],
   "source": [
    "'''\n",
    "Split the training and test data\n",
    "'''\n",
    "from sklearn.model_selection import train_test_split\n",
    "x_train, x_test, y_train, y_test = train_test_split(A, b, test_size=0.25, random_state=13)\n",
    "print('Training Features Shape:', x_train.shape)\n",
    "print('Training Labels Shape:', y_train.shape)\n",
    "print('Testing Features Shape:', x_test.shape)\n",
    "print('Testing Labels Shape:', y_test.shape)"
   ]
  },
  {
   "cell_type": "code",
   "execution_count": 218,
   "metadata": {},
   "outputs": [
    {
     "name": "stderr",
     "output_type": "stream",
     "text": [
      "[Parallel(n_jobs=1)]: Using backend SequentialBackend with 1 concurrent workers.\n",
      "[Parallel(n_jobs=1)]: Done 1000 out of 1000 | elapsed:   17.9s finished\n"
     ]
    },
    {
     "data": {
      "text/plain": [
       "RandomForestRegressor(n_estimators=1000, random_state=13, verbose=1)"
      ]
     },
     "execution_count": 218,
     "metadata": {},
     "output_type": "execute_result"
    }
   ],
   "source": [
    "'''\n",
    "Setup the Random Forest parameters\n",
    "'''\n",
    "from sklearn.ensemble import RandomForestRegressor\n",
    "\n",
    "#generate the RF model\n",
    "rf = RandomForestRegressor(n_estimators= 1000, random_state=13, verbose=1)\n",
    "\n",
    "#train the model on training data\n",
    "rf.fit(x_train, y_train)"
   ]
  },
  {
   "cell_type": "code",
   "execution_count": 219,
   "metadata": {},
   "outputs": [
    {
     "name": "stderr",
     "output_type": "stream",
     "text": [
      "[Parallel(n_jobs=1)]: Using backend SequentialBackend with 1 concurrent workers.\n",
      "[Parallel(n_jobs=1)]: Done 1000 out of 1000 | elapsed:    0.6s finished\n"
     ]
    },
    {
     "name": "stdout",
     "output_type": "stream",
     "text": [
      "Root Mean Squared Error : 0.01\n"
     ]
    }
   ],
   "source": [
    "'''Model evaluation on training set'''\n",
    "from sklearn.metrics import mean_squared_error\n",
    "from scipy.stats import pearsonr\n",
    "\n",
    "preds = rf.predict(x_train)\n",
    "\n",
    "#Root Mean Squared Error\n",
    "rmse = np.sqrt(mean_squared_error(y_train, preds))\n",
    "print('Root Mean Squared Error :', round(rmse, 2))\n",
    "\n",
    "#Pearson Correlation Coefficient (PCC) score\n",
    "pcc = pearsonr(y_train, preds)"
   ]
  },
  {
   "cell_type": "code",
   "execution_count": 220,
   "metadata": {},
   "outputs": [
    {
     "name": "stderr",
     "output_type": "stream",
     "text": [
      "[Parallel(n_jobs=1)]: Using backend SequentialBackend with 1 concurrent workers.\n"
     ]
    },
    {
     "name": "stdout",
     "output_type": "stream",
     "text": [
      "Root Mean Squared Error : 0.02\n",
      "Pearson Correlation Coefficient : 1.0\n"
     ]
    },
    {
     "name": "stderr",
     "output_type": "stream",
     "text": [
      "[Parallel(n_jobs=1)]: Done 1000 out of 1000 | elapsed:    0.3s finished\n"
     ]
    }
   ],
   "source": [
    "'''Model evaluation on Test set'''\n",
    "preds = rf.predict(x_test)\n",
    "\n",
    "#Root Mean Squared Error\n",
    "rmse = np.sqrt(mean_squared_error(y_test, preds))\n",
    "print('Root Mean Squared Error :', round(rmse, 2))\n",
    "\n",
    "#Pearson Correlation Coefficient (PCC) score\n",
    "pcc = pearsonr(y_test, preds)\n",
    "print('Pearson Correlation Coefficient :', round(pcc[0],2))"
   ]
  },
  {
   "cell_type": "markdown",
   "metadata": {},
   "source": [
    "## H$_2$, OH, O$_2$ data"
   ]
  },
  {
   "cell_type": "markdown",
   "metadata": {},
   "source": [
    "### Data cleaning"
   ]
  },
  {
   "cell_type": "code",
   "execution_count": 173,
   "metadata": {
    "scrolled": true
   },
   "outputs": [
    {
     "name": "stdout",
     "output_type": "stream",
     "text": [
      "['OH_Chu_et_al_1974_hartree', 'OH_multi_states_eV', 'H2_Kolos.txt', 'O2_data_Bytautas2010_milihartree', 'artificial_H2_Kolos.txt', 'H2_Wolniewicz_BO.txt']\n",
      "dict_keys(['info', 'accuracy', 'name', 'kind', 'data']) 87 H2\n",
      "dict_keys(['info', 'accuracy', 'name', 'kind', 'data']) 670 H2\n",
      "{'mol': 'OH', 'state': '#X^2\\\\Pi', 'author': 'Nemukhin_and_Grigorenko(1997)', 'R': array([1.  , 1.1 , 1.2 , 1.25, 1.3 , 1.5 , 1.6 , 1.75, 1.9 , 2.  , 2.1 ,\n",
      "       2.25, 2.4 , 2.5 , 2.75, 3.  , 3.25, 3.5 , 3.75, 4.  , 4.5 , 4.75,\n",
      "       5.  , 5.25, 5.5 , 6.  , 7.  , 7.1 , 7.2 ]), 'V': array([ 1.16670e+01,  6.13800e+00,  2.29300e+00,  8.47230e-01,\n",
      "       -4.71180e-01, -3.37316e+00, -4.05089e+00, -4.50268e+00,\n",
      "       -4.53042e+00, -4.40562e+00, -4.20861e+00, -3.83143e+00,\n",
      "       -3.40631e+00, -3.11515e+00, -2.40954e+00, -1.78479e+00,\n",
      "       -1.26939e+00, -8.70850e-01, -5.80780e-01, -3.80620e-01,\n",
      "       -1.61350e-01, -1.05660e-01, -6.97000e-02, -4.63200e-02,\n",
      "       -3.09900e-02, -1.40500e-02, -2.71000e-03, -1.96000e-03,\n",
      "       -1.79000e-03])}\n",
      "{'mol': 'OH', 'state': '#X^2\\\\Pi', 'author': 'vanDishoeck_et_al(1983)', 'R': array([1.  , 1.1 , 1.2 , 1.25, 1.3 , 1.5 , 1.61, 1.7 , 1.75, 1.8 , 1.83,\n",
      "       1.89, 1.98, 2.08, 2.36, 2.55, 2.65, 2.74, 2.83, 3.02, 3.31, 3.5 ,\n",
      "       3.78, 3.97, 4.25, 4.72, 5.67, 7.56, 9.45, 9.6 , 9.7 , 9.8 ]), 'V': array([ 1.16670e+01,  6.13800e+00,  2.29300e+00,  8.47230e-01,\n",
      "       -4.71180e-01, -3.37316e+00, -3.97575e+00, -4.31208e+00,\n",
      "       -4.40487e+00, -4.46228e+00, -4.47616e+00, -4.46038e+00,\n",
      "       -4.35807e+00, -4.18637e+00, -3.45358e+00, -2.90719e+00,\n",
      "       -2.63889e+00, -2.38012e+00, -2.13305e+00, -1.68298e+00,\n",
      "       -1.13142e+00, -8.47610e-01, -5.35510e-01, -3.90470e-01,\n",
      "       -2.42720e-01, -1.12380e-01, -2.96600e-02, -8.16000e-03,\n",
      "       -6.53000e-03, -3.21000e-03, -3.01000e-03, -2.83000e-03])}\n",
      "{'mol': 'OH', 'state': '#X^2\\\\Pi', 'author': 'Hodges(1993)', 'R': array([1.  , 1.1 , 1.2 , 1.25, 1.3 , 1.5 , 1.75, 1.83, 2.  , 2.25, 2.5 ,\n",
      "       2.75, 3.  , 3.25, 3.5 , 3.75, 4.  , 4.5 , 5.  , 5.5 , 6.  , 7.  ,\n",
      "       7.1 , 7.2 ]), 'V': array([ 1.1667e+01,  6.1380e+00,  2.2930e+00,  8.4723e-01, -3.9900e-01,\n",
      "       -3.2870e+00, -4.4120e+00, -4.4710e+00, -4.3270e+00, -3.7710e+00,\n",
      "       -3.1000e+00, -2.4160e+00, -1.8120e+00, -1.3160e+00, -9.3100e-01,\n",
      "       -6.4700e-01, -4.4400e-01, -2.0700e-01, -9.2000e-02, -3.0990e-02,\n",
      "       -1.4050e-02, -2.7100e-03, -1.9600e-03, -1.7900e-03])}\n",
      "{'mol': 'OH', 'state': '#^2\\\\Sigma^-', 'author': 'Pradhan(1995)', 'R': array([0.9 , 1.  , 1.1 , 1.2 , 1.3 , 1.4 , 1.5 , 1.6 , 1.7 , 1.85, 1.95,\n",
      "       2.  , 2.2 , 2.4 , 2.6 , 2.8 , 3.  , 3.2 , 3.4 , 3.6 , 3.8 , 4.  ,\n",
      "       4.2 , 4.4 , 4.6 , 4.8 , 5.  , 5.2 , 5.4 , 6.  , 6.1 , 6.2 ]), 'V': array([ 9.91e+00,  6.26e+00,  3.57e+00,  1.25e+00, -5.70e-01, -1.80e+00,\n",
      "       -2.88e+00, -3.59e+00, -3.84e+00, -4.04e+00, -3.97e+00, -3.89e+00,\n",
      "       -3.48e+00, -3.05e+00, -2.53e+00, -2.07e+00, -1.66e+00, -1.28e+00,\n",
      "       -9.80e-01, -7.40e-01, -5.40e-01, -4.10e-01, -3.00e-01, -2.20e-01,\n",
      "       -1.60e-01, -1.10e-01, -8.00e-02, -5.00e-02, -3.00e-02, -5.38e-03,\n",
      "       -4.87e-03, -4.42e-03])}\n",
      "{'mol': 'OH', 'state': '#^2\\\\Sigma^-', 'author': 'vanDishoeck_et_al(1983)', 'R': array([1.6 , 1.75, 1.9 , 2.  , 2.1 , 2.25, 2.4 , 2.5 , 2.75, 3.  , 3.25,\n",
      "       3.5 , 3.75, 4.  , 4.5 , 4.75, 5.  , 5.25, 5.5 , 6.  , 7.  ]), 'V': array([4.61855e+00, 3.79385e+00, 3.29936e+00, 3.04831e+00, 2.81720e+00,\n",
      "       2.47489e+00, 2.13463e+00, 1.91633e+00, 1.42829e+00, 1.04019e+00,\n",
      "       7.45380e-01, 5.27000e-01, 3.67810e-01, 2.53250e-01, 1.15080e-01,\n",
      "       7.58500e-02, 4.91300e-02, 3.12000e-02, 1.93500e-02, 6.77000e-03,\n",
      "       3.40000e-04])}\n",
      "{'mol': 'OH', 'state': '#^2\\\\Sigma^-', 'author': 'Hodges(1993)', 'R': array([1.5 , 1.75, 1.83, 2.  , 2.25, 2.5 , 2.75, 3.  , 3.25, 3.5 , 3.75,\n",
      "       4.  , 4.5 , 5.  ]), 'V': array([5.6 , 3.88, 3.57, 1.34, 2.51, 1.92, 1.43, 1.03, 0.73, 0.52, 0.37,\n",
      "       0.25, 0.12, 0.05])}\n",
      "{'mol': 'OH', 'state': '#^4\\\\Sigma^-', 'author': 'vanDishoeck_and_Dalgarno_(1983)', 'R': array([1.05, 1.1 , 1.2 , 1.3 , 1.4 , 1.5 , 1.6 , 1.7 , 1.8 , 1.9 , 2.  ,\n",
      "       2.2 , 2.4 , 2.6 , 2.8 , 3.  , 3.2 , 3.4 , 3.6 , 3.8 , 4.  , 4.2 ,\n",
      "       4.4 , 4.6 ]), 'V': array([11.81, 10.59,  9.39,  7.51,  6.37,  5.44,  4.71,  4.08,  3.65,\n",
      "        3.32,  3.08,  2.59,  2.1 ,  1.69,  1.28,  0.95,  0.71,  0.54,\n",
      "        0.38,  0.3 ,  0.22,  0.14,  0.11,  0.08])}\n",
      "{'mol': 'OH', 'state': '#^4\\\\Sigma^-', 'author': 'Hodges(1993)', 'R': array([1.5, 1.6, 1.7, 1.8, 1.9, 2. , 2.1, 2.2, 2.3, 2.4, 2.5, 2.6, 2.7,\n",
      "       2.8, 3. , 3.2, 3.4, 3.6, 3.8, 4. , 4.2, 4.4, 4.6]), 'V': array([5.02, 4.26, 3.68, 3.28, 2.87, 2.52, 2.23, 2.  , 1.75, 1.58, 1.4 ,\n",
      "       1.23, 1.08, 0.97, 0.7 , 0.52, 0.39, 0.3 , 0.21, 0.16, 0.11, 0.08,\n",
      "       0.05])}\n",
      "{'mol': 'OH', 'state': '#^4\\\\Sigma^-', 'author': 'Cooper_et_al(1984)', 'R': array([1.5, 1.6, 1.7, 1.8, 1.9, 2. , 2.1, 2.2, 2.3, 2.4, 2.5, 2.6, 2.7,\n",
      "       2.8, 3. , 3.2, 3.4, 3.6, 3.8, 4. , 4.2, 4.4, 4.6]), 'V': array([5.01, 4.22, 3.57, 3.13, 2.8 , 2.56, 2.29, 2.01, 1.79, 1.55, 1.36,\n",
      "       1.2 , 1.03, 0.9 , 0.68, 0.49, 0.35, 0.27, 0.19, 0.14, 0.11, 0.09,\n",
      "       0.08])}\n",
      "{'mol': 'OH', 'state': '#^4\\\\Pi', 'author': 'vanDishoeck_and_Dalgarno(1983)', 'R': array([1.5, 1.6, 1.7, 1.8, 1.9, 2. , 2.1, 2.2, 2.3, 2.4, 2.5, 2.6, 2.7,\n",
      "       2.8, 3. , 3.2, 3.4, 3.6, 3.8, 4. , 4.2, 4.4, 4.6]), 'V': array([4.91, 4.17, 3.55, 3.09, 2.68, 2.33, 2.06, 1.78, 1.5 , 1.29, 1.05,\n",
      "       0.86, 0.71, 0.57, 0.41, 0.26, 0.17, 0.1 , 0.07, 0.05, 0.04, 0.03,\n",
      "       0.01])}\n",
      "{'mol': 'OH', 'state': '#^4\\\\Pi', 'author': 'Hodges(1993)', 'R': array([2. , 2.1, 2.2, 2.3, 2.4, 2.5, 2.6, 2.7, 2.8, 2.9, 3. , 3.2, 3.4,\n",
      "       3.6, 3.8, 4. , 4.2, 4.4, 4.6, 5. ]), 'V': array([5.44, 5.32, 4.7 , 4.03, 3.49, 2.93, 2.62, 2.24, 1.98, 1.65, 1.39,\n",
      "       1.05, 0.79, 0.58, 0.42, 0.3 , 0.22, 0.16, 0.1 , 0.03])}\n",
      "{'mol': 'OH', 'state': '#^4\\\\Pi', 'author': 'Cooper_et_al(1984)', 'R': array([2. , 2.1, 2.2, 2.3, 2.4, 2.5, 2.6, 2.7, 2.8, 2.9, 3. , 3.2, 3.4,\n",
      "       3.6, 3.8, 4. , 4.2, 4.4, 4.6]), 'V': array([5.32, 4.72, 4.15, 3.6 , 3.15, 2.68, 2.32, 2.  , 1.76, 1.5 , 1.28,\n",
      "       0.88, 0.6 , 0.43, 0.31, 0.21, 0.16, 0.09, 0.07])}\n",
      "{'mol': 'OH', 'state': '#^4\\\\Pi', 'author': 'Cooper_et_al(1984)', 'R': array([2. , 2.1, 2.2, 2.3, 2.4, 2.5, 2.6, 2.7, 2.8, 2.9, 3. , 3.2, 3.4,\n",
      "       3.6, 3.8, 4. , 4.2, 4.4, 4.6]), 'V': array([5.32, 4.72, 4.15, 3.6 , 3.15, 2.68, 2.32, 2.  , 1.76, 1.5 , 1.28,\n",
      "       0.88, 0.6 , 0.43, 0.31, 0.21, 0.16, 0.09, 0.07])}\n",
      "{'mol': 'OH', 'author': 'Chu et al 1974', 'state': '$X^2\\\\Pi$ MCSCF', 'R': array([ 1.  ,  1.2 ,  1.3 ,  1.5 ,  1.7 ,  1.8 ,  1.85,  1.9 ,  1.95,\n",
      "        2.  ,  2.2 ,  2.5 ,  2.7 ,  3.  ,  3.5 ,  4.  ,  5.  ,  6.  ,\n",
      "        8.  , 10.  , 15.  , 20.  ]), 'V': array([-75.831658, -75.19517 , -75.294513, -75.400971, -75.439038,\n",
      "       -75.444117, -75.444421, -75.443573, -75.441779, -75.439214,\n",
      "       -75.423943, -75.39542 , -75.37713 , -75.354024, -75.329135,\n",
      "       -75.317642, -75.311362, -75.31042 , -75.310246, -75.310241,\n",
      "       -75.310241, -75.310241])}\n",
      "{'mol': 'OH', 'author': 'Chu et al 1974', 'state': '$X^2\\\\Pi$ CI', 'R': array([ 1.  ,  1.2 ,  1.3 ,  1.5 ,  1.7 ,  1.8 ,  1.85,  1.9 ,  1.95,\n",
      "        2.  ,  2.2 ,  2.5 ,  2.7 ,  3.  ,  3.5 ,  4.  ,  5.  ,  6.  ,\n",
      "        8.  , 10.  , 15.  , 20.  ]), 'V': array([-75.027043, -75.392155, -75.489988, -75.59577 , -75.633306,\n",
      "       -75.637792, -75.638313, -75.637323, -75.635369, -75.63262 ,\n",
      "       -75.616311, -75.585193, -75.56447 , -75.536998, -75.504687,\n",
      "       -75.487874, -75.47753 , -75.475676, -75.475545, -75.475452,\n",
      "       -75.47543 , -75.475432])}\n",
      "{'mol': 'OH', 'author': 'Chu et al 1974', 'state': '$A^2\\\\Sigma^+$ MCSCF', 'R': array([ 1.  ,  1.2 ,  1.3 ,  1.5 ,  1.7 ,  1.8 ,  1.85,  1.9 ,  1.95,\n",
      "        2.  ,  2.2 ,  2.5 ,  2.7 ,  3.  ,  3.5 ,  4.  ,  5.  ,  6.  ,\n",
      "        8.  , 10.  , 15.  , 20.  ]), 'V': array([-74.64123 , -75.011299, -75.112239, -75.222694, -75.264684,\n",
      "       -75.271778, -75.273112, -75.273311, -75.272585, -75.271114,\n",
      "       -75.260746, -75.244315, -75.236696, -75.230744, -75.229052,\n",
      "       -75.230127, -75.231629, -75.231993, -75.232064, -75.232065,\n",
      "       -75.230264, -75.232064])}\n",
      "{'mol': 'OH', 'author': 'Chu et al 1974', 'state': '$A^2\\\\Sigma^+$ CI', 'R': array([ 1.  ,  1.2 ,  1.3 ,  1.5 ,  1.7 ,  1.8 ,  1.85,  1.9 ,  1.95,\n",
      "        2.  ,  2.2 ,  2.5 ,  2.7 ,  3.  ,  3.5 ,  4.  ,  5.  ,  6.  ,\n",
      "        8.  , 10.  , 15.  , 20.  ]), 'V': array([-74.847524, -75.218293, -75.319735, -75.431431, -75.4747  ,\n",
      "       -75.482671, -75.484445, -75.485056, -75.484728, -75.483602,\n",
      "       -75.474125, -75.453666, -75.439777, -75.42299 , -75.408117,\n",
      "       -75.403268, -75.401304, -75.401004, -75.400997, -75.400886,\n",
      "       -75.40084 , -75.400835])}\n",
      "{'mol': 'O2', 'author': 'Bytautas2010', 'state': '$^3\\\\Sigma_g^-$', 'R': array([ 0.9    ,  0.95   ,  1.     ,  1.05   ,  1.1    ,  1.125  ,\n",
      "        1.15   ,  1.175  ,  1.20752,  1.25   ,  1.3    ,  1.35   ,\n",
      "        1.4    ,  1.5    ,  1.6    ,  1.7    ,  1.8    ,  1.9    ,\n",
      "        2.     ,  2.1    ,  2.2    ,  2.3    ,  2.4    ,  2.5    ,\n",
      "        2.8    , 10.     ]), 'V': array([ 108.747,  -10.527,  -90.471, -141.85 , -172.627, -182.146,\n",
      "       -188.658, -192.531, -194.379, -192.511, -185.781, -175.718,\n",
      "       -163.526, -136.   , -107.738,  -81.245,  -57.812,  -38.807,\n",
      "        -24.463,  -14.759,   -8.873,   -5.559,   -3.702,   -2.636,\n",
      "         -1.233,    0.   ])}\n",
      "{'mol': 'O2', 'author': 'Bytautas2010', 'state': '$^1\\\\Delta_g$', 'R': array([ 0.9    ,  0.95   ,  1.     ,  1.05   ,  1.1    ,  1.125  ,\n",
      "        1.15   ,  1.175  ,  1.20752,  1.25   ,  1.3    ,  1.35   ,\n",
      "        1.4    ,  1.5    ,  1.6    ,  1.7    ,  1.8    ,  1.9    ,\n",
      "        2.     ,  2.1    ,  2.2    ,  2.3    ,  2.4    ,  2.5    ,\n",
      "        2.8    , 10.     ]), 'V': array([ 146.508,   27.898,  -51.728, -103.146, -134.261, -144.032,\n",
      "       -150.881, -155.133, -157.562, -156.59 , -151.082, -142.418,\n",
      "       -131.781, -107.894,  -84.011,  -62.624,  -44.753,  -31.305,\n",
      "        -21.592,  -14.848,  -10.272,   -7.187,   -5.093,   -3.669,\n",
      "            nan,    0.   ])}\n",
      "{'mol': 'O2', 'author': 'Bytautas2010', 'state': '$^1\\\\Sigma_g^+$', 'R': array([ 0.9    ,  0.95   ,  1.     ,  1.05   ,  1.1    ,  1.125  ,\n",
      "        1.15   ,  1.175  ,  1.20752,  1.25   ,  1.3    ,  1.35   ,\n",
      "        1.4    ,  1.5    ,  1.6    ,  1.7    ,  1.8    ,  1.9    ,\n",
      "        2.     ,  2.1    ,  2.2    ,  2.3    ,  2.4    ,  2.5    ,\n",
      "        2.8    , 10.     ]), 'V': array([ 175.923,   57.359,  -22.736,  -74.787, -106.837, -117.124,\n",
      "       -124.473, -129.371, -132.563, -132.756, -128.67 , -121.494,\n",
      "       -112.411,  -91.765,  -71.162,  -52.879,  -37.705,  -26.445,\n",
      "        -18.311,  -12.631,   -8.759,   -6.132,   -4.35 ,   -3.129,\n",
      "            nan,    0.   ])}\n",
      "{'mol': 'H2', 'author': 'H2_Kolos', 'state': 'Unknown', 'R': array([ 0.4   ,  0.45  ,  0.5   ,  0.55  ,  0.6   ,  0.65  ,  0.7   ,\n",
      "        0.75  ,  0.8   ,  0.9   ,  1.    ,  1.1   ,  1.2   ,  1.3   ,\n",
      "        1.35  ,  1.39  ,  1.4   ,  1.401 ,  1.4011,  1.41  ,  1.45  ,\n",
      "        1.5   ,  1.6   ,  1.7   ,  1.8   ,  1.9   ,  2.    ,  2.1   ,\n",
      "        2.2   ,  2.3   ,  2.4   ,  2.5   ,  2.6   ,  2.7   ,  2.8   ,\n",
      "        2.9   ,  3.    ,  3.1   ,  3.2   ,  3.3   ,  3.4   ,  3.5   ,\n",
      "        3.6   ,  3.7   ,  3.8   ,  3.9   ,  4.    ,  4.1   ,  4.2   ,\n",
      "        4.3   ,  4.4   ,  4.5   ,  4.6   ,  4.7   ,  4.8   ,  4.9   ,\n",
      "        5.    ,  5.1   ,  5.2   ,  5.3   ,  5.4   ,  5.5   ,  5.6   ,\n",
      "        5.7   ,  5.8   ,  5.9   ,  6.    ,  6.1   ,  6.2   ,  6.3   ,\n",
      "        6.4   ,  6.5   ,  6.6   ,  6.7   ,  6.8   ,  6.9   ,  7.    ,\n",
      "        7.2   ,  7.4   ,  7.6   ,  7.8   ,  8.    ,  8.25  ,  8.5   ,\n",
      "        9.    ,  9.5   , 10.    ]), 'V': array([ 8.797972e-01,  6.490718e-01,  4.733730e-01,  3.372293e-01,\n",
      "        2.303659e-01,  1.456386e-01,  7.797390e-02,  2.366430e-02,\n",
      "       -2.005560e-02, -8.364220e-02, -1.245385e-01, -1.500562e-01,\n",
      "       -1.649342e-01, -1.723459e-01, -1.739627e-01, -1.744517e-01,\n",
      "       -1.744744e-01, -1.744746e-01, -1.744746e-01, -1.744599e-01,\n",
      "       -1.740558e-01, -1.728537e-01, -1.685799e-01, -1.624570e-01,\n",
      "       -1.550670e-01, -1.468496e-01, -1.381312e-01, -1.291562e-01,\n",
      "       -1.201233e-01, -1.111725e-01, -1.024127e-01, -9.392730e-02,\n",
      "       -8.578100e-02, -7.801640e-02, -7.067000e-02, -6.376410e-02,\n",
      "       -5.731180e-02, -5.131850e-02, -4.578320e-02, -4.070030e-02,\n",
      "       -3.605780e-02, -3.184020e-02, -2.802720e-02, -2.459780e-02,\n",
      "       -2.152970e-02, -1.879670e-02, -1.636890e-02, -1.422470e-02,\n",
      "       -1.233710e-02, -1.068100e-02, -9.230300e-03, -7.968200e-03,\n",
      "       -6.870300e-03, -5.917600e-03, -5.092300e-03, -4.378200e-03,\n",
      "       -3.762600e-03, -3.230900e-03, -2.774000e-03, -2.380000e-03,\n",
      "       -2.042300e-03, -1.752100e-03, -1.503000e-03, -1.289900e-03,\n",
      "       -1.106900e-03, -9.498000e-04, -8.150000e-04, -7.002000e-04,\n",
      "       -6.030000e-04, -5.162000e-04, -4.466000e-04, -3.864000e-04,\n",
      "       -3.328000e-04, -2.906000e-04, -2.466000e-04, -2.154000e-04,\n",
      "       -1.889000e-04, -1.434000e-04, -1.086000e-04, -8.680000e-05,\n",
      "       -6.820000e-05, -5.260000e-05, -4.040000e-05, -3.140000e-05,\n",
      "       -1.850000e-05, -1.210000e-05, -9.100000e-06])}\n",
      "{'mol': 'H2', 'author': 'H2_Wolniewicz_BO', 'state': 'Unknown', 'R': array([ 0.2 ,  0.3 ,  0.4 ,  0.5 ,  0.6 ,  0.7 ,  0.75,  0.76,  0.77,\n",
      "        0.78,  0.79,  0.8 ,  0.81,  0.82,  0.83,  0.84,  0.85,  0.86,\n",
      "        0.87,  0.88,  0.89,  0.9 ,  0.91,  0.92,  0.93,  0.94,  0.95,\n",
      "        0.96,  0.97,  0.98,  0.99,  1.  ,  1.01,  1.02,  1.03,  1.04,\n",
      "        1.05,  1.06,  1.07,  1.08,  1.09,  1.1 ,  1.11,  1.12,  1.13,\n",
      "        1.14,  1.15,  1.16,  1.17,  1.18,  1.19,  1.2 ,  1.21,  1.22,\n",
      "        1.23,  1.24,  1.25,  1.26,  1.27,  1.28,  1.29,  1.3 ,  1.31,\n",
      "        1.32,  1.33,  1.34,  1.35,  1.36,  1.37,  1.38,  1.39,  1.4 ,\n",
      "        1.41,  1.42,  1.43,  1.44,  1.45,  1.46,  1.47,  1.48,  1.49,\n",
      "        1.5 ,  1.51,  1.52,  1.53,  1.54,  1.55,  1.56,  1.57,  1.58,\n",
      "        1.59,  1.6 ,  1.61,  1.62,  1.63,  1.64,  1.65,  1.66,  1.67,\n",
      "        1.68,  1.69,  1.7 ,  1.71,  1.72,  1.73,  1.74,  1.75,  1.76,\n",
      "        1.77,  1.78,  1.79,  1.8 ,  1.81,  1.82,  1.83,  1.84,  1.85,\n",
      "        1.86,  1.87,  1.88,  1.89,  1.9 ,  1.91,  1.92,  1.93,  1.94,\n",
      "        1.95,  1.96,  1.97,  1.98,  1.99,  2.  ,  2.01,  2.02,  2.03,\n",
      "        2.04,  2.05,  2.06,  2.07,  2.08,  2.09,  2.1 ,  2.11,  2.12,\n",
      "        2.13,  2.14,  2.15,  2.16,  2.17,  2.18,  2.19,  2.2 ,  2.21,\n",
      "        2.22,  2.23,  2.24,  2.25,  2.26,  2.27,  2.28,  2.29,  2.3 ,\n",
      "        2.31,  2.32,  2.33,  2.34,  2.35,  2.36,  2.37,  2.38,  2.39,\n",
      "        2.4 ,  2.41,  2.42,  2.43,  2.44,  2.45,  2.46,  2.47,  2.48,\n",
      "        2.49,  2.5 ,  2.51,  2.52,  2.53,  2.54,  2.55,  2.56,  2.57,\n",
      "        2.58,  2.59,  2.6 ,  2.61,  2.62,  2.63,  2.64,  2.65,  2.66,\n",
      "        2.67,  2.68,  2.69,  2.7 ,  2.71,  2.72,  2.73,  2.74,  2.75,\n",
      "        2.76,  2.77,  2.78,  2.79,  2.8 ,  2.81,  2.82,  2.83,  2.84,\n",
      "        2.85,  2.86,  2.87,  2.88,  2.89,  2.9 ,  2.91,  2.92,  2.93,\n",
      "        2.94,  2.95,  2.96,  2.97,  2.98,  2.99,  3.  ,  3.01,  3.02,\n",
      "        3.03,  3.04,  3.05,  3.06,  3.07,  3.08,  3.09,  3.1 ,  3.11,\n",
      "        3.12,  3.13,  3.14,  3.15,  3.16,  3.17,  3.18,  3.19,  3.2 ,\n",
      "        3.21,  3.22,  3.23,  3.24,  3.25,  3.26,  3.27,  3.28,  3.29,\n",
      "        3.3 ,  3.31,  3.32,  3.33,  3.34,  3.35,  3.36,  3.37,  3.38,\n",
      "        3.39,  3.4 ,  3.41,  3.42,  3.43,  3.44,  3.45,  3.46,  3.47,\n",
      "        3.48,  3.49,  3.5 ,  3.51,  3.52,  3.53,  3.54,  3.55,  3.56,\n",
      "        3.57,  3.58,  3.59,  3.6 ,  3.61,  3.62,  3.63,  3.64,  3.65,\n",
      "        3.66,  3.67,  3.68,  3.69,  3.7 ,  3.71,  3.72,  3.73,  3.74,\n",
      "        3.75,  3.76,  3.77,  3.78,  3.79,  3.8 ,  3.81,  3.82,  3.83,\n",
      "        3.84,  3.85,  3.86,  3.87,  3.88,  3.89,  3.9 ,  3.91,  3.92,\n",
      "        3.93,  3.94,  3.95,  3.96,  3.97,  3.98,  3.99,  4.  ,  4.01,\n",
      "        4.02,  4.03,  4.04,  4.05,  4.06,  4.07,  4.08,  4.09,  4.1 ,\n",
      "        4.11,  4.12,  4.13,  4.14,  4.15,  4.16,  4.17,  4.18,  4.19,\n",
      "        4.2 ,  4.21,  4.22,  4.23,  4.24,  4.25,  4.26,  4.27,  4.28,\n",
      "        4.29,  4.3 ,  4.31,  4.32,  4.33,  4.34,  4.35,  4.36,  4.37,\n",
      "        4.38,  4.39,  4.4 ,  4.41,  4.42,  4.43,  4.44,  4.45,  4.46,\n",
      "        4.47,  4.48,  4.49,  4.5 ,  4.51,  4.52,  4.53,  4.54,  4.55,\n",
      "        4.56,  4.57,  4.58,  4.59,  4.6 ,  4.61,  4.62,  4.63,  4.64,\n",
      "        4.65,  4.66,  4.67,  4.68,  4.69,  4.7 ,  4.71,  4.72,  4.73,\n",
      "        4.74,  4.75,  4.76,  4.77,  4.78,  4.79,  4.8 ,  4.81,  4.82,\n",
      "        4.83,  4.84,  4.85,  4.86,  4.87,  4.88,  4.89,  4.9 ,  4.91,\n",
      "        4.92,  4.93,  4.94,  4.95,  4.96,  4.97,  4.98,  4.99,  5.  ,\n",
      "        5.01,  5.02,  5.03,  5.04,  5.05,  5.06,  5.07,  5.08,  5.09,\n",
      "        5.1 ,  5.11,  5.12,  5.13,  5.14,  5.15,  5.16,  5.17,  5.18,\n",
      "        5.19,  5.2 ,  5.21,  5.22,  5.23,  5.24,  5.25,  5.26,  5.27,\n",
      "        5.28,  5.29,  5.3 ,  5.31,  5.32,  5.33,  5.34,  5.35,  5.36,\n",
      "        5.37,  5.38,  5.39,  5.4 ,  5.41,  5.42,  5.43,  5.44,  5.45,\n",
      "        5.46,  5.47,  5.48,  5.49,  5.5 ,  5.51,  5.52,  5.53,  5.54,\n",
      "        5.55,  5.56,  5.57,  5.58,  5.59,  5.6 ,  5.61,  5.62,  5.63,\n",
      "        5.64,  5.65,  5.66,  5.67,  5.68,  5.69,  5.7 ,  5.71,  5.72,\n",
      "        5.73,  5.74,  5.75,  5.76,  5.77,  5.78,  5.79,  5.8 ,  5.81,\n",
      "        5.82,  5.83,  5.84,  5.85,  5.86,  5.87,  5.88,  5.89,  5.9 ,\n",
      "        5.91,  5.92,  5.93,  5.94,  5.95,  5.96,  5.97,  5.98,  5.99,\n",
      "        6.  ,  6.02,  6.04,  6.06,  6.08,  6.1 ,  6.12,  6.14,  6.16,\n",
      "        6.18,  6.2 ,  6.22,  6.24,  6.26,  6.28,  6.3 ,  6.32,  6.34,\n",
      "        6.36,  6.38,  6.4 ,  6.42,  6.44,  6.46,  6.48,  6.5 ,  6.52,\n",
      "        6.54,  6.56,  6.58,  6.6 ,  6.62,  6.68,  6.7 ,  6.72,  6.74,\n",
      "        6.76,  6.78,  6.8 ,  6.82,  6.84,  6.86,  6.88,  6.9 ,  6.92,\n",
      "        6.94,  6.96,  6.98,  7.  ,  7.02,  7.04,  7.06,  7.08,  7.1 ,\n",
      "        7.12,  7.14,  7.16,  7.18,  7.2 ,  7.22,  7.24,  7.26,  7.28,\n",
      "        7.3 ,  7.32,  7.34,  7.36,  7.38,  7.4 ,  7.42,  7.44,  7.46,\n",
      "        7.48,  7.5 ,  7.52,  7.54,  7.56,  7.58,  7.6 ,  7.62,  7.64,\n",
      "        7.66,  7.68,  7.7 ,  7.72,  7.74,  7.76,  7.78,  7.8 ,  7.82,\n",
      "        7.84,  7.86,  7.88,  7.9 ,  7.92,  7.94,  7.96,  7.98,  8.  ,\n",
      "        8.05,  8.1 ,  8.15,  8.2 ,  8.25,  8.3 ,  8.35,  8.4 ,  8.45,\n",
      "        8.5 ,  8.55,  8.6 ,  8.65,  8.7 ,  8.75,  8.8 ,  8.85,  8.9 ,\n",
      "        8.95,  9.  ,  9.1 ,  9.2 ,  9.3 ,  9.4 ,  9.5 ,  9.6 ,  9.7 ,\n",
      "        9.8 ,  9.9 , 10.  , 10.2 , 10.4 , 10.6 , 10.8 , 11.  , 11.2 ,\n",
      "       11.4 , 11.6 , 11.8 , 12.  ]), 'V': array([ 2.1978035 ,  0.61924179, -0.12023024, -0.52663867, -0.76963535,\n",
      "       -0.92202739, -0.97633699, -0.98585273, -0.99496548, -1.00369276,\n",
      "       -1.01205122, -1.0200566 , -1.02772388, -1.03506726, -1.04210024,\n",
      "       -1.04883565, -1.0552857 , -1.061462  , -1.06737561, -1.07303706,\n",
      "       -1.0784564 , -1.08364318, -1.08860655, -1.09335521, -1.09789748,\n",
      "       -1.10224131, -1.10639429, -1.11036368, -1.11415641, -1.11777913,\n",
      "       -1.12123819, -1.12453966, -1.12768939, -1.13069295, -1.13355568,\n",
      "       -1.13628272, -1.13887898, -1.14134919, -1.14369786, -1.14592936,\n",
      "       -1.14804784, -1.15005732, -1.15196165, -1.15376452, -1.15546952,\n",
      "       -1.15708004, -1.15859938, -1.16003071, -1.16137708, -1.16264142,\n",
      "       -1.16382655, -1.16493519, -1.16596998, -1.16693341, -1.16782794,\n",
      "       -1.16865591, -1.16941958, -1.17012113, -1.17076266, -1.17134621,\n",
      "       -1.17187372, -1.1723471 , -1.17276817, -1.17313869, -1.17346036,\n",
      "       -1.17373483, -1.17396368, -1.17414846, -1.17429063, -1.17439164,\n",
      "       -1.17445287, -1.17447567, -1.17446133, -1.1744111 , -1.1743262 ,\n",
      "       -1.17420779, -1.17405703, -1.173875  , -1.17366277, -1.17342138,\n",
      "       -1.17315181, -1.17285504, -1.172532  , -1.1721836 , -1.17181071,\n",
      "       -1.1714142 , -1.17099488, -1.17055355, -1.17009099, -1.16960796,\n",
      "       -1.16910517, -1.16858333, -1.16804314, -1.16748526, -1.16691032,\n",
      "       -1.16631896, -1.16571179, -1.16508938, -1.16445233, -1.16380117,\n",
      "       -1.16313645, -1.16245869, -1.1617684 , -1.16106607, -1.16035218,\n",
      "       -1.15962719, -1.15889157, -1.15814573, -1.15739012, -1.15662515,\n",
      "       -1.15585121, -1.1550687 , -1.154278  , -1.15347947, -1.15267348,\n",
      "       -1.15186038, -1.1510405 , -1.15021417, -1.14938171, -1.14854344,\n",
      "       -1.14769966, -1.14685066, -1.14599673, -1.14513814, -1.14427517,\n",
      "       -1.14340808, -1.14253713, -1.14166256, -1.14078463, -1.13990356,\n",
      "       -1.13901958, -1.13813292, -1.13724379, -1.13635241, -1.13545899,\n",
      "       -1.13456371, -1.13366678, -1.13276839, -1.13186872, -1.13096795,\n",
      "       -1.13006625, -1.1291638 , -1.12826076, -1.12735728, -1.12645355,\n",
      "       -1.12554969, -1.12464586, -1.1237422 , -1.12283886, -1.12193597,\n",
      "       -1.12103367, -1.12013208, -1.11923133, -1.11833155, -1.11743285,\n",
      "       -1.11653535, -1.11563917, -1.11474441, -1.11385118, -1.11295959,\n",
      "       -1.11206974, -1.11118173, -1.11029565, -1.10941159, -1.10852965,\n",
      "       -1.10764993, -1.10677249, -1.10589743, -1.10502483, -1.10415477,\n",
      "       -1.10328732, -1.10242257, -1.10156058, -1.10070142, -1.09984517,\n",
      "       -1.09899188, -1.09814164, -1.09729449, -1.0964505 , -1.09560973,\n",
      "       -1.09477225, -1.09393809, -1.09310733, -1.09228   , -1.09145618,\n",
      "       -1.09063589, -1.0898192 , -1.08900614, -1.08819677, -1.08739113,\n",
      "       -1.08658926, -1.0857912 , -1.08499699, -1.08420668, -1.08342029,\n",
      "       -1.08263787, -1.08185944, -1.08108505, -1.08031473, -1.0795485 ,\n",
      "       -1.07878639, -1.07802845, -1.07727468, -1.07652513, -1.07577982,\n",
      "       -1.07503876, -1.07430199, -1.07356954, -1.0728414 , -1.07211762,\n",
      "       -1.07139822, -1.0706832 , -1.06997258, -1.0692664 , -1.06856465,\n",
      "       -1.06786736, -1.06717455, -1.06648621, -1.06580238, -1.06512305,\n",
      "       -1.06444825, -1.06377797, -1.06311224, -1.06245106, -1.06179443,\n",
      "       -1.06114238, -1.06049489, -1.05985198, -1.05921366, -1.05857992,\n",
      "       -1.05795078, -1.05732623, -1.05670628, -1.05609093, -1.05548018,\n",
      "       -1.05487404, -1.05427249, -1.05367554, -1.0530832 , -1.05249545,\n",
      "       -1.0519123 , -1.05133374, -1.05075977, -1.05019038, -1.04962557,\n",
      "       -1.04906534, -1.04850967, -1.04795857, -1.04741202, -1.04687002,\n",
      "       -1.04633256, -1.04579963, -1.04527122, -1.04474732, -1.04422793,\n",
      "       -1.04371303, -1.04320261, -1.04269667, -1.04219518, -1.04169813,\n",
      "       -1.04120552, -1.04071733, -1.04023355, -1.03975416, -1.03927914,\n",
      "       -1.0388085 , -1.0383422 , -1.03788023, -1.03742258, -1.03696923,\n",
      "       -1.03652016, -1.03607536, -1.03563481, -1.03519849, -1.03476639,\n",
      "       -1.03433848, -1.03391475, -1.03349517, -1.03307973, -1.03266842,\n",
      "       -1.03226119, -1.03185805, -1.03145897, -1.03106392, -1.03067289,\n",
      "       -1.03028585, -1.02990278, -1.02952367, -1.02914848, -1.0287772 ,\n",
      "       -1.02840981, -1.02804628, -1.02768658, -1.0273307 , -1.02697861,\n",
      "       -1.02663029, -1.02628572, -1.02594486, -1.0256077 , -1.02527421,\n",
      "       -1.02494437, -1.02461816, -1.02429554, -1.0239765 , -1.023661  ,\n",
      "       -1.02334903, -1.02304055, -1.02273555, -1.022434  , -1.02213587,\n",
      "       -1.02184113, -1.02154977, -1.02126175, -1.02097705, -1.02069564,\n",
      "       -1.0204175 , -1.0201426 , -1.01987091, -1.01960242, -1.01933708,\n",
      "       -1.01907489, -1.0188158 , -1.0185598 , -1.01830685, -1.01805694,\n",
      "       -1.01781003, -1.0175661 , -1.01732513, -1.01708708, -1.01685193,\n",
      "       -1.01661965, -1.01639023, -1.01616362, -1.01593981, -1.01571877,\n",
      "       -1.01550048, -1.0152849 , -1.01507201, -1.01486179, -1.01465421,\n",
      "       -1.01444925, -1.01424687, -1.01404706, -1.01384979, -1.01365503,\n",
      "       -1.01346275, -1.01327294, -1.01308556, -1.0129006 , -1.01271803,\n",
      "       -1.01253781, -1.01235994, -1.01218438, -1.0120111 , -1.01184009,\n",
      "       -1.01167133, -1.01150477, -1.01134042, -1.01117823, -1.01101818,\n",
      "       -1.01086025, -1.01070443, -1.01055067, -1.01039897, -1.0102493 ,\n",
      "       -1.01010164, -1.00995595, -1.00981223, -1.00967044, -1.00953058,\n",
      "       -1.0093926 , -1.0092565 , -1.00912224, -1.00898982, -1.0088592 ,\n",
      "       -1.00873037, -1.0086033 , -1.00847798, -1.00835438, -1.00823248,\n",
      "       -1.00811226, -1.00799371, -1.0078768 , -1.0077615 , -1.00764781,\n",
      "       -1.00753571, -1.00742516, -1.00731616, -1.00720868, -1.00710271,\n",
      "       -1.00699822, -1.0068952 , -1.00679364, -1.0066935 , -1.00659477,\n",
      "       -1.00649744, -1.00640149, -1.0063069 , -1.00621365, -1.00612173,\n",
      "       -1.00603111, -1.00594179, -1.00585374, -1.00576695, -1.0056814 ,\n",
      "       -1.00559708, -1.00551396, -1.00543204, -1.0053513 , -1.00527172,\n",
      "       -1.00519329, -1.00511599, -1.0050398 , -1.00496472, -1.00489072,\n",
      "       -1.0048178 , -1.00474594, -1.00467511, -1.00460532, -1.00453655,\n",
      "       -1.00446878, -1.00440199, -1.00433618, -1.00427134, -1.00420744,\n",
      "       -1.00414448, -1.00408244, -1.00402131, -1.00396108, -1.00390173,\n",
      "       -1.00384326, -1.00378564, -1.00372888, -1.00367295, -1.00361785,\n",
      "       -1.00356357, -1.00351008, -1.00345739, -1.00340547, -1.00335433,\n",
      "       -1.00330395, -1.00325431, -1.00320541, -1.00315723, -1.00310978,\n",
      "       -1.00306303, -1.00301697, -1.0029716 , -1.00292691, -1.00288289,\n",
      "       -1.00283952, -1.0027968 , -1.00275472, -1.00271327, -1.00267244,\n",
      "       -1.00263222, -1.00259261, -1.00255359, -1.00251515, -1.00247729,\n",
      "       -1.00244   , -1.00240327, -1.00236709, -1.00233146, -1.00229636,\n",
      "       -1.00226179, -1.00222774, -1.0021942 , -1.00216118, -1.00212864,\n",
      "       -1.0020966 , -1.00206505, -1.00203397, -1.00200336, -1.00197321,\n",
      "       -1.00194352, -1.00191427, -1.00188547, -1.00185711, -1.00182918,\n",
      "       -1.00180166, -1.00177457, -1.00174789, -1.00172161, -1.00169573,\n",
      "       -1.00167024, -1.00164514, -1.00162042, -1.00159608, -1.0015721 ,\n",
      "       -1.00154849, -1.00152524, -1.00150235, -1.0014798 , -1.00145759,\n",
      "       -1.00143572, -1.00141419, -1.00139298, -1.0013721 , -1.00135153,\n",
      "       -1.00133128, -1.00131133, -1.00129169, -1.00127235, -1.00125331,\n",
      "       -1.00123455, -1.00121608, -1.00119789, -1.00117998, -1.00116235,\n",
      "       -1.00114498, -1.00112787, -1.00111103, -1.00109445, -1.00107812,\n",
      "       -1.00106203, -1.0010462 , -1.0010306 , -1.00101524, -1.00100012,\n",
      "       -1.00098523, -1.00097057, -1.00095613, -1.00094191, -1.0009279 ,\n",
      "       -1.00091412, -1.00090054, -1.00088717, -1.000874  , -1.00086104,\n",
      "       -1.00084827, -1.0008357 , -1.00081113, -1.00078731, -1.00076421,\n",
      "       -1.00074181, -1.00072008, -1.00069902, -1.00067859, -1.00065879,\n",
      "       -1.00063958, -1.00062096, -1.0006029 , -1.00058539, -1.00056841,\n",
      "       -1.00055194, -1.00053597, -1.00052048, -1.00050546, -1.0004909 ,\n",
      "       -1.00047678, -1.00046308, -1.00044979, -1.00043691, -1.00042441,\n",
      "       -1.0004123 , -1.00040054, -1.00038914, -1.00037809, -1.00036737,\n",
      "       -1.00035697, -1.00034688, -1.00033709, -1.00030946, -1.0003008 ,\n",
      "       -1.00029239, -1.00028424, -1.00027633, -1.00026866, -1.00026121,\n",
      "       -1.00025399, -1.00024698, -1.00024018, -1.00023359, -1.00022718,\n",
      "       -1.00022097, -1.00021494, -1.0002091 , -1.00020342, -1.00019791,\n",
      "       -1.00019257, -1.00018738, -1.00018234, -1.00017745, -1.00017271,\n",
      "       -1.0001681 , -1.00016363, -1.00015929, -1.00015508, -1.00015099,\n",
      "       -1.00014702, -1.00014317, -1.00013942, -1.00013579, -1.00013226,\n",
      "       -1.00012883, -1.0001255 , -1.00012227, -1.00011913, -1.00011609,\n",
      "       -1.00011312, -1.00011025, -1.00010745, -1.00010474, -1.0001021 ,\n",
      "       -1.00009954, -1.00009705, -1.00009463, -1.00009229, -1.00009   ,\n",
      "       -1.00008778, -1.00008563, -1.00008353, -1.00008149, -1.00007951,\n",
      "       -1.00007759, -1.00007572, -1.0000739 , -1.00007213, -1.00007041,\n",
      "       -1.00006874, -1.00006711, -1.00006553, -1.00006399, -1.00006249,\n",
      "       -1.00006104, -1.00005962, -1.00005825, -1.00005691, -1.00005561,\n",
      "       -1.0000525 , -1.00004959, -1.00004688, -1.00004434, -1.00004197,\n",
      "       -1.00003975, -1.00003766, -1.00003571, -1.00003388, -1.00003217,\n",
      "       -1.00003056, -1.00002905, -1.00002763, -1.0000263 , -1.00002504,\n",
      "       -1.00002386, -1.00002275, -1.0000217 , -1.00002071, -1.00001978,\n",
      "       -1.00001807, -1.00001655, -1.00001518, -1.00001396, -1.00001286,\n",
      "       -1.00001186, -1.00001097, -1.00001016, -1.00000942, -1.00000875,\n",
      "       -1.00000759, -1.00000662, -1.0000058 , -1.0000051 , -1.00000451,\n",
      "       -1.00000399, -1.00000355, -1.00000317, -1.00000284, -1.00000255])}\n"
     ]
    }
   ],
   "source": [
    "f_dir = \"/users/baribowo/Code/Python/pes/data/\" # office dir\n",
    "_, _, onlyfiles = next(walk(f_dir))\n",
    "print(onlyfiles)\n",
    "\n",
    "        \n",
    "list_data = []\n",
    "\n",
    "#clean OH data:\n",
    "R_values = []\n",
    "V_values = []\n",
    "fname = 'OH_multi_states_eV'\n",
    "with open(f_dir+fname) as f:\n",
    "    lines = [line.rstrip() for line in f]\n",
    "    for i in range(len(lines)):\n",
    "        if lines[i][0] == '#':\n",
    "            data = {'mol':'OH'}\n",
    "            splitline = lines[i].split()\n",
    "            data['state'] = splitline[0]\n",
    "            data['author'] = splitline[1]\n",
    "            if i!=0:\n",
    "                data[\"R\"] = np.array(R_values)\n",
    "                data[\"V\"] = np.array(V_values)\n",
    "                R_values = []\n",
    "                V_values = []\n",
    "                list_data.append(data)\n",
    "        elif (i==len(lines)-1):\n",
    "            data[\"R\"] = np.array(R_values)\n",
    "            data[\"V\"] = np.array(V_values)\n",
    "            R_values = []\n",
    "            V_values = []\n",
    "            list_data.append(data)\n",
    "        else:\n",
    "            splitline = lines[i].split()\n",
    "            if splitline[1][0]==\"−\":\n",
    "                splitline[1] = splitline[1].replace(\"−\",\"-\")\n",
    "            R_values.append(float(splitline[0]))\n",
    "            V_values.append(float(splitline[1]))\n",
    "\n",
    "array = []\n",
    "fname = 'OH_Chu_et_al_1974_hartree'\n",
    "states = [\"$X^2\\Pi$ MCSCF\", \"$X^2\\Pi$ CI\", \"$A^2\\Sigma^+$ MCSCF\", \"$A^2\\Sigma^+$ CI\"]\n",
    "with open(f_dir+fname) as f:\n",
    "    lines = [line.rstrip() for line in f]\n",
    "    for i in range(1, len(lines)):\n",
    "        splitlines = lines[i].split()\n",
    "        arr = np.array(splitlines, dtype = 'float')\n",
    "        array.append(arr)\n",
    "array = np.array(array)\n",
    "array = array.T\n",
    "for i in range(len(states)):\n",
    "    data = {'mol':'OH','author':'Chu et al 1974'}; data[\"state\"] = states[i]; data[\"R\"] = array[0]; data[\"V\"] = array[i+1]\n",
    "    list_data.append(data)\n",
    "            \n",
    "#clean O2 data:\n",
    "array = []\n",
    "states = None\n",
    "fname = 'O2_data_Bytautas2010_milihartree'\n",
    "with open(f_dir+fname) as f:\n",
    "    lines = [line.rstrip() for line in f]\n",
    "    states = lines[0].split()\n",
    "    for i in range(1, len(lines)):\n",
    "        splitlines = lines[i].split()\n",
    "        arr = np.array(splitlines, dtype = 'float')\n",
    "        array.append(arr)\n",
    "array = np.array(array)\n",
    "array = array.T\n",
    "for i in range(1, len(states)):\n",
    "    data = {'mol':'O2','author':'Bytautas2010'}; data[\"state\"] = states[i]; data[\"R\"] = array[0]; data[\"V\"] = array[i]\n",
    "    list_data.append(data)\n",
    "\n",
    "#H2 data:\n",
    "fnames = ['H2_Kolos.txt', 'H2_Wolniewicz_BO.txt']\n",
    "for fname in fnames:\n",
    "    f = open(f_dir+fname)\n",
    "    f_data = json.load(f)\n",
    "    #data[\"H2\"][\"data\"]\n",
    "    print(f_data.keys(), len(f_data[\"data\"]), f_data[\"kind\"])\n",
    "    arr = np.array(f_data[\"data\"]).T\n",
    "    data = {'mol':'H2','author':fname.split('.')[0], 'state':'Unknown', 'R':arr[0], 'V':arr[1]}\n",
    "    list_data.append(data)\n",
    "\n",
    "for data in list_data:\n",
    "    print(data)"
   ]
  },
  {
   "cell_type": "code",
   "execution_count": 174,
   "metadata": {
    "scrolled": true
   },
   "outputs": [
    {
     "name": "stdout",
     "output_type": "stream",
     "text": [
      "data lengths: [29, 32, 24]\n",
      "data lengths: [32, 21, 14]\n",
      "data lengths: [24, 23, 23]\n",
      "data lengths: [23, 20, 19, 19]\n",
      "data lengths: [22, 22, 22, 22]\n"
     ]
    },
    {
     "data": {
      "image/png": "[encoded data removed]",
      "text/plain": [
       "<matplotlib.figure.Figure at 0x7f5410ec4c88>"
      ]
     },
     "metadata": {},
     "output_type": "display_data"
    },
    {
     "data": {
      "image/png": "[encoded data removed]",
      "text/plain": [
       "<matplotlib.figure.Figure at 0x7f5411435908>"
      ]
     },
     "metadata": {},
     "output_type": "display_data"
    },
    {
     "data": {
      "image/png": "[encoded data removed]",
      "text/plain": [
       "<matplotlib.figure.Figure at 0x7f541185fba8>"
      ]
     },
     "metadata": {},
     "output_type": "display_data"
    },
    {
     "data": {
      "image/png": "[encoded data removed]",
      "text/plain": [
       "<matplotlib.figure.Figure at 0x7f5411bea828>"
      ]
     },
     "metadata": {},
     "output_type": "display_data"
    },
    {
     "data": {
      "image/png": "[encoded data removed]",
      "text/plain": [
       "<matplotlib.figure.Figure at 0x7f5411c2ef98>"
      ]
     },
     "metadata": {},
     "output_type": "display_data"
    }
   ],
   "source": [
    "shapes = ['b*','rx','g+', 'b>', 'rD', 'b<', 'gX']\n",
    "#  OH :\n",
    "# All from Shizgal98:\n",
    "#OH X^2\\Pi:\n",
    "import matplotlib\n",
    "matplotlib.rcParams['text.usetex'] = False\n",
    "import matplotlib.pyplot as plt\n",
    "fig, ax = plt.subplots(figsize=(12, 8))\n",
    "ax.plot(list_data[0]['R'], list_data[0]['V'], 'b*')\n",
    "ax.plot(list_data[1]['R'], list_data[1]['V'], 'rx')\n",
    "ax.plot(list_data[2]['R'], list_data[2]['V'], 'g+')\n",
    "auths = []\n",
    "for i in range(3):\n",
    "    auths.append(list_data[i]['author'])\n",
    "ax.legend(auths)\n",
    "print(\"data lengths:\",[len(list_data[i]['R']) for i in range(3)])\n",
    "\n",
    "#OH ^2\\Sigma^-:\n",
    "#the correct way to fetch:\n",
    "import matplotlib\n",
    "matplotlib.rcParams['text.usetex'] = False\n",
    "import matplotlib.pyplot as plt\n",
    "fig, ax = plt.subplots(figsize=(12, 8))\n",
    "idxes = []\n",
    "auths = []\n",
    "for i in range(len(list_data)):\n",
    "    if (list_data[i]['state'] == '#^2\\\\Sigma^-') and (list_data[i]['mol'] == 'OH'):\n",
    "        idxes.append(i)\n",
    "        auths.append(list_data[i]['author'])\n",
    "for i, idx in enumerate(idxes):\n",
    "    ax.plot(list_data[idx]['R'], list_data[idx]['V'], shapes[i])\n",
    "ax.legend(auths)\n",
    "print(\"data lengths:\",[len(list_data[i]['R']) for i in idxes])\n",
    "\n",
    "\n",
    "#OH ^4\\Sigma^-:\n",
    "import matplotlib\n",
    "matplotlib.rcParams['text.usetex'] = False\n",
    "import matplotlib.pyplot as plt\n",
    "fig, ax = plt.subplots(figsize=(12, 8))\n",
    "idxes = []\n",
    "auths = []\n",
    "for i in range(len(list_data)):\n",
    "    if (list_data[i]['state'] == '#^4\\\\Sigma^-') and (list_data[i]['mol'] == 'OH'):\n",
    "        idxes.append(i)\n",
    "        auths.append(list_data[i]['author'])\n",
    "for i, idx in enumerate(idxes):\n",
    "    ax.plot(list_data[idx]['R'], list_data[idx]['V'], shapes[i])\n",
    "ax.legend(auths)\n",
    "print(\"data lengths:\",[len(list_data[i]['R']) for i in idxes])\n",
    "\n",
    "\n",
    "#OH ^4\\\\Pi:\n",
    "import matplotlib\n",
    "matplotlib.rcParams['text.usetex'] = False\n",
    "import matplotlib.pyplot as plt\n",
    "fig, ax = plt.subplots(figsize=(12, 8))\n",
    "idxes = []\n",
    "auths = []\n",
    "for i in range(len(list_data)):\n",
    "    if (list_data[i]['state'] == '#^4\\\\Pi') and (list_data[i]['mol'] == 'OH'):\n",
    "        idxes.append(i)\n",
    "        auths.append(list_data[i]['author'])\n",
    "for i, idx in enumerate(idxes[:len(idxes)-1]):\n",
    "    ax.plot(list_data[idx]['R'], list_data[idx]['V'], shapes[i])\n",
    "ax.legend(auths)\n",
    "print(\"data lengths:\",[len(list_data[i]['R']) for i in idxes])\n",
    "\n",
    "# All from Chu et al 1974:\n",
    "import matplotlib\n",
    "matplotlib.rcParams['text.usetex'] = True\n",
    "import matplotlib.pyplot as plt\n",
    "fig, ax = plt.subplots(figsize=(12, 8))\n",
    "idxes = []\n",
    "states = []\n",
    "for i in range(len(list_data)):\n",
    "    if (list_data[i]['author'] == 'Chu et al 1974') and (list_data[i]['mol'] == 'OH'):\n",
    "        idxes.append(i)\n",
    "        states.append(list_data[i]['state'])\n",
    "for i, idx in enumerate(idxes):\n",
    "    ax.plot(list_data[idx]['R'], list_data[idx]['V'], shapes[i])\n",
    "ax.legend(states)\n",
    "print(\"data lengths:\",[len(list_data[i]['R']) for i in idxes])"
   ]
  },
  {
   "cell_type": "code",
   "execution_count": 175,
   "metadata": {},
   "outputs": [
    {
     "name": "stdout",
     "output_type": "stream",
     "text": [
      "data lengths: [26, 26, 26]\n"
     ]
    },
    {
     "data": {
      "image/png": "[encoded data removed]",
      "text/plain": [
       "<matplotlib.figure.Figure at 0x7f541152fa20>"
      ]
     },
     "metadata": {},
     "output_type": "display_data"
    }
   ],
   "source": [
    "# O2:\n",
    "# from Bytautas2010:\n",
    "import matplotlib\n",
    "matplotlib.rcParams['text.usetex'] = True\n",
    "import matplotlib.pyplot as plt\n",
    "fig, ax = plt.subplots(figsize=(12, 8))\n",
    "idxes = []\n",
    "states = []\n",
    "for i in range(len(list_data)):\n",
    "    if (list_data[i]['mol'] == 'O2'):\n",
    "        idxes.append(i)\n",
    "        states.append(list_data[i]['state'])\n",
    "for i, idx in enumerate(idxes):\n",
    "    ax.plot(list_data[idx]['R'], list_data[idx]['V'], shapes[i])\n",
    "ax.legend(states)\n",
    "print(\"data lengths:\",[len(list_data[i]['R']) for i in idxes])"
   ]
  },
  {
   "cell_type": "code",
   "execution_count": 177,
   "metadata": {},
   "outputs": [
    {
     "name": "stdout",
     "output_type": "stream",
     "text": [
      "data lengths: [87, 670]\n"
     ]
    },
    {
     "data": {
      "image/png": "[encoded data removed]",
      "text/plain": [
       "<matplotlib.figure.Figure at 0x7f5410f87160>"
      ]
     },
     "metadata": {},
     "output_type": "display_data"
    }
   ],
   "source": [
    "# H2\n",
    "# Kolos and Wolniewicz\n",
    "import matplotlib\n",
    "matplotlib.rcParams['text.usetex'] = False\n",
    "import matplotlib.pyplot as plt\n",
    "fig, ax = plt.subplots(figsize=(12, 8))\n",
    "idxes = []\n",
    "auths = []\n",
    "for i in range(len(list_data)):\n",
    "    if (list_data[i]['mol'] == 'H2'):\n",
    "        idxes.append(i)\n",
    "        auths.append(list_data[i]['author'])\n",
    "for i, idx in enumerate(idxes):\n",
    "    ax.plot(list_data[idx]['R'], list_data[idx]['V'], shapes[i])\n",
    "ax.legend(auths)\n",
    "print(\"data lengths:\",[len(list_data[i]['R']) for i in idxes])"
   ]
  },
  {
   "cell_type": "code",
   "execution_count": null,
   "metadata": {},
   "outputs": [],
   "source": []
  }
 ],
 "metadata": {
  "kernelspec": {
   "display_name": "Python 3",
   "language": "python",
   "name": "python3"
  },
  "language_info": {
   "codemirror_mode": {
    "name": "ipython",
    "version": 3
   },
   "file_extension": ".py",
   "mimetype": "text/x-python",
   "name": "python",
   "nbconvert_exporter": "python",
   "pygments_lexer": "ipython3",
   "version": "3.6.9"
  }
 },
 "nbformat": 4,
 "nbformat_minor": 2
}
