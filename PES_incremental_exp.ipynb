{
 "cells": [
  {
   "cell_type": "code",
   "execution_count": 3,
   "metadata": {},
   "outputs": [],
   "source": [
    "import numpy as np\n",
    "import json\n",
    "from os import walk"
   ]
  },
  {
   "cell_type": "code",
   "execution_count": 39,
   "metadata": {},
   "outputs": [
    {
     "name": "stdout",
     "output_type": "stream",
     "text": [
      "['H3_Su_class_1.txt', 'H4_Hinde_QZ.txt', 'H3_mielke_main.txt', 'H5_Tablero.txt', 'H3_Su_class_2.txt', 'H2_Kolos.txt', 'H4_Hinde_TZ.txt', 'artificial_H2_Kolos.txt', 'H2_Wolniewicz_BO.txt', 'H3_mielke_vdw.txt', 'H3_mielke_ac.txt', 'H3_mielke_coll.txt']\n",
      "dict_keys(['data', 'accuracy', 'kind', 'name', 'info']) 1409 H3\n",
      "dict_keys(['kind', 'name', 'data', 'H21_data', 'H22_data', 'accuracy', 'info']) 1653 H4\n",
      "dict_keys(['data', 'accuracy', 'kind', 'name', 'info']) 3263 H3\n",
      "dict_keys(['info', 'accuracy', 'name', 'kind', 'data']) 2799 H5\n",
      "dict_keys(['data', 'accuracy', 'kind', 'name', 'info']) 991 H3\n",
      "dict_keys(['info', 'accuracy', 'name', 'kind', 'data']) 87 H2\n",
      "dict_keys(['data', 'kind', 'name', 'accuracy', 'info']) 855 H4\n",
      "dict_keys(['info', 'accuracy', 'name', 'kind', 'data']) 2000 H2\n",
      "dict_keys(['info', 'accuracy', 'name', 'kind', 'data']) 670 H2\n",
      "dict_keys(['data', 'accuracy', 'kind', 'name', 'info']) 220 H3\n",
      "dict_keys(['data', 'accuracy', 'kind', 'name', 'info']) 140 H3\n",
      "dict_keys(['data', 'accuracy', 'kind', 'name', 'info']) 9 H3\n"
     ]
    },
    {
     "data": {
      "text/plain": [
       "2000"
      ]
     },
     "execution_count": 39,
     "metadata": {},
     "output_type": "execute_result"
    }
   ],
   "source": [
    "data = {\"H2\":{\"data\":[]}, \n",
    "        \"H3\":{\"data\":[]}, \n",
    "        \"H4\":{\"data\":[]}, \n",
    "        \"H5\":{\"data\":[]}\n",
    "        }\n",
    "\n",
    "kinds = list(data.keys())\n",
    "#read all data:\n",
    "#f_dir = \"C:/Users/beryl/Documents/WU/Main Topic/PythonFilesImportant/Data/Files/\" # main pc dir\n",
    "f_dir = \"/users/baribowo/Documents/maintopic/PythonFilesImportant/Data/Files/\" # office dir\n",
    "_, _, onlyfiles = next(walk(f_dir))\n",
    "print(onlyfiles)\n",
    "for f in onlyfiles:\n",
    "    f = open(f_dir+f)\n",
    "    f_data = json.load(f)\n",
    "    #data[\"H2\"][\"data\"]\n",
    "    print(f_data.keys(), len(f_data[\"data\"]), f_data[\"kind\"])\n",
    "    data[f_data[\"kind\"]][\"data\"].append(f_data[\"data\"]) #aggregate data (probably a bad idea) using .extend, .append results in different set\n",
    "    "
   ]
  },
  {
   "cell_type": "code",
   "execution_count": 145,
   "metadata": {},
   "outputs": [
    {
     "name": "stdout",
     "output_type": "stream",
     "text": [
      "total data: 1409\n",
      "[[ 2.170535    5.871594    6.040096    0.05197892]\n",
      " [ 3.16729     5.871594    6.927324    0.14024651]\n",
      " [ 3.28623     8.99159    12.21525     0.14860751]\n",
      " ...\n",
      " [ 3.44971     9.62197    10.20486     0.15756632]\n",
      " [ 3.24686     8.61673     9.71771     0.14600763]\n",
      " [ 3.2185      9.73266    12.89759     0.14402282]]\n"
     ]
    },
    {
     "data": {
      "text/plain": [
       "'\\nplt.rcParams[\"figure.figsize\"] = (20,15)\\nfig, (ax1, ax2, ax3) = plt.subplots(3)\\nfig.suptitle(\\'H data\\')\\nax1.plot(r, energy)\\n\\nfrom scipy.stats import norm\\nax2.plot(r, norm.pdf(r),\\'r-\\', lw=5, alpha=0.6, label=\\'norm pdf r\\')\\nax3.plot(energy, norm.pdf(energy),\\'r+\\', lw=5, alpha=0.6, label=\\'norm pdf energy\\')\\n'"
      ]
     },
     "execution_count": 145,
     "metadata": {},
     "output_type": "execute_result"
    }
   ],
   "source": [
    "# plot to check H2 data \n",
    "import matplotlib.pyplot as plt\n",
    "model_num = 0\n",
    "print(\"total data:\", len(data[\"H3\"][\"data\"][model_num]))\n",
    "print(np.array(data[\"H3\"][\"data\"][model_num]))\n",
    "#r, energy = np.array(data[\"H2\"][\"data\"][model_num]).T #only for H2\n",
    "Ab = np.array(data[\"H3\"][\"data\"][model_num])\n",
    "r = Ab[:,0:Ab.shape[1]-1]\n",
    "energy = Ab[:,Ab.shape[1]-1:Ab.shape[1]].reshape(-1)\n",
    "'''\n",
    "plt.rcParams[\"figure.figsize\"] = (20,15)\n",
    "fig, (ax1, ax2, ax3) = plt.subplots(3)\n",
    "fig.suptitle('H data')\n",
    "ax1.plot(r, energy)\n",
    "\n",
    "from scipy.stats import norm\n",
    "ax2.plot(r, norm.pdf(r),'r-', lw=5, alpha=0.6, label='norm pdf r')\n",
    "ax3.plot(energy, norm.pdf(energy),'r+', lw=5, alpha=0.6, label='norm pdf energy')\n",
    "'''"
   ]
  },
  {
   "cell_type": "code",
   "execution_count": 152,
   "metadata": {},
   "outputs": [
    {
     "name": "stdout",
     "output_type": "stream",
     "text": [
      "[[ 2.170535  5.871594  6.040096 ...  0.        0.        0.      ]\n",
      " [ 3.16729   5.871594  6.927324 ...  0.        0.        0.      ]\n",
      " [ 3.28623   8.99159  12.21525  ...  0.        0.        0.      ]\n",
      " ...\n",
      " [ 3.44971   9.62197  10.20486  ...  0.        0.        0.      ]\n",
      " [ 3.24686   8.61673   9.71771  ...  0.        0.        0.      ]\n",
      " [ 3.2185    9.73266  12.89759  ...  0.        0.        0.      ]]\n"
     ]
    }
   ],
   "source": [
    "'''Raise the dimension of the data'''\n",
    "A = np.zeros((r.shape[0],10)) # data matrix with increased dimension, to accomodate higher H clusters (up to H5)\n",
    "#A[:,0] = r # H2 exclusive\n",
    "A[:,:r.shape[1]] = r # Hx\n",
    "print(A)"
   ]
  },
  {
   "cell_type": "code",
   "execution_count": 153,
   "metadata": {},
   "outputs": [
    {
     "name": "stdout",
     "output_type": "stream",
     "text": [
      "Training Features Shape: (1056, 10)\n",
      "Training Labels Shape: (1056,)\n",
      "Testing Features Shape: (353, 10)\n",
      "Testing Labels Shape: (353,)\n"
     ]
    }
   ],
   "source": [
    "'''\n",
    "Split the training and test data\n",
    "'''\n",
    "from sklearn.model_selection import train_test_split\n",
    "x_train, x_test, y_train, y_test = train_test_split(A, energy, test_size=0.25, random_state=13)\n",
    "print('Training Features Shape:', x_train.shape)\n",
    "print('Training Labels Shape:', y_train.shape)\n",
    "print('Testing Features Shape:', x_test.shape)\n",
    "print('Testing Labels Shape:', y_test.shape)"
   ]
  },
  {
   "cell_type": "code",
   "execution_count": 154,
   "metadata": {},
   "outputs": [
    {
     "name": "stderr",
     "output_type": "stream",
     "text": [
      "[Parallel(n_jobs=1)]: Using backend SequentialBackend with 1 concurrent workers.\n",
      "[Parallel(n_jobs=1)]: Done 1000 out of 1000 | elapsed:    2.0s finished\n"
     ]
    },
    {
     "data": {
      "text/plain": [
       "RandomForestRegressor(n_estimators=1000, random_state=13, verbose=1)"
      ]
     },
     "execution_count": 154,
     "metadata": {},
     "output_type": "execute_result"
    }
   ],
   "source": [
    "'''\n",
    "Setup the Random Forest parameters\n",
    "'''\n",
    "from sklearn.ensemble import RandomForestRegressor\n",
    "\n",
    "#generate the RF model\n",
    "rf = RandomForestRegressor(n_estimators= 1000, random_state=13, verbose=1)\n",
    "\n",
    "#train the model on training data\n",
    "rf.fit(x_train, y_train)"
   ]
  },
  {
   "cell_type": "code",
   "execution_count": 155,
   "metadata": {},
   "outputs": [
    {
     "name": "stdout",
     "output_type": "stream",
     "text": [
      "Root Mean Squared Error : 0.0\n"
     ]
    },
    {
     "name": "stderr",
     "output_type": "stream",
     "text": [
      "[Parallel(n_jobs=1)]: Using backend SequentialBackend with 1 concurrent workers.\n",
      "[Parallel(n_jobs=1)]: Done 1000 out of 1000 | elapsed:    0.2s finished\n"
     ]
    }
   ],
   "source": [
    "'''Model evaluation on training set'''\n",
    "from sklearn.metrics import mean_squared_error\n",
    "from scipy.stats import pearsonr\n",
    "\n",
    "preds = rf.predict(x_train)\n",
    "\n",
    "#Root Mean Squared Error\n",
    "rmse = np.sqrt(mean_squared_error(y_train, preds))\n",
    "print('Root Mean Squared Error :', round(rmse, 2))\n",
    "\n",
    "#Pearson Correlation Coefficient (PCC) score\n",
    "pcc = pearsonr(y_train, preds)"
   ]
  },
  {
   "cell_type": "code",
   "execution_count": 156,
   "metadata": {},
   "outputs": [
    {
     "name": "stdout",
     "output_type": "stream",
     "text": [
      "Root Mean Squared Error : 0.0\n",
      "Pearson Correlation Coefficient : 1.0\n"
     ]
    },
    {
     "name": "stderr",
     "output_type": "stream",
     "text": [
      "[Parallel(n_jobs=1)]: Using backend SequentialBackend with 1 concurrent workers.\n",
      "[Parallel(n_jobs=1)]: Done 1000 out of 1000 | elapsed:    0.1s finished\n"
     ]
    }
   ],
   "source": [
    "'''Model evaluation on Test set'''\n",
    "preds = rf.predict(x_test)\n",
    "\n",
    "#Root Mean Squared Error\n",
    "rmse = np.sqrt(mean_squared_error(y_test, preds))\n",
    "print('Root Mean Squared Error :', round(rmse, 2))\n",
    "\n",
    "#Pearson Correlation Coefficient (PCC) score\n",
    "pcc = pearsonr(y_test, preds)\n",
    "print('Pearson Correlation Coefficient :', round(pcc[0],2))"
   ]
  },
  {
   "cell_type": "code",
   "execution_count": 151,
   "metadata": {},
   "outputs": [
    {
     "data": {
      "text/plain": [
       "[<matplotlib.lines.Line2D at 0x7fd99e731048>]"
      ]
     },
     "execution_count": 151,
     "metadata": {},
     "output_type": "execute_result"
    },
    {
     "data": {
      "image/png": "[encoded data removed]",
      "text/plain": [
       "<matplotlib.figure.Figure at 0x7fd99e731128>"
      ]
     },
     "metadata": {},
     "output_type": "display_data"
    }
   ],
   "source": [
    "'''actual vs prediction'''\n",
    "plt.plot(x_test[:,0], y_test, \"+\", label=\"actual\")\n",
    "plt.plot(x_test[:,0], preds, \"r*\", label=\"predicted\")"
   ]
  },
  {
   "cell_type": "code",
   "execution_count": null,
   "metadata": {},
   "outputs": [],
   "source": []
  }
 ],
 "metadata": {
  "kernelspec": {
   "display_name": "Python 3",
   "language": "python",
   "name": "python3"
  },
  "language_info": {
   "codemirror_mode": {
    "name": "ipython",
    "version": 3
   },
   "file_extension": ".py",
   "mimetype": "text/x-python",
   "name": "python",
   "nbconvert_exporter": "python",
   "pygments_lexer": "ipython3",
   "version": "3.6.9"
  }
 },
 "nbformat": 4,
 "nbformat_minor": 2
}
