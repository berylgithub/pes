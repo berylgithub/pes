{
 "cells": [
  {
   "cell_type": "code",
   "execution_count": 71,
   "metadata": {},
   "outputs": [],
   "source": [
    "# function definitions are in the script, no definitions in this ipynb allowed!\n",
    "include(\"PES_models_bonding_features.jl\") # need to reload everytime a change occurs\n",
    "include(\"RATPOT.jl\")\n",
    "using DataFrames, CSV"
   ]
  },
  {
   "cell_type": "code",
   "execution_count": 92,
   "metadata": {},
   "outputs": [
    {
     "data": {
      "text/plain": [
       "6032"
      ]
     },
     "execution_count": 92,
     "metadata": {},
     "output_type": "execute_result"
    }
   ],
   "source": [
    "# test using actual data:\n",
    "H_data = readdlm(\"data/h3/h3_data.txt\")\n",
    "# load atomic coordinates:\n",
    "H_coord = npzread(\"data/h3/h3_coord.npy\")\n",
    "R = H_data[:,1:end-1]; V = H_data[:, end]\n",
    "n_data = size(R)[1]"
   ]
  },
  {
   "cell_type": "code",
   "execution_count": 93,
   "metadata": {},
   "outputs": [],
   "source": [
    "idxes = shuffleobs(1:n_data); # shuffle indexes"
   ]
  },
  {
   "cell_type": "code",
   "execution_count": 94,
   "metadata": {},
   "outputs": [],
   "source": [
    "# split:\n",
    "id_train, id_test = splitobs(idxes, at=0.8)\n",
    "R_train = R[id_train,:]; V_train = V[id_train];\n",
    "R_test = R[id_test,:]; V_test = V[id_test]\n",
    "H_coord_train = H_coord[id_train,:,:]; H_coord_test = H_coord[id_test,:,:];"
   ]
  },
  {
   "cell_type": "code",
   "execution_count": 95,
   "metadata": {},
   "outputs": [],
   "source": [
    "const_r_xy = 1.4172946 # H2\n",
    "e_pow = 3\n",
    "#const_r_xy = 1.9369 #OH+\n",
    "N = 2 # hyperparam\n",
    "ρ = f_ρ(R, const_r_xy)\n",
    "q = f_q_bump(N, ρ)\n",
    "i = f_i(q) # should be transformed to unique integers\n",
    "ϵ = f_ϵ(i, q)\n",
    "# for h:\n",
    "α = f_α(ϵ)\n",
    "β = f_β(ϵ)\n",
    "ub = 1.; lb = -1; θ = rand(2*N+2) .* (ub-lb) .+ lb; # +2 since it starts from 0th index\n",
    "θ = ones(2*N+2);"
   ]
  },
  {
   "cell_type": "code",
   "execution_count": 96,
   "metadata": {},
   "outputs": [],
   "source": [
    "n_data, n_d = size(R)\n",
    "u = similar(R)\n",
    "w = similar(u)\n",
    "h = zeros(n_data, n_d, N+1) #stores the first sub primitive\n",
    "compute_u_w_h!(u, w, h, θ, q, α, β, i, N)\n",
    "#@benchmark compute_u_w_h!($u, $w, $h, $θ, $q, $α, $β, $i, $N)"
   ]
  },
  {
   "cell_type": "code",
   "execution_count": 97,
   "metadata": {},
   "outputs": [],
   "source": [
    "x = similar(h)\n",
    "y = similar(x)\n",
    "compute_hw_gw!(x, y, w, h, q, N)\n",
    "#@benchmark compute_hw_gw!($x, $y, $w, $h, $q, $N)"
   ]
  },
  {
   "cell_type": "code",
   "execution_count": 98,
   "metadata": {},
   "outputs": [],
   "source": [
    "ρ,u,w,x,y = BUMP_feature(θ, R, const_r_xy, N);\n",
    "#@benchmark BUMP_feature($θ, $R, $const_r_xy, $N)"
   ]
  },
  {
   "cell_type": "code",
   "execution_count": 99,
   "metadata": {
    "scrolled": true
   },
   "outputs": [],
   "source": [
    "b = concat_BUMP(x, y, 5);\n",
    "#@benchmark concat_BUMP($x, $y, 5)"
   ]
  },
  {
   "cell_type": "code",
   "execution_count": 100,
   "metadata": {},
   "outputs": [],
   "source": [
    "idxer = atom_indexer(3)\n",
    "U = f_U_bas_BUMP(idxer, u, w, ρ, e_pow);\n",
    "#@benchmark f_U_bas_BUMP($idxer, $u, $w, $ρ, $e_pow)"
   ]
  },
  {
   "cell_type": "code",
   "execution_count": 101,
   "metadata": {},
   "outputs": [],
   "source": [
    "Y = f_Y_coord(b, idxer);\n",
    "#@benchmark f_Y_coord($b, $idxer)"
   ]
  },
  {
   "cell_type": "code",
   "execution_count": 16,
   "metadata": {},
   "outputs": [
    {
     "data": {
      "text/plain": [
       "BenchmarkTools.Trial: 10000 samples with 1 evaluation.\n",
       " Range \u001b[90m(\u001b[39m\u001b[36m\u001b[1mmin\u001b[22m\u001b[39m … \u001b[35mmax\u001b[39m\u001b[90m):  \u001b[39m\u001b[36m\u001b[1m118.800 μs\u001b[22m\u001b[39m … \u001b[35m  1.878 ms\u001b[39m  \u001b[90m┊\u001b[39m GC \u001b[90m(\u001b[39mmin … max\u001b[90m): \u001b[39m 0.00% … 90.44%\n",
       " Time  \u001b[90m(\u001b[39m\u001b[34m\u001b[1mmedian\u001b[22m\u001b[39m\u001b[90m):     \u001b[39m\u001b[34m\u001b[1m133.900 μs               \u001b[22m\u001b[39m\u001b[90m┊\u001b[39m GC \u001b[90m(\u001b[39mmedian\u001b[90m):    \u001b[39m 0.00%\n",
       " Time  \u001b[90m(\u001b[39m\u001b[32m\u001b[1mmean\u001b[22m\u001b[39m ± \u001b[32mσ\u001b[39m\u001b[90m):   \u001b[39m\u001b[32m\u001b[1m165.837 μs\u001b[22m\u001b[39m ± \u001b[32m179.053 μs\u001b[39m  \u001b[90m┊\u001b[39m GC \u001b[90m(\u001b[39mmean ± σ\u001b[90m):  \u001b[39m15.18% ± 12.53%\n",
       "\n",
       "  \u001b[39m█\u001b[34m▆\u001b[39m\u001b[32m▄\u001b[39m\u001b[39m▂\u001b[39m \u001b[39m \u001b[39m \u001b[39m \u001b[39m \u001b[39m \u001b[39m \u001b[39m \u001b[39m \u001b[39m \u001b[39m \u001b[39m \u001b[39m \u001b[39m \u001b[39m \u001b[39m \u001b[39m \u001b[39m \u001b[39m \u001b[39m \u001b[39m \u001b[39m \u001b[39m \u001b[39m \u001b[39m \u001b[39m \u001b[39m \u001b[39m \u001b[39m \u001b[39m \u001b[39m \u001b[39m \u001b[39m \u001b[39m \u001b[39m \u001b[39m \u001b[39m \u001b[39m \u001b[39m \u001b[39m \u001b[39m \u001b[39m \u001b[39m \u001b[39m \u001b[39m \u001b[39m \u001b[39m \u001b[39m \u001b[39m \u001b[39m \u001b[39m \u001b[39m \u001b[39m \u001b[39m \u001b[39m \u001b[39m \u001b[39m \u001b[39m \u001b[39m▁\n",
       "  \u001b[39m█\u001b[34m█\u001b[39m\u001b[32m█\u001b[39m\u001b[39m█\u001b[39m█\u001b[39m▆\u001b[39m▅\u001b[39m▃\u001b[39m▄\u001b[39m▄\u001b[39m▅\u001b[39m▆\u001b[39m▆\u001b[39m▄\u001b[39m▅\u001b[39m▄\u001b[39m▄\u001b[39m▃\u001b[39m▃\u001b[39m▃\u001b[39m▁\u001b[39m▃\u001b[39m▁\u001b[39m▁\u001b[39m▁\u001b[39m▁\u001b[39m▁\u001b[39m▁\u001b[39m▁\u001b[39m▁\u001b[39m▁\u001b[39m▁\u001b[39m▁\u001b[39m▁\u001b[39m▁\u001b[39m▁\u001b[39m▁\u001b[39m▁\u001b[39m▁\u001b[39m▁\u001b[39m▁\u001b[39m▁\u001b[39m▁\u001b[39m▁\u001b[39m▁\u001b[39m▁\u001b[39m▁\u001b[39m▁\u001b[39m▁\u001b[39m▁\u001b[39m▁\u001b[39m▁\u001b[39m▁\u001b[39m▁\u001b[39m▁\u001b[39m▁\u001b[39m▁\u001b[39m▁\u001b[39m▆\u001b[39m█\u001b[39m█\u001b[39m \u001b[39m█\n",
       "  119 μs\u001b[90m        \u001b[39m\u001b[90mHistogram: \u001b[39m\u001b[90m\u001b[1mlog(\u001b[22m\u001b[39m\u001b[90mfrequency\u001b[39m\u001b[90m\u001b[1m)\u001b[22m\u001b[39m\u001b[90m by time\u001b[39m       1.34 ms \u001b[0m\u001b[1m<\u001b[22m\n",
       "\n",
       " Memory estimate\u001b[90m: \u001b[39m\u001b[33m1.38 MiB\u001b[39m, allocs estimate\u001b[90m: \u001b[39m\u001b[33m9\u001b[39m."
      ]
     },
     "execution_count": 16,
     "metadata": {},
     "output_type": "execute_result"
    }
   ],
   "source": [
    "@benchmark Y ./ maximum(abs.(Y))"
   ]
  },
  {
   "cell_type": "code",
   "execution_count": 102,
   "metadata": {
    "scrolled": true
   },
   "outputs": [],
   "source": [
    "Δ = f_Δcoord(H_coord);\n",
    "#@benchmark f_Δcoord($H_coord)"
   ]
  },
  {
   "cell_type": "code",
   "execution_count": 103,
   "metadata": {
    "scrolled": true
   },
   "outputs": [
    {
     "data": {
      "text/plain": [
       "3×6032×5×3 Array{Float64, 4}:\n",
       "[:, :, 1, 1] =\n",
       " 0.0  0.0  0.0  0.0  0.0  0.0  0.0   0.0          …   8.12433e-23   0.0\n",
       " 0.0  0.0  0.0  0.0  0.0  0.0  0.0  -0.000108169     -0.345578     -0.343816\n",
       " 0.0  0.0  0.0  0.0  0.0  0.0  0.0   0.000239232      6.71815       6.52541\n",
       "\n",
       "[:, :, 2, 1] =\n",
       " 0.0  0.0  0.0  0.0  0.0  0.0  0.0   0.0          …   2.45978e-23   0.0\n",
       " 0.0  0.0  0.0  0.0  0.0  0.0  0.0  -0.000105103     -0.104629     -0.10593\n",
       " 0.0  0.0  0.0  0.0  0.0  0.0  0.0   0.00023245       2.03403       2.01049\n",
       "\n",
       "[:, :, 3, 1] =\n",
       " -3.28516e-24   4.0231e-25  0.0          …   1.89705e-22   0.0\n",
       " -1.69901      -1.63856     2.02697         -0.755142     -0.777539\n",
       "  1.0393        1.28038     1.11022e-16      0.942994      1.16941\n",
       "\n",
       "[:, :, 4, 1] =\n",
       " -2.7705e-25   1.00302e-25  0.0          …   3.54174e-23   0.0\n",
       " -0.162857    -0.140156     0.168285        -0.137135     -0.148556\n",
       "  0.0363234    0.00719732   1.38778e-17     -0.919438     -0.88365\n",
       "\n",
       "[:, :, 5, 1] =\n",
       " -2.35649e-26   1.12807e-26  0.0          …   2.02188e-23   0.0\n",
       " -0.0153096    -0.0150031    0.00834256      -0.0800192    -0.0936346\n",
       " -0.00073224   -7.40444e-5   4.33681e-19     -0.0315848    -0.0101659\n",
       "\n",
       "[:, :, 1, 2] =\n",
       " 0.0  0.0  0.0  0.0  0.0  0.0  …  1.06422e-22  -8.52566e-23  0.0\n",
       " 0.0  0.0  0.0  0.0  0.0  0.0     0.219991      0.313025     0.33399\n",
       " 0.0  0.0  0.0  0.0  0.0  0.0     7.41458       7.07694      6.62909\n",
       "\n",
       "[:, :, 2, 2] =\n",
       " 0.0  0.0  0.0  0.0  0.0  0.0  …  3.03166e-23  -2.50049e-23  0.0\n",
       " 0.0  0.0  0.0  0.0  0.0  0.0     0.0626693     0.091807     0.101943\n",
       " 0.0  0.0  0.0  0.0  0.0  0.0     2.1122        2.07559      2.02338\n",
       "\n",
       "[:, :, 3, 2] =\n",
       " -1.6318e-24  -4.2487e-25  0.0        0.0       …   1.60991e-22   0.0\n",
       " -0.604448    -0.538578    1.01349   -0.996561     -0.641153     -0.649858\n",
       "  1.14419      1.28598     0.637014   0.66465       0.889157      1.15318\n",
       "\n",
       "[:, :, 4, 2] =\n",
       " -2.05681e-25   9.62587e-26  0.0         0.0        …   5.5571e-23   0.0\n",
       " -0.121938     -0.133859     0.0841423  -0.0827371     -0.217099    -0.237076\n",
       "  0.0242565     0.0061547    0.0161498  -0.010018      -0.892918    -0.875959\n",
       "\n",
       "[:, :, 5, 2] =\n",
       " -2.25629e-26   1.128e-26    0.0         …   2.02188e-23   0.0\n",
       " -0.0148374    -0.0150014    0.00417128     -0.0800192    -0.0936346\n",
       " -0.00116994   -7.48723e-5  -0.00111112     -0.0315848    -0.0101659\n",
       "\n",
       "[:, :, 1, 3] =\n",
       " 0.0  0.0  0.0  0.0  0.0  0.0  1.14512e-29  …  -4.01327e-24   0.0\n",
       " 0.0  0.0  0.0  0.0  0.0  0.0  3.45701e-6      -0.0325524    -0.0098261\n",
       " 0.0  0.0  0.0  0.0  0.0  0.0  9.38338e-6      13.7951       13.1545\n",
       "\n",
       "[:, :, 2, 3] =\n",
       " 0.0  0.0  0.0  0.0  0.0  0.0  1.13416e-29  …  -4.07111e-25   0.0\n",
       " 0.0  0.0  0.0  0.0  0.0  0.0  3.42392e-6      -0.0128223    -0.00398745\n",
       " 0.0  0.0  0.0  0.0  0.0  0.0  9.29354e-6       4.10962       4.03387\n",
       "\n",
       "[:, :, 3, 3] =\n",
       " -1.65336e-24  -1.65436e-24  0.0       0.0       …   7.04545e-25   0.0\n",
       " -0.143263     -0.00717209   1.01349  -0.996561     -0.0111485    -0.00369282\n",
       "  2.38954       2.57741      1.90361   1.98387       2.37889       2.47716\n",
       "\n",
       "[:, :, 4, 3] =\n",
       " -7.13688e-26  -9.12095e-27  0.0        …  -3.58507e-25   0.0\n",
       " -0.0125127    -0.000499686  0.0841423      0.00728577    0.00237686\n",
       "  0.0865521     0.014745     0.121306      -1.66966      -1.71748\n",
       "\n",
       "[:, :, 5, 3] =\n",
       " -1.00204e-27  -2.22863e-30  0.0         …  0.0  0.0  0.0  0.0  0.0  0.0  0.0\n",
       " -0.000277993  -3.67764e-7   0.00417128     0.0  0.0  0.0  0.0  0.0  0.0  0.0\n",
       "  0.000946938   3.88846e-6   0.0041019      0.0  0.0  0.0  0.0  0.0  0.0  0.0"
      ]
     },
     "metadata": {},
     "output_type": "display_data"
    },
    {
     "data": {
      "text/plain": [
       "BenchmarkTools.Trial: 1702 samples with 1 evaluation.\n",
       " Range \u001b[90m(\u001b[39m\u001b[36m\u001b[1mmin\u001b[22m\u001b[39m … \u001b[35mmax\u001b[39m\u001b[90m):  \u001b[39m\u001b[36m\u001b[1m2.425 ms\u001b[22m\u001b[39m … \u001b[35m  6.997 ms\u001b[39m  \u001b[90m┊\u001b[39m GC \u001b[90m(\u001b[39mmin … max\u001b[90m): \u001b[39m0.00% … 48.55%\n",
       " Time  \u001b[90m(\u001b[39m\u001b[34m\u001b[1mmedian\u001b[22m\u001b[39m\u001b[90m):     \u001b[39m\u001b[34m\u001b[1m2.548 ms               \u001b[22m\u001b[39m\u001b[90m┊\u001b[39m GC \u001b[90m(\u001b[39mmedian\u001b[90m):    \u001b[39m0.00%\n",
       " Time  \u001b[90m(\u001b[39m\u001b[32m\u001b[1mmean\u001b[22m\u001b[39m ± \u001b[32mσ\u001b[39m\u001b[90m):   \u001b[39m\u001b[32m\u001b[1m2.917 ms\u001b[22m\u001b[39m ± \u001b[32m853.782 μs\u001b[39m  \u001b[90m┊\u001b[39m GC \u001b[90m(\u001b[39mmean ± σ\u001b[90m):  \u001b[39m9.08% ± 14.97%\n",
       "\n",
       "  \u001b[39m▄\u001b[39m█\u001b[34m▆\u001b[39m\u001b[39m▃\u001b[39m▁\u001b[39m▁\u001b[39m \u001b[39m▁\u001b[32m \u001b[39m\u001b[39m \u001b[39m \u001b[39m \u001b[39m▁\u001b[39m \u001b[39m \u001b[39m \u001b[39m \u001b[39m \u001b[39m \u001b[39m \u001b[39m \u001b[39m \u001b[39m \u001b[39m \u001b[39m \u001b[39m \u001b[39m \u001b[39m \u001b[39m \u001b[39m \u001b[39m \u001b[39m \u001b[39m \u001b[39m \u001b[39m \u001b[39m \u001b[39m \u001b[39m \u001b[39m \u001b[39m \u001b[39m \u001b[39m▃\u001b[39m▂\u001b[39m \u001b[39m \u001b[39m \u001b[39m \u001b[39m \u001b[39m \u001b[39m \u001b[39m \u001b[39m \u001b[39m \u001b[39m \u001b[39m \u001b[39m \u001b[39m \u001b[39m \u001b[39m \u001b[39m \u001b[39m \n",
       "  \u001b[39m█\u001b[39m█\u001b[34m█\u001b[39m\u001b[39m█\u001b[39m█\u001b[39m█\u001b[39m█\u001b[39m█\u001b[32m█\u001b[39m\u001b[39m█\u001b[39m█\u001b[39m█\u001b[39m█\u001b[39m█\u001b[39m█\u001b[39m█\u001b[39m█\u001b[39m▇\u001b[39m▆\u001b[39m▆\u001b[39m▆\u001b[39m▄\u001b[39m▅\u001b[39m▃\u001b[39m▁\u001b[39m▃\u001b[39m▃\u001b[39m▁\u001b[39m▁\u001b[39m▁\u001b[39m▁\u001b[39m▁\u001b[39m▁\u001b[39m▁\u001b[39m▁\u001b[39m▁\u001b[39m▁\u001b[39m▁\u001b[39m▁\u001b[39m▁\u001b[39m▅\u001b[39m█\u001b[39m█\u001b[39m▇\u001b[39m▅\u001b[39m▅\u001b[39m▄\u001b[39m▅\u001b[39m▃\u001b[39m▅\u001b[39m▃\u001b[39m▁\u001b[39m▃\u001b[39m▁\u001b[39m▁\u001b[39m▄\u001b[39m▄\u001b[39m▄\u001b[39m▅\u001b[39m \u001b[39m█\n",
       "  2.43 ms\u001b[90m      \u001b[39m\u001b[90mHistogram: \u001b[39m\u001b[90m\u001b[1mlog(\u001b[22m\u001b[39m\u001b[90mfrequency\u001b[39m\u001b[90m\u001b[1m)\u001b[22m\u001b[39m\u001b[90m by time\u001b[39m      6.18 ms \u001b[0m\u001b[1m<\u001b[22m\n",
       "\n",
       " Memory estimate\u001b[90m: \u001b[39m\u001b[33m8.70 MiB\u001b[39m, allocs estimate\u001b[90m: \u001b[39m\u001b[33m57\u001b[39m."
      ]
     },
     "execution_count": 103,
     "metadata": {},
     "output_type": "execute_result"
    }
   ],
   "source": [
    "rk = f_r_orient_vec(b, Δ, idxer)\n",
    "display(rk)\n",
    "@benchmark f_r_orient_vec($b, $Δ, $idxer)"
   ]
  },
  {
   "cell_type": "code",
   "execution_count": 19,
   "metadata": {},
   "outputs": [
    {
     "data": {
      "text/plain": [
       "BenchmarkTools.Trial: 3684 samples with 1 evaluation.\n",
       " Range \u001b[90m(\u001b[39m\u001b[36m\u001b[1mmin\u001b[22m\u001b[39m … \u001b[35mmax\u001b[39m\u001b[90m):  \u001b[39m\u001b[36m\u001b[1m769.400 μs\u001b[22m\u001b[39m … \u001b[35m11.248 ms\u001b[39m  \u001b[90m┊\u001b[39m GC \u001b[90m(\u001b[39mmin … max\u001b[90m): \u001b[39m 0.00% …  0.00%\n",
       " Time  \u001b[90m(\u001b[39m\u001b[34m\u001b[1mmedian\u001b[22m\u001b[39m\u001b[90m):     \u001b[39m\u001b[34m\u001b[1m  1.067 ms              \u001b[22m\u001b[39m\u001b[90m┊\u001b[39m GC \u001b[90m(\u001b[39mmedian\u001b[90m):    \u001b[39m 0.00%\n",
       " Time  \u001b[90m(\u001b[39m\u001b[32m\u001b[1mmean\u001b[22m\u001b[39m ± \u001b[32mσ\u001b[39m\u001b[90m):   \u001b[39m\u001b[32m\u001b[1m  1.354 ms\u001b[22m\u001b[39m ± \u001b[32m 1.249 ms\u001b[39m  \u001b[90m┊\u001b[39m GC \u001b[90m(\u001b[39mmean ± σ\u001b[90m):  \u001b[39m22.22% ± 19.47%\n",
       "\n",
       "  \u001b[39m▇\u001b[39m█\u001b[39m▇\u001b[34m█\u001b[39m\u001b[39m▅\u001b[39m▄\u001b[32m▅\u001b[39m\u001b[39m▁\u001b[39m \u001b[39m \u001b[39m \u001b[39m \u001b[39m \u001b[39m \u001b[39m \u001b[39m \u001b[39m \u001b[39m \u001b[39m \u001b[39m \u001b[39m \u001b[39m \u001b[39m \u001b[39m \u001b[39m \u001b[39m \u001b[39m \u001b[39m \u001b[39m \u001b[39m \u001b[39m \u001b[39m \u001b[39m \u001b[39m \u001b[39m \u001b[39m \u001b[39m \u001b[39m \u001b[39m \u001b[39m \u001b[39m \u001b[39m \u001b[39m \u001b[39m \u001b[39m \u001b[39m \u001b[39m \u001b[39m \u001b[39m \u001b[39m▁\u001b[39m▂\u001b[39m▁\u001b[39m \u001b[39m \u001b[39m \u001b[39m \u001b[39m \u001b[39m \u001b[39m \u001b[39m \u001b[39m \u001b[39m▁\n",
       "  \u001b[39m█\u001b[39m█\u001b[39m█\u001b[34m█\u001b[39m\u001b[39m█\u001b[39m█\u001b[32m█\u001b[39m\u001b[39m█\u001b[39m▆\u001b[39m▃\u001b[39m▄\u001b[39m▄\u001b[39m▃\u001b[39m▁\u001b[39m▃\u001b[39m▁\u001b[39m▁\u001b[39m▁\u001b[39m▁\u001b[39m▁\u001b[39m▁\u001b[39m▁\u001b[39m▁\u001b[39m▁\u001b[39m▁\u001b[39m▁\u001b[39m▁\u001b[39m▁\u001b[39m▁\u001b[39m▁\u001b[39m▃\u001b[39m▁\u001b[39m▁\u001b[39m▁\u001b[39m▁\u001b[39m▁\u001b[39m▁\u001b[39m▁\u001b[39m▁\u001b[39m▁\u001b[39m▁\u001b[39m▁\u001b[39m▁\u001b[39m▁\u001b[39m▁\u001b[39m▃\u001b[39m▇\u001b[39m█\u001b[39m█\u001b[39m█\u001b[39m█\u001b[39m█\u001b[39m▇\u001b[39m▆\u001b[39m▆\u001b[39m▅\u001b[39m▆\u001b[39m▅\u001b[39m▆\u001b[39m▅\u001b[39m \u001b[39m█\n",
       "  769 μs\u001b[90m        \u001b[39m\u001b[90mHistogram: \u001b[39m\u001b[90m\u001b[1mlog(\u001b[22m\u001b[39m\u001b[90mfrequency\u001b[39m\u001b[90m\u001b[1m)\u001b[22m\u001b[39m\u001b[90m by time\u001b[39m      6.89 ms \u001b[0m\u001b[1m<\u001b[22m\n",
       "\n",
       " Memory estimate\u001b[90m: \u001b[39m\u001b[33m4.14 MiB\u001b[39m, allocs estimate\u001b[90m: \u001b[39m\u001b[33m11\u001b[39m."
      ]
     },
     "execution_count": 19,
     "metadata": {},
     "output_type": "execute_result"
    }
   ],
   "source": [
    "@benchmark rk ./ maximum(abs.(rk))"
   ]
  },
  {
   "cell_type": "code",
   "execution_count": 23,
   "metadata": {},
   "outputs": [
    {
     "data": {
      "text/plain": [
       "BenchmarkTools.Trial: 1367 samples with 1 evaluation.\n",
       " Range \u001b[90m(\u001b[39m\u001b[36m\u001b[1mmin\u001b[22m\u001b[39m … \u001b[35mmax\u001b[39m\u001b[90m):  \u001b[39m\u001b[36m\u001b[1m2.961 ms\u001b[22m\u001b[39m … \u001b[35m10.965 ms\u001b[39m  \u001b[90m┊\u001b[39m GC \u001b[90m(\u001b[39mmin … max\u001b[90m): \u001b[39m 0.00% … 65.72%\n",
       " Time  \u001b[90m(\u001b[39m\u001b[34m\u001b[1mmedian\u001b[22m\u001b[39m\u001b[90m):     \u001b[39m\u001b[34m\u001b[1m3.163 ms              \u001b[22m\u001b[39m\u001b[90m┊\u001b[39m GC \u001b[90m(\u001b[39mmedian\u001b[90m):    \u001b[39m 0.00%\n",
       " Time  \u001b[90m(\u001b[39m\u001b[32m\u001b[1mmean\u001b[22m\u001b[39m ± \u001b[32mσ\u001b[39m\u001b[90m):   \u001b[39m\u001b[32m\u001b[1m3.654 ms\u001b[22m\u001b[39m ± \u001b[32m 1.067 ms\u001b[39m  \u001b[90m┊\u001b[39m GC \u001b[90m(\u001b[39mmean ± σ\u001b[90m):  \u001b[39m13.01% ± 17.50%\n",
       "\n",
       "  \u001b[39m▂\u001b[39m▇\u001b[39m█\u001b[34m▇\u001b[39m\u001b[39m▅\u001b[39m▄\u001b[39m▂\u001b[39m \u001b[39m \u001b[39m \u001b[39m \u001b[32m \u001b[39m\u001b[39m \u001b[39m \u001b[39m \u001b[39m \u001b[39m \u001b[39m \u001b[39m \u001b[39m \u001b[39m \u001b[39m \u001b[39m \u001b[39m \u001b[39m \u001b[39m \u001b[39m \u001b[39m \u001b[39m \u001b[39m \u001b[39m \u001b[39m \u001b[39m \u001b[39m \u001b[39m \u001b[39m \u001b[39m \u001b[39m \u001b[39m▁\u001b[39m▁\u001b[39m▂\u001b[39m▃\u001b[39m▂\u001b[39m▁\u001b[39m \u001b[39m▁\u001b[39m \u001b[39m \u001b[39m \u001b[39m \u001b[39m \u001b[39m \u001b[39m \u001b[39m \u001b[39m \u001b[39m \u001b[39m \u001b[39m \u001b[39m \u001b[39m \n",
       "  \u001b[39m█\u001b[39m█\u001b[39m█\u001b[34m█\u001b[39m\u001b[39m█\u001b[39m█\u001b[39m█\u001b[39m▇\u001b[39m▆\u001b[39m▅\u001b[39m▅\u001b[32m▅\u001b[39m\u001b[39m▅\u001b[39m▁\u001b[39m▄\u001b[39m▅\u001b[39m▁\u001b[39m▄\u001b[39m▄\u001b[39m▁\u001b[39m▁\u001b[39m▄\u001b[39m▁\u001b[39m▁\u001b[39m▄\u001b[39m▁\u001b[39m▄\u001b[39m▄\u001b[39m▁\u001b[39m▁\u001b[39m▄\u001b[39m▅\u001b[39m▅\u001b[39m▁\u001b[39m▁\u001b[39m▁\u001b[39m▁\u001b[39m▄\u001b[39m█\u001b[39m█\u001b[39m█\u001b[39m█\u001b[39m█\u001b[39m█\u001b[39m█\u001b[39m█\u001b[39m▆\u001b[39m▆\u001b[39m▆\u001b[39m▇\u001b[39m▇\u001b[39m▆\u001b[39m▅\u001b[39m▅\u001b[39m▅\u001b[39m▁\u001b[39m▄\u001b[39m▅\u001b[39m \u001b[39m█\n",
       "  2.96 ms\u001b[90m      \u001b[39m\u001b[90mHistogram: \u001b[39m\u001b[90m\u001b[1mlog(\u001b[22m\u001b[39m\u001b[90mfrequency\u001b[39m\u001b[90m\u001b[1m)\u001b[22m\u001b[39m\u001b[90m by time\u001b[39m     6.73 ms \u001b[0m\u001b[1m<\u001b[22m\n",
       "\n",
       " Memory estimate\u001b[90m: \u001b[39m\u001b[33m13.12 MiB\u001b[39m, allocs estimate\u001b[90m: \u001b[39m\u001b[33m153\u001b[39m."
      ]
     },
     "execution_count": 23,
     "metadata": {},
     "output_type": "execute_result"
    }
   ],
   "source": [
    "G = f_G_mat(rk)\n",
    "@benchmark f_G_mat($rk)"
   ]
  },
  {
   "cell_type": "code",
   "execution_count": 206,
   "metadata": {},
   "outputs": [
    {
     "data": {
      "text/plain": [
       "BenchmarkTools.Trial: 2144 samples with 1 evaluation.\n",
       " Range \u001b[90m(\u001b[39m\u001b[36m\u001b[1mmin\u001b[22m\u001b[39m … \u001b[35mmax\u001b[39m\u001b[90m):  \u001b[39m\u001b[36m\u001b[1m1.139 ms\u001b[22m\u001b[39m … \u001b[35m16.316 ms\u001b[39m  \u001b[90m┊\u001b[39m GC \u001b[90m(\u001b[39mmin … max\u001b[90m): \u001b[39m 0.00% … 60.67%\n",
       " Time  \u001b[90m(\u001b[39m\u001b[34m\u001b[1mmedian\u001b[22m\u001b[39m\u001b[90m):     \u001b[39m\u001b[34m\u001b[1m1.850 ms              \u001b[22m\u001b[39m\u001b[90m┊\u001b[39m GC \u001b[90m(\u001b[39mmedian\u001b[90m):    \u001b[39m 0.00%\n",
       " Time  \u001b[90m(\u001b[39m\u001b[32m\u001b[1mmean\u001b[22m\u001b[39m ± \u001b[32mσ\u001b[39m\u001b[90m):   \u001b[39m\u001b[32m\u001b[1m2.329 ms\u001b[22m\u001b[39m ± \u001b[32m 2.125 ms\u001b[39m  \u001b[90m┊\u001b[39m GC \u001b[90m(\u001b[39mmean ± σ\u001b[90m):  \u001b[39m21.69% ± 19.08%\n",
       "\n",
       "  \u001b[39m \u001b[39m \u001b[39m \u001b[39m█\u001b[34m▃\u001b[39m\u001b[39m▁\u001b[39m \u001b[32m \u001b[39m\u001b[39m \u001b[39m \u001b[39m \u001b[39m \u001b[39m \u001b[39m \u001b[39m \u001b[39m \u001b[39m \u001b[39m \u001b[39m \u001b[39m \u001b[39m \u001b[39m \u001b[39m \u001b[39m \u001b[39m \u001b[39m \u001b[39m \u001b[39m \u001b[39m \u001b[39m \u001b[39m \u001b[39m \u001b[39m \u001b[39m \u001b[39m \u001b[39m \u001b[39m \u001b[39m \u001b[39m \u001b[39m \u001b[39m \u001b[39m \u001b[39m \u001b[39m \u001b[39m \u001b[39m \u001b[39m \u001b[39m \u001b[39m \u001b[39m \u001b[39m \u001b[39m \u001b[39m \u001b[39m \u001b[39m \u001b[39m \u001b[39m \u001b[39m \u001b[39m \u001b[39m \n",
       "  \u001b[39m▄\u001b[39m▃\u001b[39m▃\u001b[39m█\u001b[34m█\u001b[39m\u001b[39m█\u001b[39m▂\u001b[32m▂\u001b[39m\u001b[39m▂\u001b[39m▁\u001b[39m▁\u001b[39m▁\u001b[39m▁\u001b[39m▁\u001b[39m▁\u001b[39m▁\u001b[39m▁\u001b[39m▁\u001b[39m▁\u001b[39m▁\u001b[39m▁\u001b[39m▂\u001b[39m▂\u001b[39m▁\u001b[39m▁\u001b[39m▁\u001b[39m▁\u001b[39m▁\u001b[39m▁\u001b[39m▁\u001b[39m▁\u001b[39m▁\u001b[39m▁\u001b[39m▁\u001b[39m▁\u001b[39m▁\u001b[39m▁\u001b[39m▁\u001b[39m▁\u001b[39m▁\u001b[39m▁\u001b[39m▁\u001b[39m▁\u001b[39m▁\u001b[39m▁\u001b[39m▁\u001b[39m▁\u001b[39m▁\u001b[39m▂\u001b[39m▁\u001b[39m▁\u001b[39m▁\u001b[39m▁\u001b[39m▂\u001b[39m▂\u001b[39m▂\u001b[39m▃\u001b[39m▂\u001b[39m \u001b[39m▂\n",
       "  1.14 ms\u001b[90m        Histogram: frequency by time\u001b[39m        11.3 ms \u001b[0m\u001b[1m<\u001b[22m\n",
       "\n",
       " Memory estimate\u001b[90m: \u001b[39m\u001b[33m8.15 MiB\u001b[39m, allocs estimate\u001b[90m: \u001b[39m\u001b[33m2\u001b[39m."
      ]
     },
     "execution_count": 206,
     "metadata": {},
     "output_type": "execute_result"
    }
   ],
   "source": [
    "Φ = f_Φ(U, Y, G, 59)\n",
    "@benchmark f_Φ($U, $Y, $G, 59)"
   ]
  },
  {
   "cell_type": "code",
   "execution_count": 328,
   "metadata": {
    "scrolled": true
   },
   "outputs": [
    {
     "name": "stdout",
     "output_type": "stream",
     "text": [
      "U -0.5797520405478458 -1.0 0.0 0.2900095253731425\n",
      "b 0.01701748041385712 -0.25 0.76041202189571 0.059169315456611256\n",
      "Y 0.03403496082771424 -0.3832001580107737 0.7611893352040209 0.08443718931310261\n",
      "rk -0.008908869062954163 -0.5636557216268155 0.5367028157760589 0.0525513751194236\n",
      "G 0.004023272507118442 -0.1428144911012107 0.3194900981574427 0.018029137279815796\n",
      "Φ -0.008275105587526695 -1.0 0.7611893352040209 0.09293407838228224\n"
     ]
    }
   ],
   "source": [
    "#tchebyshev:\n",
    "C, R_h, R_low, R_0, R_m,R_up, R_C = (1., 0.01, 0.02, 0.5, .9, 10., 11.)\n",
    "ub = 1.; lb = -1.\n",
    "#C, R_h, R_low, R_0, R_m,R_up, R_C = rand(7).* (ub-lb) .+ lb;\n",
    "n_atom, n_basis, g, e = (3, 59, 6, 3)\n",
    "r_xy, N, max_deg = (1.4172946, 5, 5)\n",
    "U = f_U_bas(R, idxer, C, R_h, R_C, R_0, g)\n",
    "println(\"U \",mean(U), \" \", minimum(U), \" \", maximum(U),\" \", std(U))\n",
    "b = f_b_feature(R, R_up, R_m, R_low, max_deg, e)\n",
    "println(\"b \",mean(b), \" \", minimum(b), \" \", maximum(b),\" \", std(b))\n",
    "Y = f_Y_coord(b, idxer)\n",
    "println(\"Y \",mean(Y), \" \", minimum(Y), \" \", maximum(Y),\" \", std(Y))\n",
    "Δ = f_Δcoord(H_coord)\n",
    "rk = f_r_orient_vec(b, Δ, idxer)\n",
    "println(\"rk \",mean(rk), \" \", minimum(rk), \" \", maximum(rk),\" \", std(rk))\n",
    "G = f_G_mat(rk)\n",
    "println(\"G \",mean(G), \" \", minimum(G), \" \", maximum(G),\" \", std(G))\n",
    "Φ = f_Φ(U, Y, G, n_basis)\n",
    "println(\"Φ \", mean(Φ), \" \", minimum(Φ), \" \", maximum(Φ),\" \", std(Φ))"
   ]
  },
  {
   "cell_type": "code",
   "execution_count": 358,
   "metadata": {},
   "outputs": [
    {
     "name": "stdout",
     "output_type": "stream",
     "text": [
      "U 0.17446762098153076 -1.0 0.6645603457001372 0.17504937067490542\n",
      "b 0.19917250000016573 -0.27741450205575025 0.9999999999971216 0.3512228536714614\n",
      "Y 0.19917268302859983 -0.2773363656679622 1.0 0.32475124560286583\n",
      "rk 0.009894944977976943 -0.958809741264912 1.0 0.07816680420165806\n",
      "G 0.005252716778684095 -0.03597578058302146 1.000027646724492 0.037276237975188094\n",
      "Φ 0.04822399163953965 -1.0 1.0000552942133254 0.14208278850915093\n"
     ]
    }
   ],
   "source": [
    "#BUMP:\n",
    "# hyperparam:\n",
    "N = 2; max_deg = 5; e_pow = 3; n_basis = 59; const_r_xy = 1.4172946; \n",
    "ub = 1.; lb = -1.; θ = rand(2*N+2) .* (ub-lb) .+ lb;\n",
    "Θ = rand(n_basis, 6) .* (ub-lb) .+ lb;\n",
    "ρ,u,w,x,y = BUMP_feature(θ, R, const_r_xy, N);\n",
    "U = f_U_bas_BUMP(idxer, u, w, ρ, e_pow)\n",
    "println(\"U \",mean(U), \" \", minimum(U), \" \", maximum(U),\" \", std(U))\n",
    "b = concat_BUMP(x, y, max_deg);\n",
    "println(\"b \",mean(b), \" \", minimum(b), \" \", maximum(b),\" \", std(b))\n",
    "Y = f_Y_coord(b, idxer)\n",
    "Y = Y ./ maximum(abs.(Y))\n",
    "println(\"Y \",mean(Y), \" \", minimum(Y), \" \", maximum(Y),\" \", std(Y))\n",
    "Δ = f_Δcoord(H_coord)\n",
    "rk = f_r_orient_vec(b, Δ, idxer)\n",
    "rk = rk ./ maximum(abs.(rk))\n",
    "println(\"rk \",mean(rk), \" \", minimum(rk), \" \", maximum(rk),\" \", std(rk))\n",
    "G = f_G_mat(rk)\n",
    "#G = G ./ maximum(abs.(G))\n",
    "println(\"G \",mean(G), \" \", minimum(G), \" \", maximum(G),\" \", std(G))\n",
    "Φ = f_Φ(U, Y, G, n_basis)\n",
    "#Φ = Φ./maximum(abs.(Φ))\n",
    "println(\"Φ \",mean(Φ), \" \", minimum(Φ), \" \", maximum(Φ),\" \", std(Φ))"
   ]
  },
  {
   "cell_type": "code",
   "execution_count": 326,
   "metadata": {
    "scrolled": true
   },
   "outputs": [
    {
     "name": "stdout",
     "output_type": "stream",
     "text": [
      "  754.900 μs (11 allocations: 4.14 MiB)\n",
      "  91.500 μs (9 allocations: 1.38 MiB)\n",
      "  912.600 μs (11 allocations: 6.90 MiB)\n",
      "  2.397 ms (9 allocations: 16.29 MiB)\n"
     ]
    },
    {
     "data": {
      "text/plain": [
       "6032×59×3 Array{Float64, 3}:\n",
       "[:, :, 1] =\n",
       "  1.12042e-6  0.0          0.0         0.0         …   0.0         0.0\n",
       "  9.97653e-7  0.0          0.0         0.0             0.0         0.0\n",
       "  1.09305e-6  0.0          0.0         0.0             0.0         0.0\n",
       "  1.09305e-6  0.0          0.0         0.0             0.0         0.0\n",
       "  9.40725e-7  0.0          0.0         0.0             0.0         0.0\n",
       "  9.40725e-7  0.0          0.0         0.0         …   0.0         0.0\n",
       "  8.17953e-7  0.0          0.0         0.0             0.0         0.0\n",
       "  7.23381e-7  0.0          0.0         0.0             0.0         0.0\n",
       "  7.88398e-7  0.0          0.0         0.0             0.0         0.0\n",
       "  7.88398e-7  0.0          0.0         0.0             0.0         0.0\n",
       "  7.88398e-7  0.0          0.0         0.0         …   0.0         0.0\n",
       "  6.65625e-7  0.0          0.0         0.0             0.0         0.0\n",
       "  6.65625e-7  0.0          0.0         0.0             0.0         0.0\n",
       "  ⋮                                                ⋱               \n",
       " -1.57057e-8  4.11672e-7  -3.91153e-9  1.02527e-7  …  -3.15725e-6  5.54131e-6\n",
       " -1.17679e-8  3.08325e-7  -2.19505e-9  5.75113e-8     -1.68084e-6  4.25612e-6\n",
       " -7.03282e-9  7.45231e-7  -3.17072e-9  3.35985e-7     -7.91037e-6  1.44649e-5\n",
       " -7.10631e-9  7.28696e-7  -3.13276e-9  3.2124e-7      -7.65104e-6  1.42135e-5\n",
       "  1.28812e-6  9.24721e-7   7.20614e-7  5.17319e-7     -1.25523e-5  1.11382e-5\n",
       "  1.30957e-6  9.73152e-7   7.70985e-7  5.72926e-7  …  -1.36877e-5  1.14272e-5\n",
       "  1.26026e-6  9.27435e-7   7.07101e-7  5.20361e-7     -1.26189e-5  1.11539e-5\n",
       "  1.2953e-6   1.03183e-6   8.08568e-7  6.44099e-7     -1.50801e-5  1.17052e-5\n",
       "  1.31664e-6  9.56213e-7   7.61655e-7  5.53155e-7     -1.32794e-5  1.13367e-5\n",
       "  1.32704e-6  9.78591e-7   7.85641e-7  5.79348e-7     -1.38258e-5  1.14516e-5\n",
       "  1.28427e-6  9.76978e-7   7.59063e-7  5.7744e-7   …  -1.37826e-5  1.14454e-5\n",
       "  1.32759e-6  9.50995e-7   7.63801e-7  5.47134e-7     -1.31591e-5  1.13049e-5\n",
       "\n",
       "[:, :, 2] =\n",
       "  1.07397e-6  0.0          0.0         0.0         …   0.0         0.0\n",
       "  9.95131e-7  0.0          0.0         0.0             0.0         0.0\n",
       "  9.80698e-7  0.0          0.0         0.0             0.0         0.0\n",
       "  9.07721e-7  0.0          0.0         0.0             0.0         0.0\n",
       "  9.04007e-7  0.0          0.0         0.0             0.0         0.0\n",
       "  8.37486e-7  0.0          0.0         0.0         …   0.0         0.0\n",
       "  7.72374e-7  0.0          0.0         0.0             0.0         0.0\n",
       "  7.14497e-7  0.0          0.0         0.0             0.0         0.0\n",
       "  7.62006e-7  0.0          0.0         0.0             0.0         0.0\n",
       "  6.90366e-7  0.0          0.0         0.0             0.0         0.0\n",
       "  6.2943e-7   0.0          0.0         0.0         …   0.0         0.0\n",
       "  6.31151e-7  0.0          0.0         0.0             0.0         0.0\n",
       "  5.77188e-7  0.0          0.0         0.0             0.0         0.0\n",
       "  ⋮                                                ⋱               \n",
       " -1.49402e-8  6.13488e-7  -5.54499e-9  2.27693e-7  …  -5.86063e-6  4.86122e-6\n",
       " -1.04954e-8  5.57786e-7  -3.54164e-9  1.88223e-7     -3.53905e-6  3.51381e-6\n",
       " -7.01364e-9  7.49555e-7  -3.18042e-9  3.39894e-7     -2.97969e-6  5.30763e-6\n",
       " -7.09682e-9  7.30741e-7  -3.13736e-9  3.23046e-7     -2.80047e-6  5.11673e-6\n",
       "  1.28815e-6  9.36179e-7   7.2956e-7   5.30219e-7     -1.28205e-5  1.12105e-5\n",
       "  1.30968e-6  1.01638e-6   8.05296e-7  6.2495e-7   …  -1.47216e-5  1.16356e-5\n",
       "  1.26031e-6  9.48226e-7   7.22983e-7  5.43953e-7     -1.31055e-5  1.12825e-5\n",
       "  1.29533e-6  1.04121e-6   8.15936e-7  6.55867e-7     -1.53129e-5  1.17373e-5\n",
       "  1.31666e-6  9.64347e-7   7.68146e-7  5.62606e-7     -1.34732e-5  1.1382e-5\n",
       "  1.32725e-6  1.06252e-6   8.5316e-7   6.82991e-7     -1.58532e-5  1.17963e-5\n",
       "  1.28438e-6  1.02263e-6   7.94606e-7  6.32669e-7  …  -1.48789e-5  1.16585e-5\n",
       "  1.32763e-6  9.65017e-7   7.75084e-7  5.63387e-7     -1.34897e-5  1.13853e-5\n",
       "\n",
       "[:, :, 3] =\n",
       "  7.41939e-7  0.0          0.0         0.0         …   0.0         0.0\n",
       "  5.40332e-7  0.0          0.0         0.0             0.0         0.0\n",
       "  9.80698e-7  0.0          0.0         0.0             0.0         0.0\n",
       "  9.07721e-7  0.0          0.0         0.0             0.0         0.0\n",
       "  7.5168e-7   0.0          0.0         0.0             0.0         0.0\n",
       "  6.85159e-7  0.0          0.0         0.0         …   0.0         0.0\n",
       "  4.97274e-7  0.0          0.0         0.0             0.0         0.0\n",
       "  3.44826e-7  0.0          0.0         0.0             0.0         0.0\n",
       "  7.62006e-7  0.0          0.0         0.0             0.0         0.0\n",
       "  6.90366e-7  0.0          0.0         0.0             0.0         0.0\n",
       "  6.2943e-7   0.0          0.0         0.0         …   0.0         0.0\n",
       "  5.08378e-7  0.0          0.0         0.0             0.0         0.0\n",
       "  4.54416e-7  0.0          0.0         0.0             0.0         0.0\n",
       "  ⋮                                                ⋱               \n",
       " -5.88266e-9  1.02018e-6  -3.63067e-9  6.29635e-7  …  -1.71224e-5  2.53096e-5\n",
       " -7.09403e-9  7.69285e-7  -3.30155e-9  3.58024e-7     -1.01977e-5  1.79925e-5\n",
       " -6.51932e-9  8.46938e-7  -3.34034e-9  4.33951e-7     -1.04738e-5  1.77519e-5\n",
       " -6.69265e-9  8.08724e-7  -3.27443e-9  3.95675e-7     -9.61208e-6  1.67852e-5\n",
       " -3.30943e-9  1.8609e-6   -3.72575e-9  2.095e-6       -5.05835e-5  4.45763e-5\n",
       " -2.98301e-9  1.98953e-6  -3.59039e-9  2.39462e-6  …  -5.66413e-5  4.60654e-5\n",
       " -3.27161e-9  1.87566e-6  -3.71238e-9  2.12837e-6     -5.12632e-5  4.47641e-5\n",
       " -2.77419e-9  2.07304e-6  -3.47922e-9  2.59988e-6     -6.06226e-5  4.67799e-5\n",
       " -3.15691e-9  1.92056e-6  -3.66798e-9  2.23148e-6     -5.33528e-5  4.53197e-5\n",
       " -2.85488e-9  2.04112e-6  -3.52527e-9  2.52042e-6     -5.92269e-5  4.65543e-5\n",
       " -2.95773e-9  1.99961e-6  -3.57801e-9  2.41896e-6  …  -5.71227e-5  4.61603e-5\n",
       " -3.16851e-9  1.91601e-6  -3.67274e-9  2.22092e-6     -5.31442e-5  4.52684e-5"
      ]
     },
     "execution_count": 326,
     "metadata": {},
     "output_type": "execute_result"
    }
   ],
   "source": [
    "@btime rk ./ maximum(abs.(rk));\n",
    "@btime Y ./ maximum(abs.(Y));\n",
    "@btime G ./ maximum(abs.(G));\n",
    "@btime Φ./maximum(abs.(Φ));"
   ]
  },
  {
   "cell_type": "markdown",
   "metadata": {},
   "source": [
    "#### BUMP feval"
   ]
  },
  {
   "cell_type": "code",
   "execution_count": 110,
   "metadata": {
    "scrolled": true
   },
   "outputs": [
    {
     "data": {
      "text/plain": [
       "6032×1 Matrix{Float64}:\n",
       " -2.385869950461983\n",
       " -2.2419096769163027\n",
       " -2.4169649098330575\n",
       " -2.363877251859399\n",
       " -2.248498785447651\n",
       " -2.2011502842397483\n",
       " -2.068242657092144\n",
       " -1.9590744869815704\n",
       " -2.143848015770923\n",
       " -2.093224299815498\n",
       " -2.0502984307054266\n",
       " -1.9655843618475477\n",
       " -1.927146184810168\n",
       "  ⋮\n",
       "  0.7106511967721443\n",
       "  0.8564314339999948\n",
       "  0.7021494509592494\n",
       "  0.7290603387734549\n",
       "  0.4124924043987376\n",
       "  0.3936862320067372\n",
       "  0.42791731729153915\n",
       "  0.3950353203550351\n",
       "  0.39226258386235663\n",
       "  0.37993261932889155\n",
       "  0.4073898169060772\n",
       "  0.3854352240945597"
      ]
     },
     "metadata": {},
     "output_type": "display_data"
    },
    {
     "data": {
      "text/plain": [
       "BenchmarkTools.Trial: 322 samples with 1 evaluation.\n",
       " Range \u001b[90m(\u001b[39m\u001b[36m\u001b[1mmin\u001b[22m\u001b[39m … \u001b[35mmax\u001b[39m\u001b[90m):  \u001b[39m\u001b[36m\u001b[1m12.703 ms\u001b[22m\u001b[39m … \u001b[35m59.738 ms\u001b[39m  \u001b[90m┊\u001b[39m GC \u001b[90m(\u001b[39mmin … max\u001b[90m): \u001b[39m0.00% … 6.77%\n",
       " Time  \u001b[90m(\u001b[39m\u001b[34m\u001b[1mmedian\u001b[22m\u001b[39m\u001b[90m):     \u001b[39m\u001b[34m\u001b[1m15.805 ms              \u001b[22m\u001b[39m\u001b[90m┊\u001b[39m GC \u001b[90m(\u001b[39mmedian\u001b[90m):    \u001b[39m0.00%\n",
       " Time  \u001b[90m(\u001b[39m\u001b[32m\u001b[1mmean\u001b[22m\u001b[39m ± \u001b[32mσ\u001b[39m\u001b[90m):   \u001b[39m\u001b[32m\u001b[1m15.510 ms\u001b[22m\u001b[39m ± \u001b[32m 3.879 ms\u001b[39m  \u001b[90m┊\u001b[39m GC \u001b[90m(\u001b[39mmean ± σ\u001b[90m):  \u001b[39m9.57% ± 9.00%\n",
       "\n",
       "  \u001b[39m█\u001b[39m▃\u001b[39m▂\u001b[39m▃\u001b[39m▂\u001b[39m \u001b[39m▁\u001b[39m \u001b[39m \u001b[39m \u001b[32m▇\u001b[39m\u001b[34m▆\u001b[39m\u001b[39m▁\u001b[39m▃\u001b[39m \u001b[39m \u001b[39m \u001b[39m \u001b[39m \u001b[39m \u001b[39m \u001b[39m \u001b[39m \u001b[39m \u001b[39m \u001b[39m \u001b[39m \u001b[39m \u001b[39m \u001b[39m \u001b[39m \u001b[39m \u001b[39m \u001b[39m \u001b[39m \u001b[39m \u001b[39m \u001b[39m \u001b[39m \u001b[39m \u001b[39m \u001b[39m \u001b[39m \u001b[39m \u001b[39m \u001b[39m \u001b[39m \u001b[39m \u001b[39m \u001b[39m \u001b[39m \u001b[39m \u001b[39m \u001b[39m \u001b[39m \u001b[39m \u001b[39m \u001b[39m \u001b[39m \u001b[39m \u001b[39m \n",
       "  \u001b[39m█\u001b[39m█\u001b[39m█\u001b[39m█\u001b[39m█\u001b[39m▆\u001b[39m█\u001b[39m▆\u001b[39m▁\u001b[39m▆\u001b[32m█\u001b[39m\u001b[34m█\u001b[39m\u001b[39m█\u001b[39m█\u001b[39m█\u001b[39m▇\u001b[39m█\u001b[39m█\u001b[39m█\u001b[39m▄\u001b[39m▆\u001b[39m▆\u001b[39m▄\u001b[39m▆\u001b[39m▄\u001b[39m▁\u001b[39m▄\u001b[39m▄\u001b[39m▄\u001b[39m▁\u001b[39m▁\u001b[39m▄\u001b[39m▁\u001b[39m▄\u001b[39m▁\u001b[39m▁\u001b[39m▁\u001b[39m▁\u001b[39m▄\u001b[39m▁\u001b[39m▁\u001b[39m▄\u001b[39m▄\u001b[39m▁\u001b[39m▁\u001b[39m▁\u001b[39m▁\u001b[39m▁\u001b[39m▄\u001b[39m▁\u001b[39m▁\u001b[39m▁\u001b[39m▁\u001b[39m▁\u001b[39m▁\u001b[39m▁\u001b[39m▁\u001b[39m▁\u001b[39m▄\u001b[39m \u001b[39m▆\n",
       "  12.7 ms\u001b[90m      \u001b[39m\u001b[90mHistogram: \u001b[39m\u001b[90m\u001b[1mlog(\u001b[22m\u001b[39m\u001b[90mfrequency\u001b[39m\u001b[90m\u001b[1m)\u001b[22m\u001b[39m\u001b[90m by time\u001b[39m        30 ms \u001b[0m\u001b[1m<\u001b[22m\n",
       "\n",
       " Memory estimate\u001b[90m: \u001b[39m\u001b[33m44.10 MiB\u001b[39m, allocs estimate\u001b[90m: \u001b[39m\u001b[33m414\u001b[39m."
      ]
     },
     "execution_count": 110,
     "metadata": {},
     "output_type": "execute_result"
    }
   ],
   "source": [
    "idxer = atom_indexer(3)\n",
    "N = 2; max_deg = 5; e_pow = 3; n_basis = 59; const_r_xy = 1.4172946; \n",
    "ub = 1.; lb = -1.; θ = rand(2*N+2) .* (ub-lb) .+ lb;\n",
    "Θ = rand(n_basis, 6) .* (ub-lb) .+ lb;\n",
    "#θ = ones(2*N+2); Θ = ones(n_basis, 6)\n",
    "V = f_pot_bond_BUMP(θ, Θ, R, H_coord, idxer, const_r_xy, n_basis, N, e_pow, max_deg)\n",
    "display(V)\n",
    "@benchmark f_pot_bond_BUMP($θ, $Θ, $R, $H_coord, $idxer, $const_r_xy, $n_basis, $N, $e_pow, $max_deg)"
   ]
  },
  {
   "cell_type": "code",
   "execution_count": 116,
   "metadata": {
    "scrolled": true
   },
   "outputs": [
    {
     "data": {
      "text/plain": [
       "6032-element Vector{Float64}:\n",
       " -2.385869950461983\n",
       " -2.2419096769163027\n",
       " -2.4169649098330575\n",
       " -2.363877251859399\n",
       " -2.248498785447651\n",
       " -2.2011502842397483\n",
       " -2.068242657092144\n",
       " -1.9590744869815704\n",
       " -2.143848015770923\n",
       " -2.093224299815498\n",
       " -2.0502984307054266\n",
       " -1.9655843618475477\n",
       " -1.927146184810168\n",
       "  ⋮\n",
       "  0.7106511967721443\n",
       "  0.8564314339999948\n",
       "  0.7021494509592494\n",
       "  0.7290603387734549\n",
       "  0.4124924043987376\n",
       "  0.3936862320067372\n",
       "  0.42791731729153915\n",
       "  0.3950353203550351\n",
       "  0.39226258386235663\n",
       "  0.37993261932889155\n",
       "  0.4073898169060772\n",
       "  0.3854352240945597"
      ]
     },
     "metadata": {},
     "output_type": "display_data"
    },
    {
     "data": {
      "text/plain": [
       "BenchmarkTools.Trial: 333 samples with 1 evaluation.\n",
       " Range \u001b[90m(\u001b[39m\u001b[36m\u001b[1mmin\u001b[22m\u001b[39m … \u001b[35mmax\u001b[39m\u001b[90m):  \u001b[39m\u001b[36m\u001b[1m12.496 ms\u001b[22m\u001b[39m … \u001b[35m32.734 ms\u001b[39m  \u001b[90m┊\u001b[39m GC \u001b[90m(\u001b[39mmin … max\u001b[90m): \u001b[39m0.00% … 9.24%\n",
       " Time  \u001b[90m(\u001b[39m\u001b[34m\u001b[1mmedian\u001b[22m\u001b[39m\u001b[90m):     \u001b[39m\u001b[34m\u001b[1m15.928 ms              \u001b[22m\u001b[39m\u001b[90m┊\u001b[39m GC \u001b[90m(\u001b[39mmedian\u001b[90m):    \u001b[39m0.00%\n",
       " Time  \u001b[90m(\u001b[39m\u001b[32m\u001b[1mmean\u001b[22m\u001b[39m ± \u001b[32mσ\u001b[39m\u001b[90m):   \u001b[39m\u001b[32m\u001b[1m15.017 ms\u001b[22m\u001b[39m ± \u001b[32m 2.613 ms\u001b[39m  \u001b[90m┊\u001b[39m GC \u001b[90m(\u001b[39mmean ± σ\u001b[90m):  \u001b[39m9.92% ± 9.15%\n",
       "\n",
       "  \u001b[39m \u001b[39m█\u001b[39m▃\u001b[39m \u001b[39m \u001b[39m \u001b[39m \u001b[39m \u001b[39m \u001b[39m \u001b[32m \u001b[39m\u001b[39m \u001b[39m \u001b[39m \u001b[34m█\u001b[39m\u001b[39m \u001b[39m \u001b[39m \u001b[39m \u001b[39m \u001b[39m \u001b[39m \u001b[39m \u001b[39m \u001b[39m \u001b[39m \u001b[39m \u001b[39m \u001b[39m \u001b[39m \u001b[39m \u001b[39m \u001b[39m \u001b[39m \u001b[39m \u001b[39m \u001b[39m \u001b[39m \u001b[39m \u001b[39m \u001b[39m \u001b[39m \u001b[39m \u001b[39m \u001b[39m \u001b[39m \u001b[39m \u001b[39m \u001b[39m \u001b[39m \u001b[39m \u001b[39m \u001b[39m \u001b[39m \u001b[39m \u001b[39m \u001b[39m \u001b[39m \u001b[39m \u001b[39m \u001b[39m \n",
       "  \u001b[39m▄\u001b[39m█\u001b[39m█\u001b[39m▄\u001b[39m▅\u001b[39m▁\u001b[39m▄\u001b[39m▄\u001b[39m▁\u001b[39m▁\u001b[32m▁\u001b[39m\u001b[39m▁\u001b[39m▄\u001b[39m▇\u001b[34m█\u001b[39m\u001b[39m█\u001b[39m▇\u001b[39m▆\u001b[39m▄\u001b[39m▄\u001b[39m▁\u001b[39m▄\u001b[39m▁\u001b[39m▅\u001b[39m▅\u001b[39m▄\u001b[39m▆\u001b[39m▄\u001b[39m▄\u001b[39m▁\u001b[39m▅\u001b[39m▄\u001b[39m▄\u001b[39m▁\u001b[39m▁\u001b[39m▁\u001b[39m▁\u001b[39m▁\u001b[39m▁\u001b[39m▁\u001b[39m▁\u001b[39m▁\u001b[39m▄\u001b[39m▁\u001b[39m▁\u001b[39m▁\u001b[39m▁\u001b[39m▄\u001b[39m▁\u001b[39m▁\u001b[39m▁\u001b[39m▄\u001b[39m▁\u001b[39m▁\u001b[39m▁\u001b[39m▄\u001b[39m▁\u001b[39m▁\u001b[39m▄\u001b[39m \u001b[39m▆\n",
       "  12.5 ms\u001b[90m      \u001b[39m\u001b[90mHistogram: \u001b[39m\u001b[90m\u001b[1mlog(\u001b[22m\u001b[39m\u001b[90mfrequency\u001b[39m\u001b[90m\u001b[1m)\u001b[22m\u001b[39m\u001b[90m by time\u001b[39m      26.8 ms \u001b[0m\u001b[1m<\u001b[22m\n",
       "\n",
       " Memory estimate\u001b[90m: \u001b[39m\u001b[33m44.11 MiB\u001b[39m, allocs estimate\u001b[90m: \u001b[39m\u001b[33m446\u001b[39m."
      ]
     },
     "execution_count": 116,
     "metadata": {},
     "output_type": "execute_result"
    }
   ],
   "source": [
    "Θ_vec = vcat(vcat(Θ...), θ)\n",
    "V = f_eval_wrapper_BUMP(Θ_vec, R, H_coord, idxer, const_r_xy, n_basis, N, e_pow, max_deg)\n",
    "display(V)\n",
    "@benchmark f_eval_wrapper_BUMP($Θ_vec, $R, $H_coord, $idxer, $const_r_xy, $n_basis, $N, $e_pow, $max_deg)"
   ]
  },
  {
   "cell_type": "markdown",
   "metadata": {},
   "source": [
    "### Absolute error plot RATPOT:"
   ]
  },
  {
   "cell_type": "code",
   "execution_count": 137,
   "metadata": {},
   "outputs": [
    {
     "data": {
      "text/plain": [
       "5-element Vector{Float64}:\n",
       " -0.1\n",
       " -1.3877787807814457e-17\n",
       "  0.09999999999999999\n",
       "  0.19999999999999998\n",
       "  0.3"
      ]
     },
     "execution_count": 137,
     "metadata": {},
     "output_type": "execute_result"
    }
   ],
   "source": [
    "collect(LinRange(-0.1, 0.3, 5))"
   ]
  },
  {
   "cell_type": "code",
   "execution_count": 31,
   "metadata": {},
   "outputs": [
    {
     "data": {
      "text/plain": [
       "plot_error (generic function with 1 method)"
      ]
     },
     "execution_count": 31,
     "metadata": {},
     "output_type": "execute_result"
    }
   ],
   "source": [
    "function plot_error()\n",
    "    H_data = readdlm(\"data/diatomic/h2_ground_w.txt\")\n",
    "    #H_data = readdlm(\"data/diatomic/oh+_data.txt\")\n",
    "    R = H_data[:, 1]; V = H_data[:, 2]\n",
    "    Xs, Ys = shuffleobs((R, V))\n",
    "    train_data, test_data = splitobs((Xs, Ys); at=0.8)\n",
    "    R_train = copy(train_data[1]); V_train = copy(train_data[2]);\n",
    "    R_test = copy(test_data[1]); V_test = copy(test_data[2]);\n",
    "    \n",
    "    # sorted datasets:\n",
    "    idx = sortperm(R_train)\n",
    "    R_train_sort = R_train[idx]\n",
    "    \n",
    "    # hyperparam:\n",
    "    ## RAT:\n",
    "    const_r_xy = 1.4172946 # H2\n",
    "    #const_r_xy = 1.9369 #OH+\n",
    "    max_tcheb_deg = 11;\n",
    "    ## BUMP:\n",
    "    N = 5\n",
    "    \n",
    "    \n",
    "    # dissociation energy:\n",
    "    V_min = minimum(V)\n",
    "    V_l = V[argmax(R)]\n",
    "    Δ = V_l - V_min\n",
    "    ΔV_train = f_ΔV(V_train, V_l, V_min)\n",
    "    V_train_dis = V_train ./ ΔV_train\n",
    "    # ΔV = f_Δ(V, V_l, V_min) # divide V(R)/ΔV in the fit, so that it resembles chemical properties more\n",
    "    # δ = δ_dissociate(V, V_pred, ΔV) # this is the input of the RMSE\n",
    "\n",
    "\n",
    "    # tuning param:\n",
    "    ub = 1.; lb = -1.;\n",
    "    θ_r = rand(max_tcheb_deg+1) .* (ub-lb) .+ lb; # RAT\n",
    "    θ_b = rand(2*N+2) .* (ub-lb) .+ lb; # BUMP\n",
    "\n",
    "    # storage:\n",
    "    df_train = DataFrame(power=[], RAT=[], RAT1=[], RAT2=[], BUMP=[])\n",
    "    df_test = DataFrame(power=[], RAT=[], RAT1=[], RAT2=[], BUMP=[])\n",
    "\n",
    "    # one-time computations, for RAT:\n",
    "    ρ = f_ρ(R_train, const_r_xy)\n",
    "    q = f_q(ρ)\n",
    "    p_pol = f_tcheb_u(q, max_tcheb_deg)\n",
    "    # equidistance comps for plot:\n",
    "    R_eq = collect(LinRange(minimum(R_train), maximum(R_train), Int(1e3)))\n",
    "    ρ_eq = f_ρ(R_eq, const_r_xy)\n",
    "    q_eq = f_q(ρ_eq)\n",
    "    p_pol_eq = f_tcheb_u(q_eq, max_tcheb_deg)\n",
    "    \n",
    "    # one-time comp, BUMP:\n",
    "    ρ_b = f_ρ(R_train, const_r_xy)\n",
    "    q_b = f_q_bump(N, ρ_b)\n",
    "    i_b = f_i(q_b)\n",
    "    ϵ_b = f_ϵ(i_b, q_b)\n",
    "    α_b = f_α(ϵ_b)\n",
    "    β_b = f_β(ϵ_b)\n",
    "    # equidistance:\n",
    "    ρ_beq = f_ρ(R_eq, const_r_xy)\n",
    "    q_beq = f_q_bump(N, ρ_beq)\n",
    "    i_beq = f_i(q_beq)\n",
    "    ϵ_beq = f_ϵ(i_beq, q_beq)\n",
    "    α_beq = f_α(ϵ_beq)\n",
    "    β_beq = f_β(ϵ_beq)\n",
    "\n",
    "    # repeated computations:\n",
    "    for e_pow ∈ [1,6]\n",
    "        #=\n",
    "        # RATPOT default:\n",
    "        res = LsqFit.curve_fit((p_pol, θ) -> v_RATPOT_u(θ, p_pol, ρ, e_pow), p_pol, V_train, θ_r, show_trace=false, maxIter=500)\n",
    "        V_pred = v_RATPOT_u(res.param, p_pol, ρ, e_pow)\n",
    "        ϵ = abs.(V_train .- V_pred)\n",
    "        =#\n",
    "        # RATPOT with dissociation energy:\n",
    "        #res = LsqFit.curve_fit((p_pol, θ) -> v_dissociate(v_RATPOT_u, V_l, V_min, θ, p_pol, ρ, e_pow), p_pol, V_train_dis, θ_r, show_trace=false, maxIter=2000, autodiff = :forward)\n",
    "        #=\n",
    "        res = optimize(θ -> f_least_squares(v_dissociate, V_train_dis, v_RATPOT_u, V_l, V_min, θ, p_pol, ρ, e_pow),\n",
    "                θ_r, BFGS(),\n",
    "                Optim.Options(iterations = 3000, show_trace=false); \n",
    "                autodiff = :forward\n",
    "                )\n",
    "        =#\n",
    "        \n",
    "        #=\n",
    "        V_pred = v_RATPOT_u(res.param, p_pol, ρ, e_pow)\n",
    "        rmse = f_RMSE(V_pred, V_train)\n",
    "        ΔV = f_ΔV(V_pred, V_l, V_min)\n",
    "        δ = δ_dissociate(V_train, V_pred, ΔV)\n",
    "        a_rmse = Δ*f_RMSE(δ) # adjusted RMSE\n",
    "        # plot:\n",
    "        ϵ = abs.(δ)\n",
    "        ϵ_pow = (q .^ 6) .*ϵ\n",
    "        =#\n",
    "        \n",
    "        #=\n",
    "        display(plot(q[idx], [ϵ[idx], ϵ_pow[idx]], \n",
    "                xlabel = L\"$q$\", ylabel = L\"$\\epsilon$\", \n",
    "                title = \"H2, power = \"*string(e_pow)*\" , a_rmse = \"*string(a_rmse), \n",
    "                label = [L\"$ \\epsilon (q)$\" L\"$q^6 \\epsilon (q)$\"], \n",
    "                linestyles = [:solid :auto],\n",
    "                fmt = :png))\n",
    "        =#\n",
    "        #=\n",
    "        plots of \n",
    "        R,  V(R) / (|V(R)| + \\Delta), V_actual / (|V_actual| + \\Delta),\n",
    "        R,V(R),V_actual :\n",
    "        =#\n",
    "        \n",
    "        #=\n",
    "        V_pred_dis = V_pred ./ ΔV #dissociated V_pred\n",
    "        V_eq = v_RATPOT_u(res.param, p_pol_eq, ρ_eq, e_pow) # V(R_eq)\n",
    "        ΔV_eq = f_ΔV(V_eq, V_l, V_min)\n",
    "        V_eq_dis = V_eq ./ ΔV_eq # V_diss(R_eq)\n",
    "        display(plot([R_eq, R_train[idx]], [V_eq_dis, V_train_dis[idx]],\n",
    "                xlabel = L\"$R$\", ylabel = L\"$V_\\Delta$\",\n",
    "                title = L\"H2, $\\mathrm{power} = %$e_pow$, $a \\mathrm{RMSE} = %$a_rmse$\",\n",
    "                label = [L\"$V(R)/(|V(R)| + \\Delta)$\" L\"$V_\\mathrm{actual}/(|V_\\mathrm{actual}| + \\Delta)$\"],\n",
    "                seriestype = [:line :scatter], markershape=[:none :+],\n",
    "                fmt = :png)\n",
    "                )\n",
    "        display(plot([R_eq, R_train[idx]], [V_eq, V_train[idx]],\n",
    "                xlabel = L\"$R$\", ylabel = L\"$V$\",\n",
    "                title = L\"H2, $\\mathrm{power} = %$e_pow$, $\\mathrm{RMSE} = %$rmse$\",\n",
    "                label = [L\"$V(R)$\" L\"$V_\\mathrm{actual}$\"],\n",
    "                seriestype = [:line :scatter], markershape=[:none :+],\n",
    "                fmt = :png)\n",
    "                )\n",
    "        =#\n",
    "        \n",
    "        #=\n",
    "        # RATPOT scale 1:\n",
    "        V_train_tr = V_train .* (ρ .+ (ρ .^ e_pow))\n",
    "        res = LsqFit.curve_fit((p_pol, θ) -> f_RATPOT_u(θ, p_pol), p_pol, V_train_tr, θ_r, show_trace=false, maxIter=500)\n",
    "        V_pred = f_RATPOT_u(res.param, p_pol)\n",
    "        rmse_r1 = f_RMSE(V_train_tr, V_pred)\n",
    "        # RATPOT scale 2:\n",
    "        V_train_tr = V_train .* ρ\n",
    "        res = LsqFit.curve_fit((p_pol, θ) -> f_RATPOT_u(θ, p_pol, ρ, e_pow), p_pol, V_train_tr, θ_r, show_trace=false, maxIter=500)\n",
    "        V_pred = f_RATPOT_u(res.param, p_pol, ρ, e_pow)\n",
    "        rmse_r2 = f_RMSE(V_train_tr, V_pred)\n",
    "        # BUMP:\n",
    "        res = LsqFit.curve_fit((ρ_b, θ_b) -> v_BUMP_di(θ_b, ρ_b, q_b, α_b, β_b, i_b, N, e_pow), ρ_b, V_train, θ_b, show_trace=false, maxIter=500)\n",
    "        V_pred = v_BUMP_di(res.param, ρ_b, q_b, α_b, β_b, i_b, N, e_pow)\n",
    "        rmse_b = f_RMSE(V_train, V_pred)\n",
    "        =#\n",
    "        \n",
    "        # BUMP:\n",
    "        res = LsqFit.curve_fit((ρ_b, θ_b) -> v_dissociate(v_BUMP_di, V_l, V_min, θ_b, ρ_b, q_b, α_b, β_b, i_b, N, e_pow), ρ_b, V_train_dis, θ_b, show_trace=false, maxIter=2000)\n",
    "        V_pred = v_BUMP_di(res.param, ρ_b, q_b, α_b, β_b, i_b, N, e_pow)\n",
    "        rmse = f_RMSE(V_pred, V_train)\n",
    "        ΔV = f_ΔV(V_pred, V_l, V_min)\n",
    "        δ = δ_dissociate(V_train, V_pred, ΔV)\n",
    "        a_rmse = Δ*f_RMSE(δ) # adjusted RMSE\n",
    "        # plot:\n",
    "        ϵ = abs.(δ)\n",
    "        ϵ_pow = (q .^ 6) .*ϵ\n",
    "        V_pred_dis = V_pred ./ ΔV #dissociated V_pred\n",
    "        V_eq = v_BUMP_di(res.param, ρ_beq, q_beq, α_beq, β_beq, i_beq, N, e_pow) # V(R_eq)\n",
    "        ΔV_eq = f_ΔV(V_eq, V_l, V_min) #Δeq\n",
    "        V_eq_dis = V_eq ./ ΔV_eq # V_diss(R_eq)\n",
    "        display(plot([R_eq, R_train[idx]], [V_eq_dis, V_train_dis[idx]],\n",
    "                xlabel = L\"$R$\", ylabel = L\"$V_\\Delta$\",\n",
    "                title = L\"H2, $\\mathrm{power} = %$e_pow$, $a \\mathrm{RMSE} = %$a_rmse$\",\n",
    "                label = [L\"$V(R)/(|V(R)| + \\Delta)$\" L\"$V_\\mathrm{actual}/(|V_\\mathrm{actual}| + \\Delta)$\"],\n",
    "                seriestype = [:line :scatter], markershape=[:none :+],\n",
    "                fmt = :png)\n",
    "                )\n",
    "        display(plot([R_eq, R_train[idx]], [V_eq, V_train[idx]],\n",
    "                xlabel = L\"$R$\", ylabel = L\"$V$\",\n",
    "                title = L\"H2, $\\mathrm{power} = %$e_pow$, $\\mathrm{RMSE} = %$rmse$\",\n",
    "                label = [L\"$V(R)$\" L\"$V_\\mathrm{actual}$\"],\n",
    "                seriestype = [:line :scatter], markershape=[:none :+],\n",
    "                fmt = :png)\n",
    "                )\n",
    "    end\n",
    "end"
   ]
  },
  {
   "cell_type": "code",
   "execution_count": 32,
   "metadata": {
    "scrolled": true
   },
   "outputs": [
    {
     "data": {
      "image/png": "[encoded data removed]"
     },
     "metadata": {},
     "output_type": "display_data"
    },
    {
     "data": {
      "image/png": "[encoded data removed]"
     },
     "metadata": {},
     "output_type": "display_data"
    },
    {
     "data": {
      "image/png": "[encoded data removed]"
     },
     "metadata": {},
     "output_type": "display_data"
    },
    {
     "data": {
      "image/png": "[encoded data removed]"
     },
     "metadata": {},
     "output_type": "display_data"
    },
    {
     "name": "stderr",
     "output_type": "stream",
     "text": [
      "\\mathrm{power} = 1$, $a \\mathrm{RMSE} = 0.002568706315936644$: undefined symbol\n",
      "\\mathrm{power} = 1$, $a \\mathrm{RMSE} = 0.002568706315936644$: undefined symbol\n",
      "\\mathrm{power} = 1$, $a \\mathrm{RMSE} = 0.002568706315936644$: undefined symbol\n",
      "\\mathrm{power} = 1$, $\\mathrm{RMSE} = 0.007795972969796085$: undefined symbol\n",
      "\\mathrm{power} = 1$, $\\mathrm{RMSE} = 0.007795972969796085$: undefined symbol\n",
      "\\mathrm{power} = 1$, $\\mathrm{RMSE} = 0.007795972969796085$: undefined symbol\n",
      "\\mathrm{power} = 6$, $a \\mathrm{RMSE} = 0.005759902894781382$: undefined symbol\n",
      "\\mathrm{power} = 6$, $a \\mathrm{RMSE} = 0.005759902894781382$: undefined symbol\n",
      "\\mathrm{power} = 6$, $a \\mathrm{RMSE} = 0.005759902894781382$: undefined symbol\n",
      "\\mathrm{power} = 6$, $\\mathrm{RMSE} = 0.027931804905988563$: undefined symbol\n",
      "\\mathrm{power} = 6$, $\\mathrm{RMSE} = 0.027931804905988563$: undefined symbol\n",
      "\\mathrm{power} = 6$, $\\mathrm{RMSE} = 0.027931804905988563$: undefined symbol\n"
     ]
    }
   ],
   "source": [
    "plot_error()"
   ]
  },
  {
   "cell_type": "markdown",
   "metadata": {},
   "source": [
    "### test ratpot(s) any:"
   ]
  },
  {
   "cell_type": "code",
   "execution_count": 422,
   "metadata": {},
   "outputs": [
    {
     "data": {
      "text/plain": [
       "670"
      ]
     },
     "execution_count": 422,
     "metadata": {},
     "output_type": "execute_result"
    }
   ],
   "source": [
    "H_data = readdlm(\"data/h2/h2_ground_w.txt\")\n",
    "R = H_data[:, 1]; V = H_data[:, 2]\n",
    "siz = size(R)[1]"
   ]
  },
  {
   "cell_type": "code",
   "execution_count": null,
   "metadata": {},
   "outputs": [],
   "source": [
    "idxes = shuffleobs(1:siz) # shuffle indexes\n",
    "id_train, id_test = splitobs(idxes, at=0.8)\n",
    "writedlm(\"data/diatomic/index_train_H2.csv\", id_train)\n",
    "writedlm(\"data/diatomic/index_test_H2.csv\", id_test)"
   ]
  },
  {
   "cell_type": "code",
   "execution_count": 423,
   "metadata": {},
   "outputs": [],
   "source": [
    "id_train = vec(readdlm(\"data/diatomic/index_train_H2.csv\", Int))\n",
    "id_test = vec(readdlm(\"data/diatomic/index_test_H2.csv\", Int))\n",
    "R_train = R[id_train]; V_train = V[id_train];\n",
    "R_test = R[id_test]; V_test = V[id_test];"
   ]
  },
  {
   "cell_type": "markdown",
   "metadata": {},
   "source": [
    "#### ratpot1:"
   ]
  },
  {
   "cell_type": "code",
   "execution_count": 79,
   "metadata": {},
   "outputs": [
    {
     "data": {
      "text/plain": [
       "547.8563648997737"
      ]
     },
     "execution_count": 79,
     "metadata": {},
     "output_type": "execute_result"
    }
   ],
   "source": [
    "M = 13; Z = 1;\n",
    "ub = 1.; lb = -1.\n",
    "θ = rand(3*M+1) .* (ub-lb) .+ lb # random between [a, b] = [-1, 1]\n",
    "f_least_squares(f_ratpot_1, V_train, θ, R_train, Z, M)"
   ]
  },
  {
   "cell_type": "code",
   "execution_count": 80,
   "metadata": {
    "scrolled": true
   },
   "outputs": [
    {
     "data": {
      "text/plain": [
       " * Status: success\n",
       "\n",
       " * Candidate solution\n",
       "    Final objective value:     1.572561e-09\n",
       "\n",
       " * Found with\n",
       "    Algorithm:     BFGS\n",
       "\n",
       " * Convergence measures\n",
       "    |x - x'|               = 7.41e-06 ≰ 0.0e+00\n",
       "    |x - x'|/|x'|          = 3.89e-06 ≰ 0.0e+00\n",
       "    |f(x) - f(x')|         = 2.22e-18 ≰ 0.0e+00\n",
       "    |f(x) - f(x')|/|f(x')| = 1.41e-09 ≰ 0.0e+00\n",
       "    |g(x)|                 = 5.23e-09 ≤ 1.0e-08\n",
       "\n",
       " * Work counters\n",
       "    Seconds run:   3  (vs limit Inf)\n",
       "    Iterations:    874\n",
       "    f(x) calls:    2369\n",
       "    ∇f(x) calls:   2369\n"
      ]
     },
     "execution_count": 80,
     "metadata": {},
     "output_type": "execute_result"
    }
   ],
   "source": [
    "res = optimize(θ -> f_least_squares(f_ratpot_1, V_train, θ, R_train, Z, M),\n",
    "                θ, BFGS(),\n",
    "                Optim.Options(iterations = 2000, show_trace=false); \n",
    "                autodiff = :forward\n",
    "                )\n",
    "#res = LsqFit.curve_fit((R_train, θ) -> f_ratpot_1(θ, R_train, Z, M), R_train, V_train, θ, show_trace=false, maxIter=2000)"
   ]
  },
  {
   "cell_type": "code",
   "execution_count": 81,
   "metadata": {},
   "outputs": [
    {
     "name": "stdout",
     "output_type": "stream",
     "text": [
      "1.712857984945949e-6\n",
      "2.1144972160561683e-6\n",
      "-0.06579924991320772 -0.06579983\n",
      "-0.005676879079616565 -0.005678854999999983\n",
      "-0.00046126570774393674 -0.0004605310000000973\n",
      "-0.05487036522626821 -0.05487149000000002\n",
      "-0.0001678511698747813 -0.00017016300000016749\n",
      "-0.0735669222373039 -0.07356698900000014\n",
      "-0.11474201150117778 -0.11474186600000014\n",
      "-0.15506589964569267 -0.15506615300000015\n",
      "-0.06737171482410602 -0.06737306499999995\n",
      "-0.0003063243541384562 -0.00030691700000007316\n",
      "-0.014859871995083828 -0.014859248000000047\n",
      "-0.01424476199526409 -0.014244327999999973\n",
      "-0.0013717744583323698 -0.0013695510000000244\n",
      "-0.0045324823040952976 -0.004534004000000147\n",
      "-0.06113896252977485 -0.06113983000000012\n",
      "-0.14340528221733143 -0.14340553500000008\n",
      "0.23038029323663464 0.23036719299999997\n",
      "-0.005035476492813402 -0.005037254999999963\n",
      "-0.00859909108197855 -0.008600756999999959\n",
      "-0.005937224743574035 -0.005939244000000121\n",
      "-0.15021136943614508 -0.150211624\n",
      "-0.1558484102525061 -0.155848663\n",
      "-2.9401507780324866e-5 -3.133899999996359e-5\n",
      "-0.0757773374774157 -0.07577727099999998\n",
      "-0.019601394729855948 -0.019599871000000046\n",
      "-0.03067114922932623 -0.03067034099999999\n",
      "-0.0007412168562329404 -0.0007392590000001587\n",
      "-0.049621884140737614 -0.04962302399999996\n",
      "-0.00038677128264398564 -0.000386599000000043\n",
      "-0.10677031694357354 -0.10676994299999998\n",
      "-0.04370963036199707 -0.04371048600000016\n",
      "-0.17218129616435532 -0.172181052\n",
      "-0.0542688064479478 -0.05426994400000007\n",
      "-0.04219190283622158 -0.04219262999999995\n",
      "-0.11384881024008232 -0.11384863899999997\n",
      "-0.005849188228864052 -0.005851194999999976\n",
      "-0.08499491880903358 -0.08499444700000014\n",
      "-0.012357157070748803 -0.012357391999999967\n",
      "-0.1212363983016548 -0.12123564000000009\n",
      "-0.0018845187536539727 -0.001882928000000117\n",
      "-0.005509479913857145 -0.0055114170000001295\n",
      "-0.17313628932956188 -0.17313614600000005\n",
      "-9.506031771275027e-6 -1.448999999986711e-6\n",
      "-0.024943330948483753 -0.024941828\n",
      "-0.0032513938811917185 -0.0032517620000001024\n",
      "-0.00013043643877161436 -0.00013324300000006062\n",
      "-2.3812082425796835e-5 -2.5084000000008544e-5\n",
      "-0.17099246649574526 -0.17099233300000005\n",
      "0.014148044996683973 0.014149815999999982\n",
      "-0.004332247864210869 -0.004333638000000084\n",
      "-0.011014868421944329 -0.01101563299999997\n",
      "-0.06179105746573933 -0.06179188800000013\n",
      "-0.00039826543748247545 -0.000397997999999955\n",
      "-0.001644519142871919 -0.0016425939999999972\n",
      "-0.161765627004189 -0.16176585099999996\n",
      "-0.008985734304960977 -0.008987273000000018\n",
      "-0.14599392575017314 -0.1459941790000001\n",
      "-0.011668277145427449 -0.011668781000000017\n",
      "-0.05732263828994843 -0.05732368700000001\n",
      "-0.0010942484175805976 -0.0010919010000001173\n",
      "-0.000657953999598565 -0.0006562439999999725\n",
      "-0.012008187296795321 -0.012008557000000142\n",
      "-0.0054275815018373945 -0.005429497000000172\n",
      "-3.482880112674983e-5 -3.719900000009879e-5\n",
      "-0.021840209732110184 -0.02183858500000002\n",
      "-0.0012343203119626138 -0.0012320040000000088\n",
      "-0.000886847989242663 -0.0008846230000001398\n",
      "-0.1581429398228957 -0.15814318800000016\n",
      "-0.004017612077680354 -0.004018760000000121\n",
      "-0.007989324388199454 -0.007991164000000106\n",
      "-0.056087295166900426 -0.05608838699999996\n",
      "-0.14253433156628728 -0.142534583\n",
      "-6.136674955438553e-5 -6.456300000001747e-5\n",
      "-0.0015715731224660346 -0.0015695570000000547\n",
      "-0.00010178644880514931 -0.00010490799999995915\n",
      "-0.1734192143875475 -0.17341883000000013\n",
      "-0.004960426166467856 -0.0049621720000001535\n",
      "-0.0036695772179264606 -0.0036704069999999867\n",
      "-5.2633442920655253e-5 -5.570000000010289e-5\n",
      "-0.0010618301798365826 -0.001059486000000165\n",
      "-0.00012339453821232175 -0.00012628700000005821\n",
      "-0.008107909954629953 -0.008109718000000044\n",
      "-0.0005039205259987795 -0.0005029170000001582\n",
      "-0.04120234473280309 -0.04120297500000003\n",
      "-0.001291430991307696 -0.001289147000000046\n",
      "-0.01444720201178143 -0.014446704000000032\n",
      "-0.12373957453249737 -0.12373965399999998\n",
      "-7.568673691337716e-5 -7.894600000013519e-5\n",
      "-0.019869912575269343 -0.019868367000000164\n",
      "-0.08819477069001135 -0.08819422500000007\n",
      "-0.027329418298491698 -0.027328154999999965\n",
      "-0.07283874593566418 -0.07283885800000012\n",
      "-0.1291610810103321 -0.12916125200000006\n",
      "-0.01593818413389218 -0.01593726800000006\n",
      "-0.0006386793160741064 -0.0006370380000000342\n",
      "-0.027722448529172966 -0.02772133500000007\n",
      "-0.09335160243881942 -0.09335266100000017\n",
      "-0.04686642177929487 -0.046867471999999966\n",
      "-0.032666377121749884 -0.032665869000000125\n",
      "-0.0038981370609438228 -0.0038991830000001393\n",
      "-0.13276563345532524 -0.13276584400000013\n",
      "-0.0873891136082777 -0.08738858300000008\n",
      "-0.16382324587275127 -0.163824003\n",
      "-3.692221727584619e-5 -3.942199999995566e-5\n",
      "-0.01205053840335207 -0.012048672000000149\n",
      "-0.1372410086966648 -0.13724124800000004\n",
      "-0.00014583773874719848 -0.0001484460000000798\n",
      "-0.012715380728179368 -0.012715480000000001\n",
      "-0.036966559641150226 -0.036966681\n",
      "-0.17345803181593586 -0.17345781700000007\n",
      "-0.13990076286204045 -0.13990101\n",
      "-0.01616204768982821 -0.016161077000000024\n",
      "-0.0010459895460753542 -0.0010436490000000909\n",
      "-9.6390446231737e-5 -9.95580000000551e-5\n",
      "-0.0018008304061676809 -0.0017991189999999602\n",
      "-0.016388705394450264 -0.01638768199999996\n",
      "-0.06511987950631343 -0.06512050400000002\n",
      "-0.14513533918644672 -0.145135593\n",
      "-9.6782684884518e-6 -6.249999999763389e-7\n",
      "-5.5375178903528464e-5 -5.849300000004831e-5\n",
      "-0.004398011805622487 -0.004399447000000167\n",
      "-0.020141616642566577 -0.020140051000000048\n",
      "-0.0013309879990356164 -0.0013287320000001657\n",
      "-0.17234454137220034 -0.17234455800000004\n",
      "-0.0006983142722847131 -0.000696474000000169\n",
      "-0.07652269489725473 -0.07652258600000006\n",
      "-0.07845234405448916 -0.07845385000000005\n",
      "-0.02429454266408293 -0.024292994000000068\n",
      "-0.0001827212619059068 -0.00018483100000010744\n",
      "-0.0028371451169025555 -0.002836977000000074\n",
      "-2.784443240985542e-5 -2.96240000001724e-5\n",
      "-0.16106329036022327 -0.161063521\n",
      "-0.100699389733158 -0.10069887300000002\n",
      "-0.0022262663744871637 -0.0022251950000000686\n"
     ]
    }
   ],
   "source": [
    "# check RMSE:\n",
    "V_pred = f_ratpot_1(res.minimizer, R_train, Z, M)\n",
    "println(f_RMSE(V_train, V_pred))\n",
    "V_pred = f_ratpot_1(res.minimizer, R_test, Z, M)\n",
    "println(f_RMSE(V_test, V_pred))\n",
    "for i=1:length(V_test)\n",
    "    println(V_pred[i],\" \",V_test[i])\n",
    "end"
   ]
  },
  {
   "cell_type": "markdown",
   "metadata": {},
   "source": [
    "#### test tchebyshev ratpot"
   ]
  },
  {
   "cell_type": "code",
   "execution_count": 494,
   "metadata": {},
   "outputs": [],
   "source": [
    "const_r_xy = 1.4172946 # H2\n",
    "#const_r_xy = 1.9369 #OH+\n",
    "max_tcheb_deg = 11; k = 1\n",
    "\n",
    "# for plotting:\n",
    "idx = sortperm(R_train)\n",
    "R_eq = collect(LinRange(minimum(R_train), maximum(R_train), Int(2e3)))\n",
    "ρ_eq = f_ρ(R_eq, const_r_xy)\n",
    "q_eq = f_q(ρ_eq)\n",
    "p_pol_eq = f_tcheb_u(q_eq, max_tcheb_deg)\n",
    "p_pol_eq = hcat(ones(size(p_pol_eq)[1]), p_pol_eq)\n",
    "ρ_scaler_eq = ((ρ_eq .+ ρ_eq).^k)\n",
    "\n",
    "# dissociation of energy:\n",
    "V_min = minimum(V)\n",
    "V_l = V[argmax(R)]\n",
    "Δ = V_l - V_min\n",
    "ΔV_train = f_ΔV(V_train, V_l, V_min)\n",
    "V_train_dis = V_train ./ ΔV_train\n",
    "\n",
    "# one-time computations, train data:\n",
    "ρ = f_ρ(R_train, const_r_xy)\n",
    "q = f_q(ρ)\n",
    "p_pol = f_tcheb_u(q, max_tcheb_deg)\n",
    "p_pol = hcat(ones(size(p_pol)[1]), p_pol) # p₀ = 1 as the first entry\n",
    "ρ_scaler = ((ρ .+ ρ).^k)\n",
    "\n",
    "# test data:\n",
    "ρ_t = f_ρ(R_test, const_r_xy)\n",
    "q_t = f_q(ρ_t)\n",
    "p_pol_t = f_tcheb_u(q_t, max_tcheb_deg)\n",
    "p_pol_t = hcat(ones(size(p_pol_t)[1]), p_pol_t)\n",
    "ρ_scaler_t = ((ρ_t .+ ρ_t).^k);"
   ]
  },
  {
   "cell_type": "code",
   "execution_count": 495,
   "metadata": {},
   "outputs": [
    {
     "data": {
      "image/png": "[encoded data removed]"
     },
     "metadata": {},
     "output_type": "display_data"
    },
    {
     "name": "stdout",
     "output_type": "stream",
     "text": [
      "train RMSE = 0.00015264929055485967\n",
      "test RMSE = 0.00015015854790331718\n"
     ]
    }
   ],
   "source": [
    "# default scaling, V = u/ρ:\n",
    "p_pol_scaled = p_pol ./ ρ_scaler\n",
    "θ = p_pol_scaled\\V_train; # linear solve\n",
    "V_pred = p_pol_scaled*θ # prediction\n",
    "rmse = f_RMSE(V_pred, V_train)\n",
    "println(\"train RMSE = \",rmse)\n",
    "# test data:\n",
    "p_pol_scaled_t = p_pol_t ./ ρ_scaler_t\n",
    "V_pred = p_pol_scaled_t*θ # prediction\n",
    "println(\"test RMSE = \", f_RMSE(V_pred, V_test))\n",
    "# plot:\n",
    "\n",
    "p_pol_eq_scaled = p_pol_eq ./ ρ_scaler_eq\n",
    "V_eq = p_pol_eq_scaled*θ # V(R_eq)\n",
    "display(plot([R_eq, R_train[idx]], [V_eq, V_train[idx]],\n",
    "                xlabel = L\"$R$\", ylabel = L\"$V$\",\n",
    "                #title = L\"H2, $\\mathrm{power} = %$k$\",\n",
    "                title = \"H2, power = \"*string(k)*\" , RMSE = \"*string(round(rmse, digits=6)),\n",
    "                label = [L\"$V(R)$\" L\"$V_\\mathrm{actual}$\"],\n",
    "                seriestype = [:line :scatter], markershape=[:none :+],\n",
    "                fmt = :png)\n",
    "                )"
   ]
  },
  {
   "cell_type": "code",
   "execution_count": 496,
   "metadata": {},
   "outputs": [
    {
     "data": {
      "image/png": "[encoded data removed]"
     },
     "metadata": {},
     "output_type": "display_data"
    },
    {
     "data": {
      "image/png": "[encoded data removed]"
     },
     "metadata": {},
     "output_type": "display_data"
    },
    {
     "name": "stdout",
     "output_type": "stream",
     "text": [
      "train RMSE = 0.008385551891566735\n",
      "train aRMSE = 0.0041977457029650465\n"
     ]
    }
   ],
   "source": [
    "## dissociated energy:\n",
    "θ = p_pol_scaled\\V_train_dis # scale this with p_Δ?? since p:=V(R)\n",
    "V_pred = p_pol_scaled*θ\n",
    "rmse = f_RMSE(V_pred, V_train_dis)\n",
    "println(\"train RMSE = \",rmse)\n",
    "## aRMSE:\n",
    "ΔV = f_ΔV(V_pred, V_l, V_min)\n",
    "δ = δ_dissociate(V_train_dis, V_pred, ΔV)\n",
    "a_rmse = Δ*f_RMSE(δ) # adjusted RMSE, Δ = V_l-V_min above\n",
    "println(\"train aRMSE = \",a_rmse)\n",
    "\n",
    "## plot:\n",
    "ϵ = abs.(δ)\n",
    "ϵ_pow = (q .^ 6) .*ϵ\n",
    "\n",
    "display(plot(q[idx], [ϵ[idx], ϵ_pow[idx]], \n",
    "        xlabel = L\"$q$\", ylabel = L\"$\\epsilon$\", \n",
    "        title = \"H2, power = \"*string(k)*\" , aRMSE = \"*string(round(a_rmse, digits=6)), \n",
    "        label = [L\"$ \\epsilon (q)$\" L\"$q^6 \\epsilon (q)$\"], \n",
    "        linestyles = [:solid :auto],\n",
    "        fmt = :png))\n",
    "\n",
    "p_pol_eq_scaled = p_pol_eq ./ ρ_scaler_eq\n",
    "V_eq = p_pol_eq_scaled*θ # V(R_eq)\n",
    "ΔV_eq = f_ΔV(V_eq, V_l, V_min)\n",
    "V_eq_dis = V_eq ./ ΔV_eq # V_diss(R_eq)\n",
    "display(plot([R_eq, R_train[idx]], [V_eq, V_train_dis[idx]],\n",
    "                xlabel = L\"$R$\", ylabel = L\"$V_\\Delta$\",\n",
    "                #title = L\"H2, $\\mathrm{power} = %$k$, $\\mathrm{aRMSE} = %$a_rmse$\",\n",
    "                title = \"H2, rmse = \"*string(round(rmse, digits=6))*\" , aRMSE = \"*string(round(a_rmse, digits=6)),\n",
    "                label = [L\"$V(R)/(|V(R)| + \\Delta)$\" L\"$V_\\mathrm{actual}/(|V_\\mathrm{actual}| + \\Delta)$\"],\n",
    "                seriestype = [:line :scatter], markershape=[:none :+],\n",
    "                fmt = :png, ylims = (-.8, 1.3))\n",
    "                )"
   ]
  },
  {
   "cell_type": "code",
   "execution_count": 356,
   "metadata": {},
   "outputs": [
    {
     "data": {
      "text/plain": [
       "0.00019308345751965436"
      ]
     },
     "metadata": {},
     "output_type": "display_data"
    },
    {
     "data": {
      "text/plain": [
       "0.00018797327012475446"
      ]
     },
     "metadata": {},
     "output_type": "display_data"
    }
   ],
   "source": [
    "# scale mode (1), Vρ = u:\n",
    "V_ρ = V_train .* ρ_scaler # scale V by ρ + ρ^k\n",
    "θ = p_pol\\V_ρ; # linear solve\n",
    "V_pred = p_pol*θ # prediction\n",
    "display(f_RMSE(V_pred, V_ρ))\n",
    "# test data:\n",
    "V_ρ_t = V_test .* ρ_scaler_t\n",
    "V_pred = p_pol_t*θ\n",
    "display(f_RMSE(V_pred, V_ρ_t))"
   ]
  },
  {
   "cell_type": "code",
   "execution_count": 357,
   "metadata": {},
   "outputs": [
    {
     "data": {
      "text/plain": [
       "9.654172875982718e-5"
      ]
     },
     "metadata": {},
     "output_type": "display_data"
    },
    {
     "data": {
      "text/plain": [
       "9.398663506237723e-5"
      ]
     },
     "metadata": {},
     "output_type": "display_data"
    }
   ],
   "source": [
    "# scale mode (2), part(ρ)V=u/part(ρ):\n",
    "V_ρ = V_train .* ρ # scale V by ρ\n",
    "p_pol_scaled = p_pol ./ (1 .+ ρ.^(k-1)) # scale 1/u by 1 + ρ^(k-1)\n",
    "θ = p_pol_scaled\\V_ρ # linear solve\n",
    "V_pred = p_pol_scaled*θ # prediction\n",
    "display(f_RMSE(V_pred, V_ρ))\n",
    "# test data:\n",
    "V_ρ_t = V_test .* ρ_t\n",
    "p_pol_scaled_t = p_pol_t ./ (1 .+ ρ_t.^(k-1))\n",
    "V_pred = p_pol_scaled_t*θ\n",
    "display(f_RMSE(V_pred, V_ρ_t))"
   ]
  },
  {
   "cell_type": "code",
   "execution_count": null,
   "metadata": {},
   "outputs": [],
   "source": []
  }
 ],
 "metadata": {
  "kernelspec": {
   "display_name": "Julia 1.6.1",
   "language": "julia",
   "name": "julia-1.6"
  },
  "language_info": {
   "file_extension": ".jl",
   "mimetype": "application/julia",
   "name": "julia",
   "version": "1.6.1"
  }
 },
 "nbformat": 4,
 "nbformat_minor": 2
}
