{
 "cells": [
  {
   "cell_type": "code",
   "execution_count": 75,
   "metadata": {},
   "outputs": [
    {
     "data": {
      "text/plain": [
       "multirestart (generic function with 1 method)"
      ]
     },
     "execution_count": 75,
     "metadata": {},
     "output_type": "execute_result"
    }
   ],
   "source": [
    "# function definitions are in the script, no definitions in this ipynb allowed!\n",
    "include(\"PES_models_bonding_features.jl\") # need to reload everytime a change occurs"
   ]
  },
  {
   "cell_type": "code",
   "execution_count": 2,
   "metadata": {},
   "outputs": [
    {
     "data": {
      "text/plain": [
       "6032"
      ]
     },
     "execution_count": 2,
     "metadata": {},
     "output_type": "execute_result"
    }
   ],
   "source": [
    "# test using actual data:\n",
    "H_data = readdlm(\"data/h3/h3_data.txt\")\n",
    "# load atomic coordinates:\n",
    "H_coord = npzread(\"data/h3/h3_coord.npy\")\n",
    "R = H_data[:,1:end-1]; V = H_data[:, end]\n",
    "n_data = size(R)[1]"
   ]
  },
  {
   "cell_type": "code",
   "execution_count": 3,
   "metadata": {},
   "outputs": [],
   "source": [
    "idxes = shuffleobs(1:n_data); # shuffle indexes"
   ]
  },
  {
   "cell_type": "code",
   "execution_count": 4,
   "metadata": {},
   "outputs": [],
   "source": [
    "# split:\n",
    "id_train, id_test = splitobs(idxes, at=0.8)\n",
    "R_train = R[id_train,:]; V_train = V[id_train];\n",
    "R_test = R[id_test,:]; V_test = V[id_test]\n",
    "H_coord_train = H_coord[id_train,:,:]; H_coord_test = H_coord[id_test,:,:];"
   ]
  },
  {
   "cell_type": "code",
   "execution_count": 76,
   "metadata": {},
   "outputs": [],
   "source": [
    "const_r_xy = 1.4172946 # H2\n",
    "#const_r_xy = 1.9369 #OH+\n",
    "N = 5 # hyperparam\n",
    "ρ = f_ρ(R, const_r_xy)\n",
    "q = f_q_bump(N, ρ)\n",
    "i = f_i(q) # should be transformed to unique integers\n",
    "ϵ = f_ϵ(i, q)\n",
    "# for h:\n",
    "α = f_α(ϵ)\n",
    "β = f_β(ϵ)\n",
    "#ub = 1.; lb = -1; θ = rand(2*N+2) .* (ub-lb) .+ lb; # +2 since it starts from 0th index\n",
    "θ = ones(2*N+2);"
   ]
  },
  {
   "cell_type": "code",
   "execution_count": 77,
   "metadata": {},
   "outputs": [],
   "source": [
    "n_data, n_d = size(R)\n",
    "u = similar(R)\n",
    "w = similar(u)\n",
    "h = zeros(n_data, n_d, N+1) #stores the first sub primitive\n",
    "compute_u_w_h!(u, w, h, θ, q, α, β, i, N)\n",
    "#@benchmark compute_u_w_h!($u, $w, $h, $θ, $q, $α, $β, $i, $N)"
   ]
  },
  {
   "cell_type": "code",
   "execution_count": 78,
   "metadata": {},
   "outputs": [],
   "source": [
    "x = similar(h)\n",
    "y = similar(x)\n",
    "compute_hw_gw!(x, y, w, h, q, N)\n",
    "#@benchmark compute_hw_gw!($x, $y, $w, $h, $q, $N)"
   ]
  },
  {
   "cell_type": "code",
   "execution_count": 82,
   "metadata": {},
   "outputs": [
    {
     "data": {
      "text/plain": [
       "BenchmarkTools.Trial: 10000 samples with 1 evaluation.\n",
       " Range \u001b[90m(\u001b[39m\u001b[36m\u001b[1mmin\u001b[22m\u001b[39m … \u001b[35mmax\u001b[39m\u001b[90m):  \u001b[39m\u001b[36m\u001b[1m276.500 μs\u001b[22m\u001b[39m … \u001b[35m  6.522 ms\u001b[39m  \u001b[90m┊\u001b[39m GC \u001b[90m(\u001b[39mmin … max\u001b[90m): \u001b[39m 0.00% … 86.29%\n",
       " Time  \u001b[90m(\u001b[39m\u001b[34m\u001b[1mmedian\u001b[22m\u001b[39m\u001b[90m):     \u001b[39m\u001b[34m\u001b[1m333.700 μs               \u001b[22m\u001b[39m\u001b[90m┊\u001b[39m GC \u001b[90m(\u001b[39mmedian\u001b[90m):    \u001b[39m 0.00%\n",
       " Time  \u001b[90m(\u001b[39m\u001b[32m\u001b[1mmean\u001b[22m\u001b[39m ± \u001b[32mσ\u001b[39m\u001b[90m):   \u001b[39m\u001b[32m\u001b[1m420.378 μs\u001b[22m\u001b[39m ± \u001b[32m356.478 μs\u001b[39m  \u001b[90m┊\u001b[39m GC \u001b[90m(\u001b[39mmean ± σ\u001b[90m):  \u001b[39m18.21% ± 17.43%\n",
       "\n",
       "  \u001b[39m▃\u001b[39m█\u001b[34m█\u001b[39m\u001b[39m▅\u001b[39m▃\u001b[32m▂\u001b[39m\u001b[39m▁\u001b[39m \u001b[39m \u001b[39m \u001b[39m \u001b[39m \u001b[39m \u001b[39m \u001b[39m \u001b[39m \u001b[39m \u001b[39m \u001b[39m \u001b[39m \u001b[39m \u001b[39m \u001b[39m \u001b[39m \u001b[39m \u001b[39m \u001b[39m \u001b[39m \u001b[39m \u001b[39m \u001b[39m \u001b[39m \u001b[39m \u001b[39m \u001b[39m \u001b[39m \u001b[39m \u001b[39m \u001b[39m \u001b[39m \u001b[39m \u001b[39m \u001b[39m \u001b[39m \u001b[39m \u001b[39m \u001b[39m \u001b[39m \u001b[39m \u001b[39m \u001b[39m \u001b[39m \u001b[39m \u001b[39m \u001b[39m \u001b[39m \u001b[39m▂\u001b[39m▂\u001b[39m \u001b[39m \u001b[39m \u001b[39m \u001b[39m▂\n",
       "  \u001b[39m█\u001b[39m█\u001b[34m█\u001b[39m\u001b[39m█\u001b[39m█\u001b[32m█\u001b[39m\u001b[39m█\u001b[39m▇\u001b[39m▆\u001b[39m▆\u001b[39m▄\u001b[39m▁\u001b[39m▄\u001b[39m▃\u001b[39m▁\u001b[39m▁\u001b[39m▁\u001b[39m▁\u001b[39m▃\u001b[39m▃\u001b[39m▆\u001b[39m▇\u001b[39m▇\u001b[39m▅\u001b[39m▄\u001b[39m▁\u001b[39m▅\u001b[39m▄\u001b[39m▁\u001b[39m▄\u001b[39m▃\u001b[39m▃\u001b[39m▁\u001b[39m▃\u001b[39m▅\u001b[39m▃\u001b[39m▃\u001b[39m▄\u001b[39m▁\u001b[39m▁\u001b[39m▁\u001b[39m▁\u001b[39m▁\u001b[39m▁\u001b[39m▁\u001b[39m▁\u001b[39m▁\u001b[39m▁\u001b[39m▁\u001b[39m▁\u001b[39m▁\u001b[39m▁\u001b[39m▁\u001b[39m▁\u001b[39m▅\u001b[39m█\u001b[39m█\u001b[39m█\u001b[39m█\u001b[39m█\u001b[39m▇\u001b[39m \u001b[39m█\n",
       "  276 μs\u001b[90m        \u001b[39m\u001b[90mHistogram: \u001b[39m\u001b[90m\u001b[1mlog(\u001b[22m\u001b[39m\u001b[90mfrequency\u001b[39m\u001b[90m\u001b[1m)\u001b[22m\u001b[39m\u001b[90m by time\u001b[39m       1.96 ms \u001b[0m\u001b[1m<\u001b[22m\n",
       "\n",
       " Memory estimate\u001b[90m: \u001b[39m\u001b[33m3.59 MiB\u001b[39m, allocs estimate\u001b[90m: \u001b[39m\u001b[33m22\u001b[39m."
      ]
     },
     "execution_count": 82,
     "metadata": {},
     "output_type": "execute_result"
    }
   ],
   "source": [
    "ρ,u,w,x,y = BUMP_feature(θ, R, const_r_xy, N);\n",
    "@benchmark BUMP_feature($θ, $R, $const_r_xy, $N)"
   ]
  },
  {
   "cell_type": "code",
   "execution_count": 84,
   "metadata": {
    "scrolled": true
   },
   "outputs": [
    {
     "data": {
      "text/plain": [
       "6032×3 Matrix{Float64}:\n",
       " -0.116291    -0.0589616    -0.0404142\n",
       " -0.116291    -0.00785096   -0.00676472\n",
       " -0.10485     -0.10485      -0.0735249\n",
       " -0.10485     -0.10485      -0.0459331\n",
       " -0.10485     -0.0589616    -0.0444205\n",
       " -0.10485     -0.0589616    -0.0162825\n",
       " -0.10485     -0.00785096    0.0114707\n",
       " -0.10485      0.0305181     0.033634\n",
       " -0.0589616   -0.0589616    -0.0486053\n",
       " -0.0589616   -0.0589616    -0.0185286\n",
       " -0.0589616   -0.0589616     0.00757083\n",
       " -0.0589616   -0.00785096    0.00685003\n",
       " -0.0589616   -0.00785096    0.0282934\n",
       "  ⋮                         \n",
       " -0.00524119   0.000996644  -0.000657669\n",
       "  0.00499096   0.00329408   -2.0295e-5\n",
       "  0.00219798   0.000851275   0.000800969\n",
       "  0.00217524   0.00106892    0.00104344\n",
       "  0.166349    -0.000956516  -0.000938756\n",
       "  0.178884    -0.000874135  -0.000787083\n",
       "  0.148848    -0.000952415  -0.000918866\n",
       "  0.170505    -0.000753646  -0.00073287\n",
       "  0.182865    -0.000905035  -0.000890453\n",
       "  0.188465    -0.000863792  -0.000684584\n",
       "  0.16392     -0.000866879  -0.000773667\n",
       "  0.188791    -0.000914129  -0.000889232"
      ]
     },
     "execution_count": 84,
     "metadata": {},
     "output_type": "execute_result"
    }
   ],
   "source": [
    "e_pow = 3 #hyperparam, 3 seems to be the best\n",
    "v_BUMP_di(u, w, ρ, e_pow)"
   ]
  },
  {
   "cell_type": "code",
   "execution_count": null,
   "metadata": {},
   "outputs": [],
   "source": []
  }
 ],
 "metadata": {
  "kernelspec": {
   "display_name": "Julia 1.7.2",
   "language": "julia",
   "name": "julia-1.7"
  },
  "language_info": {
   "file_extension": ".jl",
   "mimetype": "application/julia",
   "name": "julia",
   "version": "1.7.2"
  }
 },
 "nbformat": 4,
 "nbformat_minor": 2
}
