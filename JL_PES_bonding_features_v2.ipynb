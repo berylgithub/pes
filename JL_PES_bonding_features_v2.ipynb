{
 "cells": [
  {
   "cell_type": "code",
   "execution_count": null,
   "metadata": {},
   "outputs": [],
   "source": [
    "# function definitions are in the script, no definitions here!\n",
    "include(\"PES_models_bonding_features.jl\") # need to reload everytime a change occurs"
   ]
  },
  {
   "cell_type": "code",
   "execution_count": null,
   "metadata": {},
   "outputs": [],
   "source": [
    "# test using actual data:\n",
    "H_data = readdlm(\"data/h3/h3_data.txt\")\n",
    "# load atomic coordinates:\n",
    "H_coord = npzread(\"data/h3/h3_coord.npy\")\n",
    "R = H_data[:,1:end-1]; V = H_data[:, end]\n",
    "n_data = size(R)[1]"
   ]
  },
  {
   "cell_type": "code",
   "execution_count": null,
   "metadata": {},
   "outputs": [],
   "source": [
    "idxes = shuffleobs(1:n_data); # shuffle indexes"
   ]
  },
  {
   "cell_type": "code",
   "execution_count": null,
   "metadata": {},
   "outputs": [],
   "source": [
    "# split:\n",
    "id_train, id_test = splitobs(idxes, at=0.8)\n",
    "R_train = R[id_train,:]; V_train = V[id_train];\n",
    "R_test = R[id_test,:]; V_test = V[id_test]\n",
    "H_coord_train = H_coord[id_train,:,:]; H_coord_test = H_coord[id_test,:,:];"
   ]
  },
  {
   "cell_type": "code",
   "execution_count": null,
   "metadata": {},
   "outputs": [],
   "source": [
    "const_r_xy = 1.4172946 # H2\n",
    "#const_r_xy = 1.9369 #OH+\n",
    "N = 7 # hyperparam\n",
    "ρ = f_ρ(R, const_r_xy)\n",
    "q = f_q_bump(N, ρ)\n",
    "i = f_i(q) # should be transformed to unique integers\n",
    "ϵ = f_ϵ(i, q)\n",
    "# for h:\n",
    "α = f_α(ϵ)\n",
    "β = f_β(ϵ)\n",
    "#ub = 1.; lb = -1; θ = rand(2*N+2) .* (ub-lb) .+ lb; # +2 since it starts from 0th index\n",
    "θ = ones(2*N+2);"
   ]
  },
  {
   "cell_type": "code",
   "execution_count": null,
   "metadata": {},
   "outputs": [],
   "source": [
    "#@benchmark f_\\rho"
   ]
  },
  {
   "cell_type": "code",
   "execution_count": null,
   "metadata": {},
   "outputs": [],
   "source": [
    "n_data, n_d = size(R)\n",
    "u = zeros(n_data)\n",
    "w = similar(u)\n",
    "h = zeros(n_data, n_d, N+1) #stores the first sub primitive\n",
    "compute_u_w_h!(u, w, h, θ, q, α, β, i, N)\n",
    "@benchmark compute_u_w_h!($u, $w, $h, $θ, $q, $α, $β, $i, $N) #'$' for benchmark interpolation, since the vars arent const"
   ]
  },
  {
   "cell_type": "code",
   "execution_count": null,
   "metadata": {},
   "outputs": [],
   "source": [
    "x = similar(h)\n",
    "y = similar(x)\n",
    "compute_hw_gw!(x, y, w, h, q, N)\n",
    "@benchmark compute_hw_gw!($x, $y, $w, $h, $q, $N)"
   ]
  }
 ],
 "metadata": {
  "kernelspec": {
   "display_name": "Julia 1.6.1",
   "language": "julia",
   "name": "julia-1.6"
  },
  "language_info": {
   "file_extension": ".jl",
   "mimetype": "application/julia",
   "name": "julia",
   "version": "1.6.1"
  }
 },
 "nbformat": 4,
 "nbformat_minor": 2
}
