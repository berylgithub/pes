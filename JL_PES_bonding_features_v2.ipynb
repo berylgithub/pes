{
 "cells": [
  {
   "cell_type": "code",
   "execution_count": 4,
   "metadata": {},
   "outputs": [],
   "source": [
    "# function definitions are in the script, no definitions in this ipynb allowed!\n",
    "include(\"PES_models_bonding_features.jl\") # need to reload everytime a change occurs\n",
    "using DataFrames, CSV"
   ]
  },
  {
   "cell_type": "code",
   "execution_count": 69,
   "metadata": {},
   "outputs": [
    {
     "data": {
      "text/plain": [
       "6032"
      ]
     },
     "execution_count": 69,
     "metadata": {},
     "output_type": "execute_result"
    }
   ],
   "source": [
    "# test using actual data:\n",
    "H_data = readdlm(\"data/h3/h3_data.txt\")\n",
    "# load atomic coordinates:\n",
    "H_coord = npzread(\"data/h3/h3_coord.npy\")\n",
    "R = H_data[:,1:end-1]; V = H_data[:, end]\n",
    "n_data = size(R)[1]"
   ]
  },
  {
   "cell_type": "code",
   "execution_count": 70,
   "metadata": {},
   "outputs": [],
   "source": [
    "idxes = shuffleobs(1:n_data); # shuffle indexes"
   ]
  },
  {
   "cell_type": "code",
   "execution_count": 71,
   "metadata": {},
   "outputs": [],
   "source": [
    "# split:\n",
    "id_train, id_test = splitobs(idxes, at=0.8)\n",
    "R_train = R[id_train,:]; V_train = V[id_train];\n",
    "R_test = R[id_test,:]; V_test = V[id_test]\n",
    "H_coord_train = H_coord[id_train,:,:]; H_coord_test = H_coord[id_test,:,:];"
   ]
  },
  {
   "cell_type": "code",
   "execution_count": 78,
   "metadata": {},
   "outputs": [],
   "source": [
    "const_r_xy = 1.4172946 # H2\n",
    "e_pow = 3\n",
    "#const_r_xy = 1.9369 #OH+\n",
    "N = 2 # hyperparam\n",
    "ρ = f_ρ(R, const_r_xy)\n",
    "q = f_q_bump(N, ρ)\n",
    "i = f_i(q) # should be transformed to unique integers\n",
    "ϵ = f_ϵ(i, q)\n",
    "# for h:\n",
    "α = f_α(ϵ)\n",
    "β = f_β(ϵ)\n",
    "ub = 1.; lb = -1; θ = rand(2*N+2) .* (ub-lb) .+ lb; # +2 since it starts from 0th index\n",
    "θ = ones(2*N+2);"
   ]
  },
  {
   "cell_type": "code",
   "execution_count": 73,
   "metadata": {},
   "outputs": [],
   "source": [
    "n_data, n_d = size(R)\n",
    "u = similar(R)\n",
    "w = similar(u)\n",
    "h = zeros(n_data, n_d, N+1) #stores the first sub primitive\n",
    "compute_u_w_h!(u, w, h, θ, q, α, β, i, N)\n",
    "#@benchmark compute_u_w_h!($u, $w, $h, $θ, $q, $α, $β, $i, $N)"
   ]
  },
  {
   "cell_type": "code",
   "execution_count": 74,
   "metadata": {},
   "outputs": [],
   "source": [
    "x = similar(h)\n",
    "y = similar(x)\n",
    "compute_hw_gw!(x, y, w, h, q, N)\n",
    "#@benchmark compute_hw_gw!($x, $y, $w, $h, $q, $N)"
   ]
  },
  {
   "cell_type": "code",
   "execution_count": 75,
   "metadata": {},
   "outputs": [],
   "source": [
    "ρ,u,w,x,y = BUMP_feature(θ, R, const_r_xy, N);\n",
    "#@benchmark BUMP_feature($θ, $R, $const_r_xy, $N)"
   ]
  },
  {
   "cell_type": "code",
   "execution_count": 76,
   "metadata": {
    "scrolled": true
   },
   "outputs": [],
   "source": [
    "b = concat_BUMP(x, y, 5);\n",
    "#@benchmark concat_BUMP($x, $y, 5)"
   ]
  },
  {
   "cell_type": "code",
   "execution_count": 80,
   "metadata": {},
   "outputs": [],
   "source": [
    "idxer = atom_indexer(3)\n",
    "U = f_U_bas_BUMP(idxer, u, w, ρ, e_pow);\n",
    "#@benchmark f_U_bas_BUMP($idxer, $u, $w, $ρ, $e_pow)"
   ]
  },
  {
   "cell_type": "code",
   "execution_count": 81,
   "metadata": {},
   "outputs": [],
   "source": [
    "Y = f_Y_coord(b, idxer);\n",
    "#@benchmark f_Y_coord($b, $idxer)"
   ]
  },
  {
   "cell_type": "code",
   "execution_count": 16,
   "metadata": {},
   "outputs": [
    {
     "data": {
      "text/plain": [
       "BenchmarkTools.Trial: 10000 samples with 1 evaluation.\n",
       " Range \u001b[90m(\u001b[39m\u001b[36m\u001b[1mmin\u001b[22m\u001b[39m … \u001b[35mmax\u001b[39m\u001b[90m):  \u001b[39m\u001b[36m\u001b[1m118.800 μs\u001b[22m\u001b[39m … \u001b[35m  1.878 ms\u001b[39m  \u001b[90m┊\u001b[39m GC \u001b[90m(\u001b[39mmin … max\u001b[90m): \u001b[39m 0.00% … 90.44%\n",
       " Time  \u001b[90m(\u001b[39m\u001b[34m\u001b[1mmedian\u001b[22m\u001b[39m\u001b[90m):     \u001b[39m\u001b[34m\u001b[1m133.900 μs               \u001b[22m\u001b[39m\u001b[90m┊\u001b[39m GC \u001b[90m(\u001b[39mmedian\u001b[90m):    \u001b[39m 0.00%\n",
       " Time  \u001b[90m(\u001b[39m\u001b[32m\u001b[1mmean\u001b[22m\u001b[39m ± \u001b[32mσ\u001b[39m\u001b[90m):   \u001b[39m\u001b[32m\u001b[1m165.837 μs\u001b[22m\u001b[39m ± \u001b[32m179.053 μs\u001b[39m  \u001b[90m┊\u001b[39m GC \u001b[90m(\u001b[39mmean ± σ\u001b[90m):  \u001b[39m15.18% ± 12.53%\n",
       "\n",
       "  \u001b[39m█\u001b[34m▆\u001b[39m\u001b[32m▄\u001b[39m\u001b[39m▂\u001b[39m \u001b[39m \u001b[39m \u001b[39m \u001b[39m \u001b[39m \u001b[39m \u001b[39m \u001b[39m \u001b[39m \u001b[39m \u001b[39m \u001b[39m \u001b[39m \u001b[39m \u001b[39m \u001b[39m \u001b[39m \u001b[39m \u001b[39m \u001b[39m \u001b[39m \u001b[39m \u001b[39m \u001b[39m \u001b[39m \u001b[39m \u001b[39m \u001b[39m \u001b[39m \u001b[39m \u001b[39m \u001b[39m \u001b[39m \u001b[39m \u001b[39m \u001b[39m \u001b[39m \u001b[39m \u001b[39m \u001b[39m \u001b[39m \u001b[39m \u001b[39m \u001b[39m \u001b[39m \u001b[39m \u001b[39m \u001b[39m \u001b[39m \u001b[39m \u001b[39m \u001b[39m \u001b[39m \u001b[39m \u001b[39m \u001b[39m \u001b[39m \u001b[39m▁\n",
       "  \u001b[39m█\u001b[34m█\u001b[39m\u001b[32m█\u001b[39m\u001b[39m█\u001b[39m█\u001b[39m▆\u001b[39m▅\u001b[39m▃\u001b[39m▄\u001b[39m▄\u001b[39m▅\u001b[39m▆\u001b[39m▆\u001b[39m▄\u001b[39m▅\u001b[39m▄\u001b[39m▄\u001b[39m▃\u001b[39m▃\u001b[39m▃\u001b[39m▁\u001b[39m▃\u001b[39m▁\u001b[39m▁\u001b[39m▁\u001b[39m▁\u001b[39m▁\u001b[39m▁\u001b[39m▁\u001b[39m▁\u001b[39m▁\u001b[39m▁\u001b[39m▁\u001b[39m▁\u001b[39m▁\u001b[39m▁\u001b[39m▁\u001b[39m▁\u001b[39m▁\u001b[39m▁\u001b[39m▁\u001b[39m▁\u001b[39m▁\u001b[39m▁\u001b[39m▁\u001b[39m▁\u001b[39m▁\u001b[39m▁\u001b[39m▁\u001b[39m▁\u001b[39m▁\u001b[39m▁\u001b[39m▁\u001b[39m▁\u001b[39m▁\u001b[39m▁\u001b[39m▁\u001b[39m▁\u001b[39m▆\u001b[39m█\u001b[39m█\u001b[39m \u001b[39m█\n",
       "  119 μs\u001b[90m        \u001b[39m\u001b[90mHistogram: \u001b[39m\u001b[90m\u001b[1mlog(\u001b[22m\u001b[39m\u001b[90mfrequency\u001b[39m\u001b[90m\u001b[1m)\u001b[22m\u001b[39m\u001b[90m by time\u001b[39m       1.34 ms \u001b[0m\u001b[1m<\u001b[22m\n",
       "\n",
       " Memory estimate\u001b[90m: \u001b[39m\u001b[33m1.38 MiB\u001b[39m, allocs estimate\u001b[90m: \u001b[39m\u001b[33m9\u001b[39m."
      ]
     },
     "execution_count": 16,
     "metadata": {},
     "output_type": "execute_result"
    }
   ],
   "source": [
    "@benchmark Y ./ maximum(abs.(Y))"
   ]
  },
  {
   "cell_type": "code",
   "execution_count": 84,
   "metadata": {
    "scrolled": true
   },
   "outputs": [],
   "source": [
    "Δ = f_Δcoord(H_coord);\n",
    "#@benchmark f_Δcoord($H_coord)"
   ]
  },
  {
   "cell_type": "code",
   "execution_count": 86,
   "metadata": {
    "scrolled": false
   },
   "outputs": [
    {
     "data": {
      "text/plain": [
       "3×6032×5×3 Array{Float64, 4}:\n",
       "[:, :, 1, 1] =\n",
       " 0.0  0.0  0.0  0.0  0.0  0.0  0.0   0.0          …   8.12433e-23   0.0\n",
       " 0.0  0.0  0.0  0.0  0.0  0.0  0.0  -0.000108169     -0.345578     -0.343816\n",
       " 0.0  0.0  0.0  0.0  0.0  0.0  0.0   0.000239232      6.71815       6.52541\n",
       "\n",
       "[:, :, 2, 1] =\n",
       " 0.0  0.0  0.0  0.0  0.0  0.0  0.0   0.0          …   2.45978e-23   0.0\n",
       " 0.0  0.0  0.0  0.0  0.0  0.0  0.0  -0.000105103     -0.104629     -0.10593\n",
       " 0.0  0.0  0.0  0.0  0.0  0.0  0.0   0.00023245       2.03403       2.01049\n",
       "\n",
       "[:, :, 3, 1] =\n",
       " -3.28516e-24   4.0231e-25  0.0          …   1.89705e-22   0.0\n",
       " -1.69901      -1.63856     2.02697         -0.755142     -0.777539\n",
       "  1.0393        1.28038     1.11022e-16      0.942994      1.16941\n",
       "\n",
       "[:, :, 4, 1] =\n",
       " -2.7705e-25   1.00302e-25  0.0          …   3.54174e-23   0.0\n",
       " -0.162857    -0.140156     0.168285        -0.137135     -0.148556\n",
       "  0.0363234    0.00719732   1.38778e-17     -0.919438     -0.88365\n",
       "\n",
       "[:, :, 5, 1] =\n",
       " -2.35649e-26   1.12807e-26  0.0          …   2.02188e-23   0.0\n",
       " -0.0153096    -0.0150031    0.00834256      -0.0800192    -0.0936346\n",
       " -0.00073224   -7.40444e-5   4.33681e-19     -0.0315848    -0.0101659\n",
       "\n",
       "[:, :, 1, 2] =\n",
       " 0.0  0.0  0.0  0.0  0.0  0.0  …  1.06422e-22  -8.52566e-23  0.0\n",
       " 0.0  0.0  0.0  0.0  0.0  0.0     0.219991      0.313025     0.33399\n",
       " 0.0  0.0  0.0  0.0  0.0  0.0     7.41458       7.07694      6.62909\n",
       "\n",
       "[:, :, 2, 2] =\n",
       " 0.0  0.0  0.0  0.0  0.0  0.0  …  3.03166e-23  -2.50049e-23  0.0\n",
       " 0.0  0.0  0.0  0.0  0.0  0.0     0.0626693     0.091807     0.101943\n",
       " 0.0  0.0  0.0  0.0  0.0  0.0     2.1122        2.07559      2.02338\n",
       "\n",
       "[:, :, 3, 2] =\n",
       " -1.6318e-24  -4.2487e-25  0.0        0.0       …   1.60991e-22   0.0\n",
       " -0.604448    -0.538578    1.01349   -0.996561     -0.641153     -0.649858\n",
       "  1.14419      1.28598     0.637014   0.66465       0.889157      1.15318\n",
       "\n",
       "[:, :, 4, 2] =\n",
       " -2.05681e-25   9.62587e-26  0.0         0.0        …   5.5571e-23   0.0\n",
       " -0.121938     -0.133859     0.0841423  -0.0827371     -0.217099    -0.237076\n",
       "  0.0242565     0.0061547    0.0161498  -0.010018      -0.892918    -0.875959\n",
       "\n",
       "[:, :, 5, 2] =\n",
       " -2.25629e-26   1.128e-26    0.0         …   2.02188e-23   0.0\n",
       " -0.0148374    -0.0150014    0.00417128     -0.0800192    -0.0936346\n",
       " -0.00116994   -7.48723e-5  -0.00111112     -0.0315848    -0.0101659\n",
       "\n",
       "[:, :, 1, 3] =\n",
       " 0.0  0.0  0.0  0.0  0.0  0.0  1.14512e-29  …  -4.01327e-24   0.0\n",
       " 0.0  0.0  0.0  0.0  0.0  0.0  3.45701e-6      -0.0325524    -0.0098261\n",
       " 0.0  0.0  0.0  0.0  0.0  0.0  9.38338e-6      13.7951       13.1545\n",
       "\n",
       "[:, :, 2, 3] =\n",
       " 0.0  0.0  0.0  0.0  0.0  0.0  1.13416e-29  …  -4.07111e-25   0.0\n",
       " 0.0  0.0  0.0  0.0  0.0  0.0  3.42392e-6      -0.0128223    -0.00398745\n",
       " 0.0  0.0  0.0  0.0  0.0  0.0  9.29354e-6       4.10962       4.03387\n",
       "\n",
       "[:, :, 3, 3] =\n",
       " -1.65336e-24  -1.65436e-24  0.0       0.0       …   7.04545e-25   0.0\n",
       " -0.143263     -0.00717209   1.01349  -0.996561     -0.0111485    -0.00369282\n",
       "  2.38954       2.57741      1.90361   1.98387       2.37889       2.47716\n",
       "\n",
       "[:, :, 4, 3] =\n",
       " -7.13688e-26  -9.12095e-27  0.0        …  -3.58507e-25   0.0\n",
       " -0.0125127    -0.000499686  0.0841423      0.00728577    0.00237686\n",
       "  0.0865521     0.014745     0.121306      -1.66966      -1.71748\n",
       "\n",
       "[:, :, 5, 3] =\n",
       " -1.00204e-27  -2.22863e-30  0.0         …  0.0  0.0  0.0  0.0  0.0  0.0  0.0\n",
       " -0.000277993  -3.67764e-7   0.00417128     0.0  0.0  0.0  0.0  0.0  0.0  0.0\n",
       "  0.000946938   3.88846e-6   0.0041019      0.0  0.0  0.0  0.0  0.0  0.0  0.0"
      ]
     },
     "metadata": {},
     "output_type": "display_data"
    },
    {
     "data": {
      "text/plain": [
       "BenchmarkTools.Trial: 1696 samples with 1 evaluation.\n",
       " Range \u001b[90m(\u001b[39m\u001b[36m\u001b[1mmin\u001b[22m\u001b[39m … \u001b[35mmax\u001b[39m\u001b[90m):  \u001b[39m\u001b[36m\u001b[1m2.463 ms\u001b[22m\u001b[39m … \u001b[35m  6.995 ms\u001b[39m  \u001b[90m┊\u001b[39m GC \u001b[90m(\u001b[39mmin … max\u001b[90m): \u001b[39m0.00% … 46.54%\n",
       " Time  \u001b[90m(\u001b[39m\u001b[34m\u001b[1mmedian\u001b[22m\u001b[39m\u001b[90m):     \u001b[39m\u001b[34m\u001b[1m2.564 ms               \u001b[22m\u001b[39m\u001b[90m┊\u001b[39m GC \u001b[90m(\u001b[39mmedian\u001b[90m):    \u001b[39m0.00%\n",
       " Time  \u001b[90m(\u001b[39m\u001b[32m\u001b[1mmean\u001b[22m\u001b[39m ± \u001b[32mσ\u001b[39m\u001b[90m):   \u001b[39m\u001b[32m\u001b[1m2.930 ms\u001b[22m\u001b[39m ± \u001b[32m828.881 μs\u001b[39m  \u001b[90m┊\u001b[39m GC \u001b[90m(\u001b[39mmean ± σ\u001b[90m):  \u001b[39m8.76% ± 14.66%\n",
       "\n",
       "  \u001b[39m█\u001b[39m█\u001b[34m▄\u001b[39m\u001b[39m▄\u001b[39m▄\u001b[39m▃\u001b[39m▁\u001b[32m▂\u001b[39m\u001b[39m▁\u001b[39m▁\u001b[39m▁\u001b[39m \u001b[39m \u001b[39m \u001b[39m \u001b[39m▁\u001b[39m▁\u001b[39m \u001b[39m \u001b[39m \u001b[39m \u001b[39m \u001b[39m \u001b[39m \u001b[39m \u001b[39m \u001b[39m \u001b[39m \u001b[39m \u001b[39m \u001b[39m \u001b[39m \u001b[39m \u001b[39m \u001b[39m \u001b[39m \u001b[39m \u001b[39m \u001b[39m \u001b[39m▃\u001b[39m▂\u001b[39m \u001b[39m \u001b[39m \u001b[39m \u001b[39m \u001b[39m \u001b[39m \u001b[39m \u001b[39m \u001b[39m \u001b[39m \u001b[39m \u001b[39m \u001b[39m \u001b[39m \u001b[39m \u001b[39m \u001b[39m \u001b[39m \u001b[39m \n",
       "  \u001b[39m█\u001b[39m█\u001b[34m█\u001b[39m\u001b[39m█\u001b[39m█\u001b[39m█\u001b[39m█\u001b[32m█\u001b[39m\u001b[39m█\u001b[39m█\u001b[39m█\u001b[39m█\u001b[39m█\u001b[39m▇\u001b[39m█\u001b[39m█\u001b[39m█\u001b[39m▆\u001b[39m▆\u001b[39m▆\u001b[39m▄\u001b[39m▄\u001b[39m▁\u001b[39m▄\u001b[39m▁\u001b[39m▁\u001b[39m▁\u001b[39m▁\u001b[39m▁\u001b[39m▁\u001b[39m▁\u001b[39m▁\u001b[39m▁\u001b[39m▁\u001b[39m▁\u001b[39m▁\u001b[39m▁\u001b[39m▁\u001b[39m▁\u001b[39m█\u001b[39m█\u001b[39m▇\u001b[39m▇\u001b[39m▇\u001b[39m▇\u001b[39m▅\u001b[39m▅\u001b[39m▆\u001b[39m▆\u001b[39m▅\u001b[39m▄\u001b[39m▁\u001b[39m▁\u001b[39m▁\u001b[39m▁\u001b[39m▄\u001b[39m▁\u001b[39m▆\u001b[39m▄\u001b[39m \u001b[39m█\n",
       "  2.46 ms\u001b[90m      \u001b[39m\u001b[90mHistogram: \u001b[39m\u001b[90m\u001b[1mlog(\u001b[22m\u001b[39m\u001b[90mfrequency\u001b[39m\u001b[90m\u001b[1m)\u001b[22m\u001b[39m\u001b[90m by time\u001b[39m      6.19 ms \u001b[0m\u001b[1m<\u001b[22m\n",
       "\n",
       " Memory estimate\u001b[90m: \u001b[39m\u001b[33m8.70 MiB\u001b[39m, allocs estimate\u001b[90m: \u001b[39m\u001b[33m57\u001b[39m."
      ]
     },
     "execution_count": 86,
     "metadata": {},
     "output_type": "execute_result"
    }
   ],
   "source": [
    "rk = f_r_orient_vec(b, Δ, idxer)\n",
    "display(rk)\n",
    "@benchmark f_r_orient_vec($b, $Δ, $idxer)"
   ]
  },
  {
   "cell_type": "code",
   "execution_count": 19,
   "metadata": {},
   "outputs": [
    {
     "data": {
      "text/plain": [
       "BenchmarkTools.Trial: 3684 samples with 1 evaluation.\n",
       " Range \u001b[90m(\u001b[39m\u001b[36m\u001b[1mmin\u001b[22m\u001b[39m … \u001b[35mmax\u001b[39m\u001b[90m):  \u001b[39m\u001b[36m\u001b[1m769.400 μs\u001b[22m\u001b[39m … \u001b[35m11.248 ms\u001b[39m  \u001b[90m┊\u001b[39m GC \u001b[90m(\u001b[39mmin … max\u001b[90m): \u001b[39m 0.00% …  0.00%\n",
       " Time  \u001b[90m(\u001b[39m\u001b[34m\u001b[1mmedian\u001b[22m\u001b[39m\u001b[90m):     \u001b[39m\u001b[34m\u001b[1m  1.067 ms              \u001b[22m\u001b[39m\u001b[90m┊\u001b[39m GC \u001b[90m(\u001b[39mmedian\u001b[90m):    \u001b[39m 0.00%\n",
       " Time  \u001b[90m(\u001b[39m\u001b[32m\u001b[1mmean\u001b[22m\u001b[39m ± \u001b[32mσ\u001b[39m\u001b[90m):   \u001b[39m\u001b[32m\u001b[1m  1.354 ms\u001b[22m\u001b[39m ± \u001b[32m 1.249 ms\u001b[39m  \u001b[90m┊\u001b[39m GC \u001b[90m(\u001b[39mmean ± σ\u001b[90m):  \u001b[39m22.22% ± 19.47%\n",
       "\n",
       "  \u001b[39m▇\u001b[39m█\u001b[39m▇\u001b[34m█\u001b[39m\u001b[39m▅\u001b[39m▄\u001b[32m▅\u001b[39m\u001b[39m▁\u001b[39m \u001b[39m \u001b[39m \u001b[39m \u001b[39m \u001b[39m \u001b[39m \u001b[39m \u001b[39m \u001b[39m \u001b[39m \u001b[39m \u001b[39m \u001b[39m \u001b[39m \u001b[39m \u001b[39m \u001b[39m \u001b[39m \u001b[39m \u001b[39m \u001b[39m \u001b[39m \u001b[39m \u001b[39m \u001b[39m \u001b[39m \u001b[39m \u001b[39m \u001b[39m \u001b[39m \u001b[39m \u001b[39m \u001b[39m \u001b[39m \u001b[39m \u001b[39m \u001b[39m \u001b[39m \u001b[39m \u001b[39m \u001b[39m▁\u001b[39m▂\u001b[39m▁\u001b[39m \u001b[39m \u001b[39m \u001b[39m \u001b[39m \u001b[39m \u001b[39m \u001b[39m \u001b[39m \u001b[39m▁\n",
       "  \u001b[39m█\u001b[39m█\u001b[39m█\u001b[34m█\u001b[39m\u001b[39m█\u001b[39m█\u001b[32m█\u001b[39m\u001b[39m█\u001b[39m▆\u001b[39m▃\u001b[39m▄\u001b[39m▄\u001b[39m▃\u001b[39m▁\u001b[39m▃\u001b[39m▁\u001b[39m▁\u001b[39m▁\u001b[39m▁\u001b[39m▁\u001b[39m▁\u001b[39m▁\u001b[39m▁\u001b[39m▁\u001b[39m▁\u001b[39m▁\u001b[39m▁\u001b[39m▁\u001b[39m▁\u001b[39m▁\u001b[39m▃\u001b[39m▁\u001b[39m▁\u001b[39m▁\u001b[39m▁\u001b[39m▁\u001b[39m▁\u001b[39m▁\u001b[39m▁\u001b[39m▁\u001b[39m▁\u001b[39m▁\u001b[39m▁\u001b[39m▁\u001b[39m▁\u001b[39m▃\u001b[39m▇\u001b[39m█\u001b[39m█\u001b[39m█\u001b[39m█\u001b[39m█\u001b[39m▇\u001b[39m▆\u001b[39m▆\u001b[39m▅\u001b[39m▆\u001b[39m▅\u001b[39m▆\u001b[39m▅\u001b[39m \u001b[39m█\n",
       "  769 μs\u001b[90m        \u001b[39m\u001b[90mHistogram: \u001b[39m\u001b[90m\u001b[1mlog(\u001b[22m\u001b[39m\u001b[90mfrequency\u001b[39m\u001b[90m\u001b[1m)\u001b[22m\u001b[39m\u001b[90m by time\u001b[39m      6.89 ms \u001b[0m\u001b[1m<\u001b[22m\n",
       "\n",
       " Memory estimate\u001b[90m: \u001b[39m\u001b[33m4.14 MiB\u001b[39m, allocs estimate\u001b[90m: \u001b[39m\u001b[33m11\u001b[39m."
      ]
     },
     "execution_count": 19,
     "metadata": {},
     "output_type": "execute_result"
    }
   ],
   "source": [
    "@benchmark rk ./ maximum(abs.(rk))"
   ]
  },
  {
   "cell_type": "code",
   "execution_count": 23,
   "metadata": {},
   "outputs": [
    {
     "data": {
      "text/plain": [
       "BenchmarkTools.Trial: 1367 samples with 1 evaluation.\n",
       " Range \u001b[90m(\u001b[39m\u001b[36m\u001b[1mmin\u001b[22m\u001b[39m … \u001b[35mmax\u001b[39m\u001b[90m):  \u001b[39m\u001b[36m\u001b[1m2.961 ms\u001b[22m\u001b[39m … \u001b[35m10.965 ms\u001b[39m  \u001b[90m┊\u001b[39m GC \u001b[90m(\u001b[39mmin … max\u001b[90m): \u001b[39m 0.00% … 65.72%\n",
       " Time  \u001b[90m(\u001b[39m\u001b[34m\u001b[1mmedian\u001b[22m\u001b[39m\u001b[90m):     \u001b[39m\u001b[34m\u001b[1m3.163 ms              \u001b[22m\u001b[39m\u001b[90m┊\u001b[39m GC \u001b[90m(\u001b[39mmedian\u001b[90m):    \u001b[39m 0.00%\n",
       " Time  \u001b[90m(\u001b[39m\u001b[32m\u001b[1mmean\u001b[22m\u001b[39m ± \u001b[32mσ\u001b[39m\u001b[90m):   \u001b[39m\u001b[32m\u001b[1m3.654 ms\u001b[22m\u001b[39m ± \u001b[32m 1.067 ms\u001b[39m  \u001b[90m┊\u001b[39m GC \u001b[90m(\u001b[39mmean ± σ\u001b[90m):  \u001b[39m13.01% ± 17.50%\n",
       "\n",
       "  \u001b[39m▂\u001b[39m▇\u001b[39m█\u001b[34m▇\u001b[39m\u001b[39m▅\u001b[39m▄\u001b[39m▂\u001b[39m \u001b[39m \u001b[39m \u001b[39m \u001b[32m \u001b[39m\u001b[39m \u001b[39m \u001b[39m \u001b[39m \u001b[39m \u001b[39m \u001b[39m \u001b[39m \u001b[39m \u001b[39m \u001b[39m \u001b[39m \u001b[39m \u001b[39m \u001b[39m \u001b[39m \u001b[39m \u001b[39m \u001b[39m \u001b[39m \u001b[39m \u001b[39m \u001b[39m \u001b[39m \u001b[39m \u001b[39m \u001b[39m▁\u001b[39m▁\u001b[39m▂\u001b[39m▃\u001b[39m▂\u001b[39m▁\u001b[39m \u001b[39m▁\u001b[39m \u001b[39m \u001b[39m \u001b[39m \u001b[39m \u001b[39m \u001b[39m \u001b[39m \u001b[39m \u001b[39m \u001b[39m \u001b[39m \u001b[39m \u001b[39m \n",
       "  \u001b[39m█\u001b[39m█\u001b[39m█\u001b[34m█\u001b[39m\u001b[39m█\u001b[39m█\u001b[39m█\u001b[39m▇\u001b[39m▆\u001b[39m▅\u001b[39m▅\u001b[32m▅\u001b[39m\u001b[39m▅\u001b[39m▁\u001b[39m▄\u001b[39m▅\u001b[39m▁\u001b[39m▄\u001b[39m▄\u001b[39m▁\u001b[39m▁\u001b[39m▄\u001b[39m▁\u001b[39m▁\u001b[39m▄\u001b[39m▁\u001b[39m▄\u001b[39m▄\u001b[39m▁\u001b[39m▁\u001b[39m▄\u001b[39m▅\u001b[39m▅\u001b[39m▁\u001b[39m▁\u001b[39m▁\u001b[39m▁\u001b[39m▄\u001b[39m█\u001b[39m█\u001b[39m█\u001b[39m█\u001b[39m█\u001b[39m█\u001b[39m█\u001b[39m█\u001b[39m▆\u001b[39m▆\u001b[39m▆\u001b[39m▇\u001b[39m▇\u001b[39m▆\u001b[39m▅\u001b[39m▅\u001b[39m▅\u001b[39m▁\u001b[39m▄\u001b[39m▅\u001b[39m \u001b[39m█\n",
       "  2.96 ms\u001b[90m      \u001b[39m\u001b[90mHistogram: \u001b[39m\u001b[90m\u001b[1mlog(\u001b[22m\u001b[39m\u001b[90mfrequency\u001b[39m\u001b[90m\u001b[1m)\u001b[22m\u001b[39m\u001b[90m by time\u001b[39m     6.73 ms \u001b[0m\u001b[1m<\u001b[22m\n",
       "\n",
       " Memory estimate\u001b[90m: \u001b[39m\u001b[33m13.12 MiB\u001b[39m, allocs estimate\u001b[90m: \u001b[39m\u001b[33m153\u001b[39m."
      ]
     },
     "execution_count": 23,
     "metadata": {},
     "output_type": "execute_result"
    }
   ],
   "source": [
    "G = f_G_mat(rk)\n",
    "@benchmark f_G_mat($rk)"
   ]
  },
  {
   "cell_type": "code",
   "execution_count": 206,
   "metadata": {},
   "outputs": [
    {
     "data": {
      "text/plain": [
       "BenchmarkTools.Trial: 2144 samples with 1 evaluation.\n",
       " Range \u001b[90m(\u001b[39m\u001b[36m\u001b[1mmin\u001b[22m\u001b[39m … \u001b[35mmax\u001b[39m\u001b[90m):  \u001b[39m\u001b[36m\u001b[1m1.139 ms\u001b[22m\u001b[39m … \u001b[35m16.316 ms\u001b[39m  \u001b[90m┊\u001b[39m GC \u001b[90m(\u001b[39mmin … max\u001b[90m): \u001b[39m 0.00% … 60.67%\n",
       " Time  \u001b[90m(\u001b[39m\u001b[34m\u001b[1mmedian\u001b[22m\u001b[39m\u001b[90m):     \u001b[39m\u001b[34m\u001b[1m1.850 ms              \u001b[22m\u001b[39m\u001b[90m┊\u001b[39m GC \u001b[90m(\u001b[39mmedian\u001b[90m):    \u001b[39m 0.00%\n",
       " Time  \u001b[90m(\u001b[39m\u001b[32m\u001b[1mmean\u001b[22m\u001b[39m ± \u001b[32mσ\u001b[39m\u001b[90m):   \u001b[39m\u001b[32m\u001b[1m2.329 ms\u001b[22m\u001b[39m ± \u001b[32m 2.125 ms\u001b[39m  \u001b[90m┊\u001b[39m GC \u001b[90m(\u001b[39mmean ± σ\u001b[90m):  \u001b[39m21.69% ± 19.08%\n",
       "\n",
       "  \u001b[39m \u001b[39m \u001b[39m \u001b[39m█\u001b[34m▃\u001b[39m\u001b[39m▁\u001b[39m \u001b[32m \u001b[39m\u001b[39m \u001b[39m \u001b[39m \u001b[39m \u001b[39m \u001b[39m \u001b[39m \u001b[39m \u001b[39m \u001b[39m \u001b[39m \u001b[39m \u001b[39m \u001b[39m \u001b[39m \u001b[39m \u001b[39m \u001b[39m \u001b[39m \u001b[39m \u001b[39m \u001b[39m \u001b[39m \u001b[39m \u001b[39m \u001b[39m \u001b[39m \u001b[39m \u001b[39m \u001b[39m \u001b[39m \u001b[39m \u001b[39m \u001b[39m \u001b[39m \u001b[39m \u001b[39m \u001b[39m \u001b[39m \u001b[39m \u001b[39m \u001b[39m \u001b[39m \u001b[39m \u001b[39m \u001b[39m \u001b[39m \u001b[39m \u001b[39m \u001b[39m \u001b[39m \u001b[39m \n",
       "  \u001b[39m▄\u001b[39m▃\u001b[39m▃\u001b[39m█\u001b[34m█\u001b[39m\u001b[39m█\u001b[39m▂\u001b[32m▂\u001b[39m\u001b[39m▂\u001b[39m▁\u001b[39m▁\u001b[39m▁\u001b[39m▁\u001b[39m▁\u001b[39m▁\u001b[39m▁\u001b[39m▁\u001b[39m▁\u001b[39m▁\u001b[39m▁\u001b[39m▁\u001b[39m▂\u001b[39m▂\u001b[39m▁\u001b[39m▁\u001b[39m▁\u001b[39m▁\u001b[39m▁\u001b[39m▁\u001b[39m▁\u001b[39m▁\u001b[39m▁\u001b[39m▁\u001b[39m▁\u001b[39m▁\u001b[39m▁\u001b[39m▁\u001b[39m▁\u001b[39m▁\u001b[39m▁\u001b[39m▁\u001b[39m▁\u001b[39m▁\u001b[39m▁\u001b[39m▁\u001b[39m▁\u001b[39m▁\u001b[39m▁\u001b[39m▂\u001b[39m▁\u001b[39m▁\u001b[39m▁\u001b[39m▁\u001b[39m▂\u001b[39m▂\u001b[39m▂\u001b[39m▃\u001b[39m▂\u001b[39m \u001b[39m▂\n",
       "  1.14 ms\u001b[90m        Histogram: frequency by time\u001b[39m        11.3 ms \u001b[0m\u001b[1m<\u001b[22m\n",
       "\n",
       " Memory estimate\u001b[90m: \u001b[39m\u001b[33m8.15 MiB\u001b[39m, allocs estimate\u001b[90m: \u001b[39m\u001b[33m2\u001b[39m."
      ]
     },
     "execution_count": 206,
     "metadata": {},
     "output_type": "execute_result"
    }
   ],
   "source": [
    "Φ = f_Φ(U, Y, G, 59)\n",
    "@benchmark f_Φ($U, $Y, $G, 59)"
   ]
  },
  {
   "cell_type": "code",
   "execution_count": 328,
   "metadata": {
    "scrolled": true
   },
   "outputs": [
    {
     "name": "stdout",
     "output_type": "stream",
     "text": [
      "U -0.5797520405478458 -1.0 0.0 0.2900095253731425\n",
      "b 0.01701748041385712 -0.25 0.76041202189571 0.059169315456611256\n",
      "Y 0.03403496082771424 -0.3832001580107737 0.7611893352040209 0.08443718931310261\n",
      "rk -0.008908869062954163 -0.5636557216268155 0.5367028157760589 0.0525513751194236\n",
      "G 0.004023272507118442 -0.1428144911012107 0.3194900981574427 0.018029137279815796\n",
      "Φ -0.008275105587526695 -1.0 0.7611893352040209 0.09293407838228224\n"
     ]
    }
   ],
   "source": [
    "#tchebyshev:\n",
    "C, R_h, R_low, R_0, R_m,R_up, R_C = (1., 0.01, 0.02, 0.5, .9, 10., 11.)\n",
    "ub = 1.; lb = -1.\n",
    "#C, R_h, R_low, R_0, R_m,R_up, R_C = rand(7).* (ub-lb) .+ lb;\n",
    "n_atom, n_basis, g, e = (3, 59, 6, 3)\n",
    "r_xy, N, max_deg = (1.4172946, 5, 5)\n",
    "U = f_U_bas(R, idxer, C, R_h, R_C, R_0, g)\n",
    "println(\"U \",mean(U), \" \", minimum(U), \" \", maximum(U),\" \", std(U))\n",
    "b = f_b_feature(R, R_up, R_m, R_low, max_deg, e)\n",
    "println(\"b \",mean(b), \" \", minimum(b), \" \", maximum(b),\" \", std(b))\n",
    "Y = f_Y_coord(b, idxer)\n",
    "println(\"Y \",mean(Y), \" \", minimum(Y), \" \", maximum(Y),\" \", std(Y))\n",
    "Δ = f_Δcoord(H_coord)\n",
    "rk = f_r_orient_vec(b, Δ, idxer)\n",
    "println(\"rk \",mean(rk), \" \", minimum(rk), \" \", maximum(rk),\" \", std(rk))\n",
    "G = f_G_mat(rk)\n",
    "println(\"G \",mean(G), \" \", minimum(G), \" \", maximum(G),\" \", std(G))\n",
    "Φ = f_Φ(U, Y, G, n_basis)\n",
    "println(\"Φ \", mean(Φ), \" \", minimum(Φ), \" \", maximum(Φ),\" \", std(Φ))"
   ]
  },
  {
   "cell_type": "code",
   "execution_count": 358,
   "metadata": {},
   "outputs": [
    {
     "name": "stdout",
     "output_type": "stream",
     "text": [
      "U 0.17446762098153076 -1.0 0.6645603457001372 0.17504937067490542\n",
      "b 0.19917250000016573 -0.27741450205575025 0.9999999999971216 0.3512228536714614\n",
      "Y 0.19917268302859983 -0.2773363656679622 1.0 0.32475124560286583\n",
      "rk 0.009894944977976943 -0.958809741264912 1.0 0.07816680420165806\n",
      "G 0.005252716778684095 -0.03597578058302146 1.000027646724492 0.037276237975188094\n",
      "Φ 0.04822399163953965 -1.0 1.0000552942133254 0.14208278850915093\n"
     ]
    }
   ],
   "source": [
    "#BUMP:\n",
    "# hyperparam:\n",
    "N = 2; max_deg = 5; e_pow = 3; n_basis = 59; const_r_xy = 1.4172946; \n",
    "ub = 1.; lb = -1.; θ = rand(2*N+2) .* (ub-lb) .+ lb;\n",
    "Θ = rand(n_basis, 6) .* (ub-lb) .+ lb;\n",
    "ρ,u,w,x,y = BUMP_feature(θ, R, const_r_xy, N);\n",
    "U = f_U_bas_BUMP(idxer, u, w, ρ, e_pow)\n",
    "println(\"U \",mean(U), \" \", minimum(U), \" \", maximum(U),\" \", std(U))\n",
    "b = concat_BUMP(x, y, max_deg);\n",
    "println(\"b \",mean(b), \" \", minimum(b), \" \", maximum(b),\" \", std(b))\n",
    "Y = f_Y_coord(b, idxer)\n",
    "Y = Y ./ maximum(abs.(Y))\n",
    "println(\"Y \",mean(Y), \" \", minimum(Y), \" \", maximum(Y),\" \", std(Y))\n",
    "Δ = f_Δcoord(H_coord)\n",
    "rk = f_r_orient_vec(b, Δ, idxer)\n",
    "rk = rk ./ maximum(abs.(rk))\n",
    "println(\"rk \",mean(rk), \" \", minimum(rk), \" \", maximum(rk),\" \", std(rk))\n",
    "G = f_G_mat(rk)\n",
    "#G = G ./ maximum(abs.(G))\n",
    "println(\"G \",mean(G), \" \", minimum(G), \" \", maximum(G),\" \", std(G))\n",
    "Φ = f_Φ(U, Y, G, n_basis)\n",
    "#Φ = Φ./maximum(abs.(Φ))\n",
    "println(\"Φ \",mean(Φ), \" \", minimum(Φ), \" \", maximum(Φ),\" \", std(Φ))"
   ]
  },
  {
   "cell_type": "code",
   "execution_count": 326,
   "metadata": {
    "scrolled": true
   },
   "outputs": [
    {
     "name": "stdout",
     "output_type": "stream",
     "text": [
      "  754.900 μs (11 allocations: 4.14 MiB)\n",
      "  91.500 μs (9 allocations: 1.38 MiB)\n",
      "  912.600 μs (11 allocations: 6.90 MiB)\n",
      "  2.397 ms (9 allocations: 16.29 MiB)\n"
     ]
    },
    {
     "data": {
      "text/plain": [
       "6032×59×3 Array{Float64, 3}:\n",
       "[:, :, 1] =\n",
       "  1.12042e-6  0.0          0.0         0.0         …   0.0         0.0\n",
       "  9.97653e-7  0.0          0.0         0.0             0.0         0.0\n",
       "  1.09305e-6  0.0          0.0         0.0             0.0         0.0\n",
       "  1.09305e-6  0.0          0.0         0.0             0.0         0.0\n",
       "  9.40725e-7  0.0          0.0         0.0             0.0         0.0\n",
       "  9.40725e-7  0.0          0.0         0.0         …   0.0         0.0\n",
       "  8.17953e-7  0.0          0.0         0.0             0.0         0.0\n",
       "  7.23381e-7  0.0          0.0         0.0             0.0         0.0\n",
       "  7.88398e-7  0.0          0.0         0.0             0.0         0.0\n",
       "  7.88398e-7  0.0          0.0         0.0             0.0         0.0\n",
       "  7.88398e-7  0.0          0.0         0.0         …   0.0         0.0\n",
       "  6.65625e-7  0.0          0.0         0.0             0.0         0.0\n",
       "  6.65625e-7  0.0          0.0         0.0             0.0         0.0\n",
       "  ⋮                                                ⋱               \n",
       " -1.57057e-8  4.11672e-7  -3.91153e-9  1.02527e-7  …  -3.15725e-6  5.54131e-6\n",
       " -1.17679e-8  3.08325e-7  -2.19505e-9  5.75113e-8     -1.68084e-6  4.25612e-6\n",
       " -7.03282e-9  7.45231e-7  -3.17072e-9  3.35985e-7     -7.91037e-6  1.44649e-5\n",
       " -7.10631e-9  7.28696e-7  -3.13276e-9  3.2124e-7      -7.65104e-6  1.42135e-5\n",
       "  1.28812e-6  9.24721e-7   7.20614e-7  5.17319e-7     -1.25523e-5  1.11382e-5\n",
       "  1.30957e-6  9.73152e-7   7.70985e-7  5.72926e-7  …  -1.36877e-5  1.14272e-5\n",
       "  1.26026e-6  9.27435e-7   7.07101e-7  5.20361e-7     -1.26189e-5  1.11539e-5\n",
       "  1.2953e-6   1.03183e-6   8.08568e-7  6.44099e-7     -1.50801e-5  1.17052e-5\n",
       "  1.31664e-6  9.56213e-7   7.61655e-7  5.53155e-7     -1.32794e-5  1.13367e-5\n",
       "  1.32704e-6  9.78591e-7   7.85641e-7  5.79348e-7     -1.38258e-5  1.14516e-5\n",
       "  1.28427e-6  9.76978e-7   7.59063e-7  5.7744e-7   …  -1.37826e-5  1.14454e-5\n",
       "  1.32759e-6  9.50995e-7   7.63801e-7  5.47134e-7     -1.31591e-5  1.13049e-5\n",
       "\n",
       "[:, :, 2] =\n",
       "  1.07397e-6  0.0          0.0         0.0         …   0.0         0.0\n",
       "  9.95131e-7  0.0          0.0         0.0             0.0         0.0\n",
       "  9.80698e-7  0.0          0.0         0.0             0.0         0.0\n",
       "  9.07721e-7  0.0          0.0         0.0             0.0         0.0\n",
       "  9.04007e-7  0.0          0.0         0.0             0.0         0.0\n",
       "  8.37486e-7  0.0          0.0         0.0         …   0.0         0.0\n",
       "  7.72374e-7  0.0          0.0         0.0             0.0         0.0\n",
       "  7.14497e-7  0.0          0.0         0.0             0.0         0.0\n",
       "  7.62006e-7  0.0          0.0         0.0             0.0         0.0\n",
       "  6.90366e-7  0.0          0.0         0.0             0.0         0.0\n",
       "  6.2943e-7   0.0          0.0         0.0         …   0.0         0.0\n",
       "  6.31151e-7  0.0          0.0         0.0             0.0         0.0\n",
       "  5.77188e-7  0.0          0.0         0.0             0.0         0.0\n",
       "  ⋮                                                ⋱               \n",
       " -1.49402e-8  6.13488e-7  -5.54499e-9  2.27693e-7  …  -5.86063e-6  4.86122e-6\n",
       " -1.04954e-8  5.57786e-7  -3.54164e-9  1.88223e-7     -3.53905e-6  3.51381e-6\n",
       " -7.01364e-9  7.49555e-7  -3.18042e-9  3.39894e-7     -2.97969e-6  5.30763e-6\n",
       " -7.09682e-9  7.30741e-7  -3.13736e-9  3.23046e-7     -2.80047e-6  5.11673e-6\n",
       "  1.28815e-6  9.36179e-7   7.2956e-7   5.30219e-7     -1.28205e-5  1.12105e-5\n",
       "  1.30968e-6  1.01638e-6   8.05296e-7  6.2495e-7   …  -1.47216e-5  1.16356e-5\n",
       "  1.26031e-6  9.48226e-7   7.22983e-7  5.43953e-7     -1.31055e-5  1.12825e-5\n",
       "  1.29533e-6  1.04121e-6   8.15936e-7  6.55867e-7     -1.53129e-5  1.17373e-5\n",
       "  1.31666e-6  9.64347e-7   7.68146e-7  5.62606e-7     -1.34732e-5  1.1382e-5\n",
       "  1.32725e-6  1.06252e-6   8.5316e-7   6.82991e-7     -1.58532e-5  1.17963e-5\n",
       "  1.28438e-6  1.02263e-6   7.94606e-7  6.32669e-7  …  -1.48789e-5  1.16585e-5\n",
       "  1.32763e-6  9.65017e-7   7.75084e-7  5.63387e-7     -1.34897e-5  1.13853e-5\n",
       "\n",
       "[:, :, 3] =\n",
       "  7.41939e-7  0.0          0.0         0.0         …   0.0         0.0\n",
       "  5.40332e-7  0.0          0.0         0.0             0.0         0.0\n",
       "  9.80698e-7  0.0          0.0         0.0             0.0         0.0\n",
       "  9.07721e-7  0.0          0.0         0.0             0.0         0.0\n",
       "  7.5168e-7   0.0          0.0         0.0             0.0         0.0\n",
       "  6.85159e-7  0.0          0.0         0.0         …   0.0         0.0\n",
       "  4.97274e-7  0.0          0.0         0.0             0.0         0.0\n",
       "  3.44826e-7  0.0          0.0         0.0             0.0         0.0\n",
       "  7.62006e-7  0.0          0.0         0.0             0.0         0.0\n",
       "  6.90366e-7  0.0          0.0         0.0             0.0         0.0\n",
       "  6.2943e-7   0.0          0.0         0.0         …   0.0         0.0\n",
       "  5.08378e-7  0.0          0.0         0.0             0.0         0.0\n",
       "  4.54416e-7  0.0          0.0         0.0             0.0         0.0\n",
       "  ⋮                                                ⋱               \n",
       " -5.88266e-9  1.02018e-6  -3.63067e-9  6.29635e-7  …  -1.71224e-5  2.53096e-5\n",
       " -7.09403e-9  7.69285e-7  -3.30155e-9  3.58024e-7     -1.01977e-5  1.79925e-5\n",
       " -6.51932e-9  8.46938e-7  -3.34034e-9  4.33951e-7     -1.04738e-5  1.77519e-5\n",
       " -6.69265e-9  8.08724e-7  -3.27443e-9  3.95675e-7     -9.61208e-6  1.67852e-5\n",
       " -3.30943e-9  1.8609e-6   -3.72575e-9  2.095e-6       -5.05835e-5  4.45763e-5\n",
       " -2.98301e-9  1.98953e-6  -3.59039e-9  2.39462e-6  …  -5.66413e-5  4.60654e-5\n",
       " -3.27161e-9  1.87566e-6  -3.71238e-9  2.12837e-6     -5.12632e-5  4.47641e-5\n",
       " -2.77419e-9  2.07304e-6  -3.47922e-9  2.59988e-6     -6.06226e-5  4.67799e-5\n",
       " -3.15691e-9  1.92056e-6  -3.66798e-9  2.23148e-6     -5.33528e-5  4.53197e-5\n",
       " -2.85488e-9  2.04112e-6  -3.52527e-9  2.52042e-6     -5.92269e-5  4.65543e-5\n",
       " -2.95773e-9  1.99961e-6  -3.57801e-9  2.41896e-6  …  -5.71227e-5  4.61603e-5\n",
       " -3.16851e-9  1.91601e-6  -3.67274e-9  2.22092e-6     -5.31442e-5  4.52684e-5"
      ]
     },
     "execution_count": 326,
     "metadata": {},
     "output_type": "execute_result"
    }
   ],
   "source": [
    "@btime rk ./ maximum(abs.(rk));\n",
    "@btime Y ./ maximum(abs.(Y));\n",
    "@btime G ./ maximum(abs.(G));\n",
    "@btime Φ./maximum(abs.(Φ));"
   ]
  },
  {
   "cell_type": "code",
   "execution_count": 9,
   "metadata": {
    "scrolled": true
   },
   "outputs": [
    {
     "data": {
      "text/plain": [
       "6032×1 Matrix{Float64}:\n",
       " -0.8569920857223543\n",
       " -0.8317348505016204\n",
       " -0.8589657693380995\n",
       " -0.8289011093782888\n",
       " -0.7743863730155671\n",
       " -0.7641418758882746\n",
       " -0.7593882246580776\n",
       " -0.7786436725077661\n",
       " -0.7303672802089959\n",
       " -0.7321024453977021\n",
       " -0.7433144666822109\n",
       " -0.7620786986682404\n",
       " -0.7784694562652015\n",
       "  ⋮\n",
       " -3.280017631174896\n",
       " -3.310090412693029\n",
       " -3.778974835247613\n",
       " -3.7480866136213917\n",
       " -2.4650824839501606\n",
       " -2.54093001131163\n",
       " -2.4341251926178007\n",
       " -2.5534968246589824\n",
       " -2.5264452378350164\n",
       " -2.5820407262497795\n",
       " -2.510109150606542\n",
       " -2.5396736261502526"
      ]
     },
     "metadata": {},
     "output_type": "display_data"
    },
    {
     "data": {
      "text/plain": [
       "BenchmarkTools.Trial: 273 samples with 1 evaluation.\n",
       " Range \u001b[90m(\u001b[39m\u001b[36m\u001b[1mmin\u001b[22m\u001b[39m … \u001b[35mmax\u001b[39m\u001b[90m):  \u001b[39m\u001b[36m\u001b[1m13.314 ms\u001b[22m\u001b[39m … \u001b[35m40.343 ms\u001b[39m  \u001b[90m┊\u001b[39m GC \u001b[90m(\u001b[39mmin … max\u001b[90m): \u001b[39m 0.00% … 26.55%\n",
       " Time  \u001b[90m(\u001b[39m\u001b[34m\u001b[1mmedian\u001b[22m\u001b[39m\u001b[90m):     \u001b[39m\u001b[34m\u001b[1m18.478 ms              \u001b[22m\u001b[39m\u001b[90m┊\u001b[39m GC \u001b[90m(\u001b[39mmedian\u001b[90m):    \u001b[39m24.45%\n",
       " Time  \u001b[90m(\u001b[39m\u001b[32m\u001b[1mmean\u001b[22m\u001b[39m ± \u001b[32mσ\u001b[39m\u001b[90m):   \u001b[39m\u001b[32m\u001b[1m18.326 ms\u001b[22m\u001b[39m ± \u001b[32m 3.058 ms\u001b[39m  \u001b[90m┊\u001b[39m GC \u001b[90m(\u001b[39mmean ± σ\u001b[90m):  \u001b[39m20.51% ± 11.34%\n",
       "\n",
       "  \u001b[39m \u001b[39m \u001b[39m \u001b[39m \u001b[39m \u001b[39m▁\u001b[39m \u001b[39m \u001b[39m \u001b[39m \u001b[39m \u001b[39m \u001b[39m \u001b[39m \u001b[39m \u001b[39m \u001b[39m \u001b[39m \u001b[39m▅\u001b[39m█\u001b[34m█\u001b[39m\u001b[39m█\u001b[39m▂\u001b[39m \u001b[39m \u001b[39m \u001b[39m \u001b[39m \u001b[39m \u001b[39m \u001b[39m \u001b[39m \u001b[39m \u001b[39m \u001b[39m \u001b[39m \u001b[39m \u001b[39m \u001b[39m \u001b[39m \u001b[39m \u001b[39m \u001b[39m \u001b[39m \u001b[39m \u001b[39m \u001b[39m \u001b[39m \u001b[39m \u001b[39m \u001b[39m \u001b[39m \u001b[39m \u001b[39m \u001b[39m \u001b[39m \u001b[39m \u001b[39m \u001b[39m \u001b[39m \u001b[39m \n",
       "  \u001b[39m█\u001b[39m▃\u001b[39m▃\u001b[39m▃\u001b[39m█\u001b[39m█\u001b[39m▆\u001b[39m▄\u001b[39m▃\u001b[39m▃\u001b[39m▄\u001b[39m▄\u001b[39m▂\u001b[39m▁\u001b[39m▂\u001b[39m▂\u001b[39m▅\u001b[39m█\u001b[39m█\u001b[39m█\u001b[34m█\u001b[39m\u001b[39m█\u001b[39m█\u001b[39m▆\u001b[39m▄\u001b[39m▇\u001b[39m▄\u001b[39m▆\u001b[39m▃\u001b[39m▅\u001b[39m▄\u001b[39m▄\u001b[39m▂\u001b[39m▄\u001b[39m▂\u001b[39m▃\u001b[39m▁\u001b[39m▂\u001b[39m▃\u001b[39m▂\u001b[39m▂\u001b[39m▁\u001b[39m▁\u001b[39m▁\u001b[39m▁\u001b[39m▁\u001b[39m▁\u001b[39m▁\u001b[39m▂\u001b[39m▁\u001b[39m▁\u001b[39m▁\u001b[39m▁\u001b[39m▁\u001b[39m▁\u001b[39m▁\u001b[39m▁\u001b[39m▁\u001b[39m▂\u001b[39m \u001b[39m▃\n",
       "  13.3 ms\u001b[90m         Histogram: frequency by time\u001b[39m        28.5 ms \u001b[0m\u001b[1m<\u001b[22m\n",
       "\n",
       " Memory estimate\u001b[90m: \u001b[39m\u001b[33m51.01 MiB\u001b[39m, allocs estimate\u001b[90m: \u001b[39m\u001b[33m90930\u001b[39m."
      ]
     },
     "execution_count": 9,
     "metadata": {},
     "output_type": "execute_result"
    }
   ],
   "source": [
    "idxer = atom_indexer(3)\n",
    "N = 2; max_deg = 5; e_pow = 3; n_basis = 59; const_r_xy = 1.4172946; \n",
    "ub = 1.; lb = -1.; θ = rand(2*N+2) .* (ub-lb) .+ lb;\n",
    "Θ = rand(n_basis, 6) .* (ub-lb) .+ lb;\n",
    "V = f_pot_bond_BUMP(θ, Θ, R, H_coord, idxer, const_r_xy, n_basis, N, e_pow, max_deg)\n",
    "display(V)\n",
    "@benchmark f_pot_bond_BUMP($θ, $Θ, $R, $H_coord, $idxer, $const_r_xy, $n_basis, $N, $e_pow, $max_deg)"
   ]
  },
  {
   "cell_type": "markdown",
   "metadata": {},
   "source": [
    "### Absolute error plot:"
   ]
  },
  {
   "cell_type": "code",
   "execution_count": 67,
   "metadata": {},
   "outputs": [
    {
     "data": {
      "text/plain": [
       "plot_error (generic function with 1 method)"
      ]
     },
     "execution_count": 67,
     "metadata": {},
     "output_type": "execute_result"
    }
   ],
   "source": [
    "function plot_error()\n",
    "    H_data = readdlm(\"data/diatomic/oh+_data.txt\")\n",
    "    R = H_data[:, 1]; V = H_data[:, 2]\n",
    "    Xs, Ys = shuffleobs((R, V))\n",
    "    train_data, test_data = splitobs((Xs, Ys); at=0.8)\n",
    "    R_train = copy(train_data[1]); V_train = copy(train_data[2]);\n",
    "    R_test = copy(test_data[1]); V_test = copy(test_data[2]);\n",
    "\n",
    "    # hyperparam:\n",
    "    ## RAT:\n",
    "    #const_r_xy = 1.4172946 # H2\n",
    "    const_r_xy = 1.9369 #OH+\n",
    "    max_tcheb_deg = 5;\n",
    "    ## BUMP:\n",
    "    N = 5\n",
    "\n",
    "    # tuning param:\n",
    "    ub = 1.; lb = -1.;\n",
    "    θ_r = rand(max_tcheb_deg+1) .* (ub-lb) .+ lb; # RAT\n",
    "    θ_b = rand(2*N+2) .* (ub-lb) .+ lb; # BUMP\n",
    "\n",
    "    # storage:\n",
    "    df_train = DataFrame(power=[], RAT=[], RAT1=[], RAT2=[], BUMP=[])\n",
    "    df_test = DataFrame(power=[], RAT=[], RAT1=[], RAT2=[], BUMP=[])\n",
    "\n",
    "    # one-time computations, for RAT:\n",
    "    ρ = f_ρ(R_train, const_r_xy)\n",
    "    q = f_q(ρ)\n",
    "    p_pol = f_tcheb_u(q, max_tcheb_deg)\n",
    "    # one-time comp, BUMP:\n",
    "    ρ_b = f_ρ(R_train, const_r_xy)\n",
    "    q_b = f_q_bump(N, ρ_b)\n",
    "    i_b = f_i(q_b)\n",
    "    ϵ_b = f_ϵ(i_b, q_b)\n",
    "    α_b = f_α(ϵ_b)\n",
    "    β_b = f_β(ϵ_b)\n",
    "\n",
    "    # repeated computations:\n",
    "    for e_pow ∈ [1,6]\n",
    "        # RATPOT default:\n",
    "        res = LsqFit.curve_fit((p_pol, θ) -> v_RATPOT_u(θ, p_pol, ρ, e_pow), p_pol, V_train, θ_r, show_trace=false, maxIter=500)\n",
    "        V_pred = v_RATPOT_u(res.param, p_pol, ρ, e_pow)\n",
    "        rmse_r = f_RMSE(V_train, V_pred)\n",
    "        # plot:\n",
    "        ϵ = abs.(V_train .- V_pred)\n",
    "        ϵ_pow = (q .^ 6) .*ϵ\n",
    "        idx = sortperm(q)\n",
    "        display(plot(q[idx], [ϵ[idx], ϵ_pow[idx]], \n",
    "                xlabel = L\"$q$\", ylabel = L\"$\\epsilon$\", \n",
    "                title = \"OH+, power = \"*string(e_pow)*\" , rmse = \"*string(rmse_r), \n",
    "                label = [L\"$ \\epsilon (q)$\" L\"$q^6 \\epsilon (q)$\"], \n",
    "                linestyles = [:auto :auto],\n",
    "                fmt = :png))\n",
    "        println(rmse_r)\n",
    "        #=\n",
    "        # RATPOT scale 1:\n",
    "        V_train_tr = V_train .* (ρ .+ (ρ .^ e_pow))\n",
    "        res = LsqFit.curve_fit((p_pol, θ) -> f_RATPOT_u(θ, p_pol), p_pol, V_train_tr, θ_r, show_trace=false, maxIter=500)\n",
    "        V_pred = f_RATPOT_u(res.param, p_pol)\n",
    "        rmse_r1 = f_RMSE(V_train_tr, V_pred)\n",
    "        # RATPOT scale 2:\n",
    "        V_train_tr = V_train .* ρ\n",
    "        res = LsqFit.curve_fit((p_pol, θ) -> f_RATPOT_u(θ, p_pol, ρ, e_pow), p_pol, V_train_tr, θ_r, show_trace=false, maxIter=500)\n",
    "        V_pred = f_RATPOT_u(res.param, p_pol, ρ, e_pow)\n",
    "        rmse_r2 = f_RMSE(V_train_tr, V_pred)\n",
    "        # BUMP:\n",
    "        res = LsqFit.curve_fit((ρ_b, θ_b) -> v_BUMP_di(θ_b, ρ_b, q_b, α_b, β_b, i_b, N, e_pow), ρ_b, V_train, θ_b, show_trace=false, maxIter=500)\n",
    "        V_pred = v_BUMP_di(res.param, ρ_b, q_b, α_b, β_b, i_b, N, e_pow)\n",
    "        rmse_b = f_RMSE(V_train, V_pred)\n",
    "        =#\n",
    "    end\n",
    "end\n"
   ]
  },
  {
   "cell_type": "code",
   "execution_count": 68,
   "metadata": {},
   "outputs": [
    {
     "data": {
      "image/png": "[encoded data removed]"
     },
     "metadata": {},
     "output_type": "display_data"
    },
    {
     "data": {
      "image/png": "[encoded data removed]"
     },
     "metadata": {},
     "output_type": "display_data"
    },
    {
     "name": "stdout",
     "output_type": "stream",
     "text": [
      "0.0008015795570935559\n",
      "0.1655511152298884\n"
     ]
    }
   ],
   "source": [
    "plot_error()"
   ]
  },
  {
   "cell_type": "code",
   "execution_count": null,
   "metadata": {},
   "outputs": [],
   "source": []
  }
 ],
 "metadata": {
  "kernelspec": {
   "display_name": "Julia 1.6.1",
   "language": "julia",
   "name": "julia-1.6"
  },
  "language_info": {
   "file_extension": ".jl",
   "mimetype": "application/julia",
   "name": "julia",
   "version": "1.6.1"
  }
 },
 "nbformat": 4,
 "nbformat_minor": 2
}
